{
  "cells": [
    {
      "cell_type": "markdown",
      "metadata": {
        "id": "bKfwruwkVr8u"
      },
      "source": [
        "## **Titanic dataset**\n",
        "\n",
        "- Explore: Bagaimana setiap feature berhubungan dengan apakah seseorang survive/alive? Lakukan EDA dan jelaskan hasil yang didapat!\n",
        "\n",
        "- Splitting: 80-20, stratify: y, random_state = 0\n",
        "\n",
        "- Preprocessing:\n",
        "    - Drop deck\n",
        "    - Isi missing value menggunakan simple imputer\n",
        "    - One hot encoding: sex, alone\n",
        "    - Ordinal encoding: class\n",
        "    - Binary encoding: embark town\n",
        "\n",
        "- Model selection:\n",
        "    - Evaluation metrics dengan F1_score\n",
        "    - Kandidat model: Logreg, KNN, DecisionTreeClassifier, RandomForestClassifier\n",
        "    - Pilih 2 model terbaik dan lakukan Hyperparameter tuning pada kedua model tersebut\n",
        "    - Buat kesimpulan model mana yang terbaik untuk titanic dataset\n",
        "\n",
        "\\* tips: gunakan pipeline ketika diperlukan untuk menghindari data leakage.\n",
        "\n",
        "\\* Hyperparameter tuning untuk Random Forest:\n",
        "- n_estimators = 100-2000\n",
        "- max_features = 2-8\n",
        "- max_depth = 5-100\n",
        "- min_samples_split = 2-20\n",
        "- min_samples_leaf = 1-20"
      ]
    },
    {
      "cell_type": "markdown",
      "metadata": {
        "id": "mfuqMojDVr83"
      },
      "source": [
        "## **Import libraries**"
      ]
    },
    {
      "cell_type": "code",
      "execution_count": null,
      "metadata": {
        "id": "P7EVOQ-YVr86"
      },
      "outputs": [],
      "source": [
        "import numpy as np\n",
        "import pandas as pd\n",
        "import matplotlib.pyplot as plt\n",
        "import seaborn as sns\n",
        "\n",
        "from sklearn.model_selection import train_test_split\n",
        "\n",
        "from sklearn.preprocessing import OneHotEncoder\n",
        "from sklearn.compose import ColumnTransformer\n",
        "from sklearn.impute import SimpleImputer\n",
        "import category_encoders as ce\n",
        "\n",
        "from sklearn.preprocessing import StandardScaler, RobustScaler\n",
        "from sklearn.pipeline import Pipeline\n",
        "from sklearn.metrics import confusion_matrix, f1_score, recall_score, precision_score, classification_report, accuracy_score\n",
        "\n",
        "from sklearn.model_selection import cross_val_score, StratifiedKFold\n",
        "from sklearn.metrics import plot_roc_curve, plot_precision_recall_curve\n",
        "from sklearn.model_selection import GridSearchCV, RandomizedSearchCV\n",
        "import warnings\n",
        "\n",
        "from sklearn.linear_model import LogisticRegression\n",
        "from sklearn.ensemble import VotingClassifier, RandomForestClassifier\n",
        "from sklearn.tree import plot_tree, DecisionTreeClassifier\n",
        "from sklearn.neighbors import KNeighborsClassifier\n",
        "\n",
        "import warnings\n",
        "warnings.filterwarnings('ignore')\n"
      ]
    },
    {
      "cell_type": "markdown",
      "metadata": {
        "id": "NVb2XLGIVr89"
      },
      "source": [
        "## **Load data**"
      ]
    },
    {
      "cell_type": "code",
      "execution_count": null,
      "metadata": {
        "id": "8X_aGNX_Vr8-",
        "outputId": "35c39616-984d-465d-efd2-d7789dd27d33"
      },
      "outputs": [
        {
          "data": {
            "text/html": [
              "<div>\n",
              "<style scoped>\n",
              "    .dataframe tbody tr th:only-of-type {\n",
              "        vertical-align: middle;\n",
              "    }\n",
              "\n",
              "    .dataframe tbody tr th {\n",
              "        vertical-align: top;\n",
              "    }\n",
              "\n",
              "    .dataframe thead th {\n",
              "        text-align: right;\n",
              "    }\n",
              "</style>\n",
              "<table border=\"1\" class=\"dataframe\">\n",
              "  <thead>\n",
              "    <tr style=\"text-align: right;\">\n",
              "      <th></th>\n",
              "      <th>sex</th>\n",
              "      <th>age</th>\n",
              "      <th>parch</th>\n",
              "      <th>fare</th>\n",
              "      <th>class</th>\n",
              "      <th>deck</th>\n",
              "      <th>embark_town</th>\n",
              "      <th>alive</th>\n",
              "      <th>alone</th>\n",
              "    </tr>\n",
              "  </thead>\n",
              "  <tbody>\n",
              "    <tr>\n",
              "      <th>0</th>\n",
              "      <td>male</td>\n",
              "      <td>22.0</td>\n",
              "      <td>0</td>\n",
              "      <td>7.2500</td>\n",
              "      <td>Third</td>\n",
              "      <td>NaN</td>\n",
              "      <td>Southampton</td>\n",
              "      <td>no</td>\n",
              "      <td>False</td>\n",
              "    </tr>\n",
              "    <tr>\n",
              "      <th>1</th>\n",
              "      <td>female</td>\n",
              "      <td>38.0</td>\n",
              "      <td>0</td>\n",
              "      <td>71.2833</td>\n",
              "      <td>First</td>\n",
              "      <td>C</td>\n",
              "      <td>Cherbourg</td>\n",
              "      <td>yes</td>\n",
              "      <td>False</td>\n",
              "    </tr>\n",
              "    <tr>\n",
              "      <th>2</th>\n",
              "      <td>female</td>\n",
              "      <td>26.0</td>\n",
              "      <td>0</td>\n",
              "      <td>7.9250</td>\n",
              "      <td>Third</td>\n",
              "      <td>NaN</td>\n",
              "      <td>Southampton</td>\n",
              "      <td>yes</td>\n",
              "      <td>True</td>\n",
              "    </tr>\n",
              "    <tr>\n",
              "      <th>3</th>\n",
              "      <td>female</td>\n",
              "      <td>35.0</td>\n",
              "      <td>0</td>\n",
              "      <td>53.1000</td>\n",
              "      <td>First</td>\n",
              "      <td>C</td>\n",
              "      <td>Southampton</td>\n",
              "      <td>yes</td>\n",
              "      <td>False</td>\n",
              "    </tr>\n",
              "    <tr>\n",
              "      <th>4</th>\n",
              "      <td>male</td>\n",
              "      <td>35.0</td>\n",
              "      <td>0</td>\n",
              "      <td>8.0500</td>\n",
              "      <td>Third</td>\n",
              "      <td>NaN</td>\n",
              "      <td>Southampton</td>\n",
              "      <td>no</td>\n",
              "      <td>True</td>\n",
              "    </tr>\n",
              "    <tr>\n",
              "      <th>...</th>\n",
              "      <td>...</td>\n",
              "      <td>...</td>\n",
              "      <td>...</td>\n",
              "      <td>...</td>\n",
              "      <td>...</td>\n",
              "      <td>...</td>\n",
              "      <td>...</td>\n",
              "      <td>...</td>\n",
              "      <td>...</td>\n",
              "    </tr>\n",
              "    <tr>\n",
              "      <th>886</th>\n",
              "      <td>male</td>\n",
              "      <td>27.0</td>\n",
              "      <td>0</td>\n",
              "      <td>13.0000</td>\n",
              "      <td>Second</td>\n",
              "      <td>NaN</td>\n",
              "      <td>Southampton</td>\n",
              "      <td>no</td>\n",
              "      <td>True</td>\n",
              "    </tr>\n",
              "    <tr>\n",
              "      <th>887</th>\n",
              "      <td>female</td>\n",
              "      <td>19.0</td>\n",
              "      <td>0</td>\n",
              "      <td>30.0000</td>\n",
              "      <td>First</td>\n",
              "      <td>B</td>\n",
              "      <td>Southampton</td>\n",
              "      <td>yes</td>\n",
              "      <td>True</td>\n",
              "    </tr>\n",
              "    <tr>\n",
              "      <th>888</th>\n",
              "      <td>female</td>\n",
              "      <td>NaN</td>\n",
              "      <td>2</td>\n",
              "      <td>23.4500</td>\n",
              "      <td>Third</td>\n",
              "      <td>NaN</td>\n",
              "      <td>Southampton</td>\n",
              "      <td>no</td>\n",
              "      <td>False</td>\n",
              "    </tr>\n",
              "    <tr>\n",
              "      <th>889</th>\n",
              "      <td>male</td>\n",
              "      <td>26.0</td>\n",
              "      <td>0</td>\n",
              "      <td>30.0000</td>\n",
              "      <td>First</td>\n",
              "      <td>C</td>\n",
              "      <td>Cherbourg</td>\n",
              "      <td>yes</td>\n",
              "      <td>True</td>\n",
              "    </tr>\n",
              "    <tr>\n",
              "      <th>890</th>\n",
              "      <td>male</td>\n",
              "      <td>32.0</td>\n",
              "      <td>0</td>\n",
              "      <td>7.7500</td>\n",
              "      <td>Third</td>\n",
              "      <td>NaN</td>\n",
              "      <td>Queenstown</td>\n",
              "      <td>no</td>\n",
              "      <td>True</td>\n",
              "    </tr>\n",
              "  </tbody>\n",
              "</table>\n",
              "<p>891 rows × 9 columns</p>\n",
              "</div>"
            ],
            "text/plain": [
              "        sex   age  parch     fare   class deck  embark_town alive  alone\n",
              "0      male  22.0      0   7.2500   Third  NaN  Southampton    no  False\n",
              "1    female  38.0      0  71.2833   First    C    Cherbourg   yes  False\n",
              "2    female  26.0      0   7.9250   Third  NaN  Southampton   yes   True\n",
              "3    female  35.0      0  53.1000   First    C  Southampton   yes  False\n",
              "4      male  35.0      0   8.0500   Third  NaN  Southampton    no   True\n",
              "..      ...   ...    ...      ...     ...  ...          ...   ...    ...\n",
              "886    male  27.0      0  13.0000  Second  NaN  Southampton    no   True\n",
              "887  female  19.0      0  30.0000   First    B  Southampton   yes   True\n",
              "888  female   NaN      2  23.4500   Third  NaN  Southampton    no  False\n",
              "889    male  26.0      0  30.0000   First    C    Cherbourg   yes   True\n",
              "890    male  32.0      0   7.7500   Third  NaN   Queenstown    no   True\n",
              "\n",
              "[891 rows x 9 columns]"
            ]
          },
          "execution_count": 533,
          "metadata": {},
          "output_type": "execute_result"
        }
      ],
      "source": [
        "titanic = pd.read_csv('titanic.csv')\n",
        "titanic"
      ]
    },
    {
      "cell_type": "code",
      "execution_count": null,
      "metadata": {
        "id": "N3ogIS73Vr8_",
        "outputId": "629c9823-f94d-4977-c8e6-9adc5a5f37eb"
      },
      "outputs": [
        {
          "data": {
            "text/plain": [
              "no     549\n",
              "yes    342\n",
              "Name: alive, dtype: int64"
            ]
          },
          "execution_count": 534,
          "metadata": {},
          "output_type": "execute_result"
        }
      ],
      "source": [
        "titanic['alive'].value_counts()"
      ]
    },
    {
      "cell_type": "code",
      "execution_count": null,
      "metadata": {
        "id": "AgFBmjXaVr9A",
        "outputId": "a8d99015-e6aa-47ce-9279-043837d80de1"
      },
      "outputs": [
        {
          "data": {
            "text/plain": [
              "(891, 9)"
            ]
          },
          "execution_count": 535,
          "metadata": {},
          "output_type": "execute_result"
        }
      ],
      "source": [
        "titanic.shape"
      ]
    },
    {
      "cell_type": "code",
      "execution_count": null,
      "metadata": {
        "id": "vM619EtWVr9C",
        "outputId": "c8449121-173d-4909-b7e1-12dd22d6dbe2"
      },
      "outputs": [
        {
          "data": {
            "text/plain": [
              "sex              2\n",
              "age             88\n",
              "parch            7\n",
              "fare           248\n",
              "class            3\n",
              "deck             7\n",
              "embark_town      3\n",
              "alive            2\n",
              "alone            2\n",
              "dtype: int64"
            ]
          },
          "execution_count": 536,
          "metadata": {},
          "output_type": "execute_result"
        }
      ],
      "source": [
        "# Identify a single value in columns\n",
        "titanic.nunique()"
      ]
    },
    {
      "cell_type": "code",
      "execution_count": null,
      "metadata": {
        "id": "hnGeZIMPVr9D",
        "outputId": "6b06a36d-00fd-41aa-9b04-416aa8d35df2"
      },
      "outputs": [
        {
          "data": {
            "text/html": [
              "<div>\n",
              "<style scoped>\n",
              "    .dataframe tbody tr th:only-of-type {\n",
              "        vertical-align: middle;\n",
              "    }\n",
              "\n",
              "    .dataframe tbody tr th {\n",
              "        vertical-align: top;\n",
              "    }\n",
              "\n",
              "    .dataframe thead th {\n",
              "        text-align: right;\n",
              "    }\n",
              "</style>\n",
              "<table border=\"1\" class=\"dataframe\">\n",
              "  <thead>\n",
              "    <tr style=\"text-align: right;\">\n",
              "      <th></th>\n",
              "      <th>sex</th>\n",
              "      <th>class</th>\n",
              "      <th>deck</th>\n",
              "      <th>embark_town</th>\n",
              "      <th>alive</th>\n",
              "    </tr>\n",
              "  </thead>\n",
              "  <tbody>\n",
              "    <tr>\n",
              "      <th>count</th>\n",
              "      <td>891</td>\n",
              "      <td>891</td>\n",
              "      <td>203</td>\n",
              "      <td>889</td>\n",
              "      <td>891</td>\n",
              "    </tr>\n",
              "    <tr>\n",
              "      <th>unique</th>\n",
              "      <td>2</td>\n",
              "      <td>3</td>\n",
              "      <td>7</td>\n",
              "      <td>3</td>\n",
              "      <td>2</td>\n",
              "    </tr>\n",
              "    <tr>\n",
              "      <th>top</th>\n",
              "      <td>male</td>\n",
              "      <td>Third</td>\n",
              "      <td>C</td>\n",
              "      <td>Southampton</td>\n",
              "      <td>no</td>\n",
              "    </tr>\n",
              "    <tr>\n",
              "      <th>freq</th>\n",
              "      <td>577</td>\n",
              "      <td>491</td>\n",
              "      <td>59</td>\n",
              "      <td>644</td>\n",
              "      <td>549</td>\n",
              "    </tr>\n",
              "  </tbody>\n",
              "</table>\n",
              "</div>"
            ],
            "text/plain": [
              "         sex  class deck  embark_town alive\n",
              "count    891    891  203          889   891\n",
              "unique     2      3    7            3     2\n",
              "top     male  Third    C  Southampton    no\n",
              "freq     577    491   59          644   549"
            ]
          },
          "execution_count": 537,
          "metadata": {},
          "output_type": "execute_result"
        }
      ],
      "source": [
        "titanic.describe(include=object)"
      ]
    },
    {
      "cell_type": "code",
      "execution_count": null,
      "metadata": {
        "id": "Uss5ZX1DVr9F",
        "outputId": "36f8e769-c381-4913-f768-5945b415ba0c"
      },
      "outputs": [
        {
          "data": {
            "text/plain": [
              "no     549\n",
              "yes    342\n",
              "Name: alive, dtype: int64"
            ]
          },
          "execution_count": 538,
          "metadata": {},
          "output_type": "execute_result"
        }
      ],
      "source": [
        "titanic['alive'].value_counts()"
      ]
    },
    {
      "cell_type": "code",
      "execution_count": null,
      "metadata": {
        "id": "GnKgLUveVr9G",
        "outputId": "502dd2e1-aa0b-4297-e92f-a9e9dd90f5e6"
      },
      "outputs": [
        {
          "data": {
            "text/plain": [
              "sex              0\n",
              "age            177\n",
              "parch            0\n",
              "fare             0\n",
              "class            0\n",
              "deck           688\n",
              "embark_town      2\n",
              "alive            0\n",
              "alone            0\n",
              "dtype: int64"
            ]
          },
          "execution_count": 539,
          "metadata": {},
          "output_type": "execute_result"
        }
      ],
      "source": [
        "# if there is any missing values\n",
        "titanic.isnull().sum()"
      ]
    },
    {
      "cell_type": "markdown",
      "metadata": {
        "id": "4dTDnl38Vr9H"
      },
      "source": [
        "Age, deck, dan embark_town memiliki missing values. Untuk age dan embark_town, missing valuesnya akan diisi dengan menggunakan simple imputer, sedangkan feature deck nantinya akan didrop."
      ]
    },
    {
      "cell_type": "markdown",
      "metadata": {
        "id": "PJvCdP1EVr9I"
      },
      "source": [
        "## **EDA**"
      ]
    },
    {
      "cell_type": "markdown",
      "metadata": {
        "id": "Kw8lJT1TVr9J"
      },
      "source": [
        "### **Sex**"
      ]
    },
    {
      "cell_type": "code",
      "execution_count": null,
      "metadata": {
        "id": "9ENsJ-CBVr9J",
        "outputId": "9ae08bf8-0292-4bc4-db75-4c6469e911a6"
      },
      "outputs": [
        {
          "data": {
            "image/png": "[encoded data removed]",
            "text/plain": [
              "<Figure size 432x432 with 4 Axes>"
            ]
          },
          "metadata": {
            "needs_background": "light"
          },
          "output_type": "display_data"
        }
      ],
      "source": [
        "sex_alive = sns.FacetGrid(titanic, col='sex', row='alive', margin_titles=True)\n",
        "sex_alive.map(plt.hist, 'age', color= 'green')\n",
        "plt.show()"
      ]
    },
    {
      "cell_type": "markdown",
      "metadata": {
        "id": "hbv_uNhuVr9K"
      },
      "source": [
        "Berdasarkan gender, jumlah alive pada female secara signifikan jauh lebih banyak daripada male"
      ]
    },
    {
      "cell_type": "markdown",
      "metadata": {
        "id": "4_lvggatVr9L"
      },
      "source": [
        "### **Age**"
      ]
    },
    {
      "cell_type": "code",
      "execution_count": null,
      "metadata": {
        "id": "9dMpWP2GVr9L",
        "outputId": "b8b8dcab-6215-4f16-a840-b54416f7d7c1"
      },
      "outputs": [
        {
          "data": {
            "image/png": "[encoded data removed]",
            "text/plain": [
              "<Figure size 432x216 with 2 Axes>"
            ]
          },
          "metadata": {
            "needs_background": "light"
          },
          "output_type": "display_data"
        }
      ],
      "source": [
        "age_alive = sns.FacetGrid(titanic, col='alive')\n",
        "age_alive.map(plt.hist, 'age', bins=20)\n",
        "plt.show()"
      ]
    },
    {
      "cell_type": "markdown",
      "metadata": {
        "id": "hdvIu490Vr9N"
      },
      "source": [
        "### **Class and Fare**"
      ]
    },
    {
      "cell_type": "code",
      "execution_count": null,
      "metadata": {
        "id": "s75AiQaqVr9N",
        "outputId": "1d649cf4-2197-490e-b9ac-2a8c2e449352"
      },
      "outputs": [
        {
          "data": {
            "image/png": "[encoded data removed]",
            "text/plain": [
              "<Figure size 701.25x216 with 3 Axes>"
            ]
          },
          "metadata": {
            "needs_background": "light"
          },
          "output_type": "display_data"
        }
      ],
      "source": [
        "class_fare = sns.FacetGrid(titanic, hue='alive', col='class', margin_titles=True, palette={'yes':'green', 'no':'red'})\n",
        "class_fare.map(plt.scatter, 'fare', 'age', edgecolor='w').add_legend()\n",
        "plt.show()"
      ]
    },
    {
      "cell_type": "code",
      "execution_count": null,
      "metadata": {
        "id": "wnG0o795Vr9O",
        "outputId": "2797ecfd-bc53-48cb-b29c-8227e7855233"
      },
      "outputs": [
        {
          "data": {
            "text/plain": [
              "class   alive\n",
              "First   yes      136\n",
              "        no        80\n",
              "Second  no        97\n",
              "        yes       87\n",
              "Third   no       372\n",
              "        yes      119\n",
              "Name: alive, dtype: int64"
            ]
          },
          "execution_count": 543,
          "metadata": {},
          "output_type": "execute_result"
        }
      ],
      "source": [
        "titanic.groupby('class')['alive'].value_counts()"
      ]
    },
    {
      "cell_type": "code",
      "execution_count": null,
      "metadata": {
        "id": "ajdok1lzVr9O",
        "outputId": "42781065-60d7-4e17-abb7-ae3c0f866ad4"
      },
      "outputs": [
        {
          "data": {
            "text/plain": [
              "class   alive\n",
              "First   yes      15.263749\n",
              "        no        8.978676\n",
              "Second  no       10.886644\n",
              "        yes       9.764310\n",
              "Third   no       41.750842\n",
              "        yes      13.355780\n",
              "Name: alive, dtype: float64"
            ]
          },
          "execution_count": 544,
          "metadata": {},
          "output_type": "execute_result"
        }
      ],
      "source": [
        "titanic.groupby('class')['alive'].value_counts()/titanic.shape[0]*100"
      ]
    },
    {
      "cell_type": "markdown",
      "metadata": {
        "id": "nAn0zYMeVr9P"
      },
      "source": [
        "- Jumlah penumpang terbanyak berasal dari kelas Third.\n",
        "- Jumlah penumpang yang selamat paling banyak berasal dari kelas First (15%), diikuti oleh kelas Third (13%)."
      ]
    },
    {
      "cell_type": "markdown",
      "metadata": {
        "id": "dhtyqQuLVr9P"
      },
      "source": [
        "### **Age, Gender, Fare**"
      ]
    },
    {
      "cell_type": "code",
      "execution_count": null,
      "metadata": {
        "id": "hT9X5NwgVr9Q",
        "outputId": "0e5b6fe4-c504-4c79-ab63-a1238d4a05fa"
      },
      "outputs": [
        {
          "data": {
            "image/png": "[encoded data removed]",
            "text/plain": [
              "<Figure size 485.25x216 with 2 Axes>"
            ]
          },
          "metadata": {
            "needs_background": "light"
          },
          "output_type": "display_data"
        }
      ],
      "source": [
        "age_gender_fare = sns.FacetGrid(titanic, hue='alive', col='sex', margin_titles=True, palette='Set1', hue_kws=dict(marker=['^', 'v']))\n",
        "age_gender_fare.map(plt.scatter, 'fare', 'age',edgecolor='w').add_legend()\n",
        "\n",
        "plt.subplots_adjust(top=0.8)\n",
        "age_gender_fare.fig.suptitle('Survival by Age, Gender and Fare')\n",
        "plt.show()"
      ]
    },
    {
      "cell_type": "code",
      "execution_count": null,
      "metadata": {
        "id": "Dz5q3BUeVr9Q",
        "outputId": "988f9aa9-37b0-4c31-900d-b0e6c5b94028"
      },
      "outputs": [
        {
          "data": {
            "text/plain": [
              "sex     alive\n",
              "female  yes      233\n",
              "        no        81\n",
              "male    no       468\n",
              "        yes      109\n",
              "Name: alive, dtype: int64"
            ]
          },
          "execution_count": 546,
          "metadata": {},
          "output_type": "execute_result"
        }
      ],
      "source": [
        "titanic.groupby('sex')['alive'].value_counts()"
      ]
    },
    {
      "cell_type": "code",
      "execution_count": null,
      "metadata": {
        "id": "ba8eTBDAVr9R",
        "outputId": "71578aea-fb88-4712-87ee-4a3c85f09dcd"
      },
      "outputs": [
        {
          "data": {
            "text/plain": [
              "sex     alive\n",
              "female  yes      26.150393\n",
              "        no        9.090909\n",
              "male    no       52.525253\n",
              "        yes      12.233446\n",
              "Name: alive, dtype: float64"
            ]
          },
          "execution_count": 547,
          "metadata": {},
          "output_type": "execute_result"
        }
      ],
      "source": [
        "titanic.groupby('sex')['alive'].value_counts()/titanic.shape[0]*100"
      ]
    },
    {
      "cell_type": "markdown",
      "metadata": {
        "id": "tZh0sBqBVr9R"
      },
      "source": [
        "- Jumlah penumpang female yang selamat melebihi 2 kali lipat dari jumlah penumpang male yang selamat.\n",
        "- Lebih dari 50% dari total penumpang yang tidak selamat adalah gender male."
      ]
    },
    {
      "cell_type": "markdown",
      "metadata": {
        "id": "qGolus1kVr9S"
      },
      "source": [
        "### **Embark Town**"
      ]
    },
    {
      "cell_type": "code",
      "execution_count": null,
      "metadata": {
        "id": "_LxC0HPLVr9S",
        "outputId": "57f9abf2-0591-4d9b-f515-29bc064a339f"
      },
      "outputs": [
        {
          "data": {
            "image/png": "[encoded data removed]",
            "text/plain": [
              "<Figure size 432x288 with 1 Axes>"
            ]
          },
          "metadata": {
            "needs_background": "light"
          },
          "output_type": "display_data"
        }
      ],
      "source": [
        "titanic.embark_town.value_counts().plot(kind='bar')\n",
        "plt.title('Passengers per boarding location')\n",
        "plt.show()"
      ]
    },
    {
      "cell_type": "code",
      "execution_count": null,
      "metadata": {
        "id": "8PExph85Vr9U",
        "outputId": "8bec1a30-dcd9-4ee9-e8b9-327179a9cc35"
      },
      "outputs": [
        {
          "data": {
            "image/png": "[encoded data removed]",
            "text/plain": [
              "<Figure size 648x216 with 3 Axes>"
            ]
          },
          "metadata": {
            "needs_background": "light"
          },
          "output_type": "display_data"
        }
      ],
      "source": [
        "embark_alive = sns.FacetGrid(titanic, col='embark_town')\n",
        "embark_alive.map(plt.hist, 'alive')\n",
        "plt.show()"
      ]
    },
    {
      "cell_type": "code",
      "execution_count": null,
      "metadata": {
        "id": "3-Drm_hMVr9X",
        "outputId": "8f1f3ae2-f4fa-4b17-8d12-32ce9c78bb77"
      },
      "outputs": [
        {
          "data": {
            "text/plain": [
              "embark_town  alive\n",
              "Cherbourg    yes       93\n",
              "             no        75\n",
              "Queenstown   no        47\n",
              "             yes       30\n",
              "Southampton  no       427\n",
              "             yes      217\n",
              "Name: alive, dtype: int64"
            ]
          },
          "execution_count": 550,
          "metadata": {},
          "output_type": "execute_result"
        }
      ],
      "source": [
        "titanic.groupby('embark_town')['alive'].value_counts()"
      ]
    },
    {
      "cell_type": "code",
      "execution_count": null,
      "metadata": {
        "id": "HNIqKzvJVr9Y",
        "outputId": "308a35f0-a192-4866-cd1d-89309806fcef"
      },
      "outputs": [
        {
          "data": {
            "text/plain": [
              "embark_town  alive\n",
              "Cherbourg    yes      10.437710\n",
              "             no        8.417508\n",
              "Queenstown   no        5.274972\n",
              "             yes       3.367003\n",
              "Southampton  no       47.923681\n",
              "             yes      24.354658\n",
              "Name: alive, dtype: float64"
            ]
          },
          "execution_count": 551,
          "metadata": {},
          "output_type": "execute_result"
        }
      ],
      "source": [
        "titanic.groupby('embark_town')['alive'].value_counts()/titanic.shape[0]*100"
      ]
    },
    {
      "cell_type": "markdown",
      "metadata": {
        "id": "FHZXDCAgVr9Z"
      },
      "source": [
        "### **Embark Town and Class**"
      ]
    },
    {
      "cell_type": "code",
      "execution_count": null,
      "metadata": {
        "id": "peW3ytVzVr9b",
        "outputId": "20ed498c-599a-4eb4-8315-9a73e6fbc2a2"
      },
      "outputs": [
        {
          "data": {
            "text/plain": [
              "embark_town  class \n",
              "Cherbourg    First      85\n",
              "             Third      66\n",
              "             Second     17\n",
              "Queenstown   Third      72\n",
              "             Second      3\n",
              "             First       2\n",
              "Southampton  Third     353\n",
              "             Second    164\n",
              "             First     127\n",
              "Name: class, dtype: int64"
            ]
          },
          "execution_count": 552,
          "metadata": {},
          "output_type": "execute_result"
        }
      ],
      "source": [
        "titanic.groupby('embark_town')['class'].value_counts()"
      ]
    },
    {
      "cell_type": "code",
      "execution_count": null,
      "metadata": {
        "id": "jp5uoKu7Vr9c",
        "outputId": "13c95fc9-de27-4ed5-f7f1-09b3250d7319"
      },
      "outputs": [
        {
          "data": {
            "image/png": "[encoded data removed]",
            "text/plain": [
              "<Figure size 432x288 with 1 Axes>"
            ]
          },
          "metadata": {
            "needs_background": "light"
          },
          "output_type": "display_data"
        }
      ],
      "source": [
        "titanic.groupby('embark_town')['class'].value_counts().plot(kind='barh');"
      ]
    },
    {
      "cell_type": "markdown",
      "metadata": {
        "id": "KLWwjwuxVr9d"
      },
      "source": [
        "- Berdasarkan asal keberangkatannya, penumpang yang berangkat dari Southampton adalah yang terbanyak.\n",
        "- Namun, jika ditinjau dari titik keberangkatan, hanya Cherbourg yang memiliki rasio jumlah penumpang selamat yang lebih besar. Hal ini mungkin disebabkan karena penumpang dari Cherbourg adalah penumpang kelas First, yang kemungkinan didahulukan ketika bencana terjadi."
      ]
    },
    {
      "cell_type": "markdown",
      "metadata": {
        "id": "S_O89geKVr9e"
      },
      "source": [
        "### **Alone**"
      ]
    },
    {
      "cell_type": "code",
      "execution_count": null,
      "metadata": {
        "id": "5QolI2p6Vr9e",
        "outputId": "6824056f-e87f-4801-999d-08c28ba5ba93"
      },
      "outputs": [
        {
          "data": {
            "image/png": "[encoded data removed]",
            "text/plain": [
              "<Figure size 432x288 with 1 Axes>"
            ]
          },
          "metadata": {
            "needs_background": "light"
          },
          "output_type": "display_data"
        }
      ],
      "source": [
        "titanic.alone.value_counts().plot(kind='barh')\n",
        "plt.title('Passengers embarkation status')\n",
        "plt.show()"
      ]
    },
    {
      "cell_type": "code",
      "execution_count": null,
      "metadata": {
        "id": "YGYh9cJlVr9f",
        "outputId": "939bd584-220d-4eea-9d47-d6b7aa5b0700"
      },
      "outputs": [
        {
          "data": {
            "text/plain": [
              "alone  alive\n",
              "False  yes      179\n",
              "       no       175\n",
              "True   no       374\n",
              "       yes      163\n",
              "Name: alive, dtype: int64"
            ]
          },
          "execution_count": 555,
          "metadata": {},
          "output_type": "execute_result"
        }
      ],
      "source": [
        "titanic.groupby('alone')['alive'].value_counts()"
      ]
    },
    {
      "cell_type": "code",
      "execution_count": null,
      "metadata": {
        "id": "Q_ariKh-Vr9f",
        "outputId": "202e0452-36af-4811-bf66-5a2eb524b38d"
      },
      "outputs": [
        {
          "data": {
            "text/plain": [
              "alone  class \n",
              "False  Third     167\n",
              "       First     107\n",
              "       Second     80\n",
              "True   Third     324\n",
              "       First     109\n",
              "       Second    104\n",
              "Name: class, dtype: int64"
            ]
          },
          "execution_count": 556,
          "metadata": {},
          "output_type": "execute_result"
        }
      ],
      "source": [
        "titanic.groupby('alone')['class'].value_counts()"
      ]
    },
    {
      "cell_type": "markdown",
      "metadata": {
        "id": "V4oQWqCCVr9g"
      },
      "source": [
        "Penumpang yang berangkat sendirian lebih banyak yang tidak selamat. Kebanyakan penumpang yang berangkat sendirian adalah penumpang kelas Third."
      ]
    },
    {
      "cell_type": "code",
      "execution_count": null,
      "metadata": {
        "id": "zVSAVBpoVr9h"
      },
      "outputs": [],
      "source": []
    },
    {
      "cell_type": "markdown",
      "metadata": {
        "id": "5VwX4ciMVr9i"
      },
      "source": [
        "## **Data Splitting**"
      ]
    },
    {
      "cell_type": "code",
      "execution_count": null,
      "metadata": {
        "id": "5HQq5a5EVr9i"
      },
      "outputs": [],
      "source": [
        "X = titanic.drop(columns = ['alive', 'deck'])\n",
        "y = np.where(titanic['alive'] == 'yes', 1, 0)"
      ]
    },
    {
      "cell_type": "code",
      "execution_count": null,
      "metadata": {
        "id": "FcamVvJ0Vr9i"
      },
      "outputs": [],
      "source": [
        "X_train, X_test, y_train, y_test = train_test_split(\n",
        "    X,\n",
        "    y,\n",
        "    test_size = 0.2,\n",
        "    stratify = y,\n",
        "    random_state = 0)"
      ]
    },
    {
      "cell_type": "code",
      "execution_count": null,
      "metadata": {
        "id": "401GEZOeVr9k",
        "outputId": "11e43bd5-fc69-46a1-a17d-9956d6e4562d"
      },
      "outputs": [
        {
          "data": {
            "text/html": [
              "<div>\n",
              "<style scoped>\n",
              "    .dataframe tbody tr th:only-of-type {\n",
              "        vertical-align: middle;\n",
              "    }\n",
              "\n",
              "    .dataframe tbody tr th {\n",
              "        vertical-align: top;\n",
              "    }\n",
              "\n",
              "    .dataframe thead th {\n",
              "        text-align: right;\n",
              "    }\n",
              "</style>\n",
              "<table border=\"1\" class=\"dataframe\">\n",
              "  <thead>\n",
              "    <tr style=\"text-align: right;\">\n",
              "      <th></th>\n",
              "      <th>sex</th>\n",
              "      <th>age</th>\n",
              "      <th>parch</th>\n",
              "      <th>fare</th>\n",
              "      <th>class</th>\n",
              "      <th>embark_town</th>\n",
              "      <th>alone</th>\n",
              "    </tr>\n",
              "  </thead>\n",
              "  <tbody>\n",
              "    <tr>\n",
              "      <th>502</th>\n",
              "      <td>female</td>\n",
              "      <td>NaN</td>\n",
              "      <td>0</td>\n",
              "      <td>7.6292</td>\n",
              "      <td>Third</td>\n",
              "      <td>Queenstown</td>\n",
              "      <td>True</td>\n",
              "    </tr>\n",
              "    <tr>\n",
              "      <th>464</th>\n",
              "      <td>male</td>\n",
              "      <td>NaN</td>\n",
              "      <td>0</td>\n",
              "      <td>8.0500</td>\n",
              "      <td>Third</td>\n",
              "      <td>Southampton</td>\n",
              "      <td>True</td>\n",
              "    </tr>\n",
              "    <tr>\n",
              "      <th>198</th>\n",
              "      <td>female</td>\n",
              "      <td>NaN</td>\n",
              "      <td>0</td>\n",
              "      <td>7.7500</td>\n",
              "      <td>Third</td>\n",
              "      <td>Queenstown</td>\n",
              "      <td>True</td>\n",
              "    </tr>\n",
              "    <tr>\n",
              "      <th>765</th>\n",
              "      <td>female</td>\n",
              "      <td>51.0</td>\n",
              "      <td>0</td>\n",
              "      <td>77.9583</td>\n",
              "      <td>First</td>\n",
              "      <td>Southampton</td>\n",
              "      <td>False</td>\n",
              "    </tr>\n",
              "    <tr>\n",
              "      <th>421</th>\n",
              "      <td>male</td>\n",
              "      <td>21.0</td>\n",
              "      <td>0</td>\n",
              "      <td>7.7333</td>\n",
              "      <td>Third</td>\n",
              "      <td>Queenstown</td>\n",
              "      <td>True</td>\n",
              "    </tr>\n",
              "    <tr>\n",
              "      <th>...</th>\n",
              "      <td>...</td>\n",
              "      <td>...</td>\n",
              "      <td>...</td>\n",
              "      <td>...</td>\n",
              "      <td>...</td>\n",
              "      <td>...</td>\n",
              "      <td>...</td>\n",
              "    </tr>\n",
              "    <tr>\n",
              "      <th>131</th>\n",
              "      <td>male</td>\n",
              "      <td>20.0</td>\n",
              "      <td>0</td>\n",
              "      <td>7.0500</td>\n",
              "      <td>Third</td>\n",
              "      <td>Southampton</td>\n",
              "      <td>True</td>\n",
              "    </tr>\n",
              "    <tr>\n",
              "      <th>490</th>\n",
              "      <td>male</td>\n",
              "      <td>NaN</td>\n",
              "      <td>0</td>\n",
              "      <td>19.9667</td>\n",
              "      <td>Third</td>\n",
              "      <td>Southampton</td>\n",
              "      <td>False</td>\n",
              "    </tr>\n",
              "    <tr>\n",
              "      <th>528</th>\n",
              "      <td>male</td>\n",
              "      <td>39.0</td>\n",
              "      <td>0</td>\n",
              "      <td>7.9250</td>\n",
              "      <td>Third</td>\n",
              "      <td>Southampton</td>\n",
              "      <td>True</td>\n",
              "    </tr>\n",
              "    <tr>\n",
              "      <th>48</th>\n",
              "      <td>male</td>\n",
              "      <td>NaN</td>\n",
              "      <td>0</td>\n",
              "      <td>21.6792</td>\n",
              "      <td>Third</td>\n",
              "      <td>Cherbourg</td>\n",
              "      <td>False</td>\n",
              "    </tr>\n",
              "    <tr>\n",
              "      <th>80</th>\n",
              "      <td>male</td>\n",
              "      <td>22.0</td>\n",
              "      <td>0</td>\n",
              "      <td>9.0000</td>\n",
              "      <td>Third</td>\n",
              "      <td>Southampton</td>\n",
              "      <td>True</td>\n",
              "    </tr>\n",
              "  </tbody>\n",
              "</table>\n",
              "<p>712 rows × 7 columns</p>\n",
              "</div>"
            ],
            "text/plain": [
              "        sex   age  parch     fare  class  embark_town  alone\n",
              "502  female   NaN      0   7.6292  Third   Queenstown   True\n",
              "464    male   NaN      0   8.0500  Third  Southampton   True\n",
              "198  female   NaN      0   7.7500  Third   Queenstown   True\n",
              "765  female  51.0      0  77.9583  First  Southampton  False\n",
              "421    male  21.0      0   7.7333  Third   Queenstown   True\n",
              "..      ...   ...    ...      ...    ...          ...    ...\n",
              "131    male  20.0      0   7.0500  Third  Southampton   True\n",
              "490    male   NaN      0  19.9667  Third  Southampton  False\n",
              "528    male  39.0      0   7.9250  Third  Southampton   True\n",
              "48     male   NaN      0  21.6792  Third    Cherbourg  False\n",
              "80     male  22.0      0   9.0000  Third  Southampton   True\n",
              "\n",
              "[712 rows x 7 columns]"
            ]
          },
          "execution_count": 559,
          "metadata": {},
          "output_type": "execute_result"
        }
      ],
      "source": [
        "X_train"
      ]
    },
    {
      "cell_type": "markdown",
      "metadata": {
        "id": "kWuBX5l7Vr9l"
      },
      "source": [
        "## **Preprocessing**"
      ]
    },
    {
      "cell_type": "code",
      "execution_count": null,
      "metadata": {
        "id": "Ei8nY4zSVr9l"
      },
      "outputs": [],
      "source": [
        "ordinal_mapping= [{\n",
        "    'col':'class',\n",
        "    'mapping': {None:0, 'First':1, 'Second':2, 'Third':3}\n",
        "    }]\n",
        "\n",
        "ordinal_encoder = ce.OrdinalEncoder(cols = 'class', mapping=ordinal_mapping)"
      ]
    },
    {
      "cell_type": "code",
      "execution_count": null,
      "metadata": {
        "id": "bs30O0_cVr9m"
      },
      "outputs": [],
      "source": [
        "binary_encoder_pipeline = Pipeline([\n",
        "    ('imputer', SimpleImputer(strategy='most_frequent')),\n",
        "    ('binary encoder', ce.BinaryEncoder())\n",
        "])\n",
        "\n",
        "transformer = ColumnTransformer([\n",
        "    ('one hot encoder', OneHotEncoder(drop='first'), ['sex', 'alone']),\n",
        "    ('ordinal encoding', ordinal_encoder, ['class']),\n",
        "    ('simple imputer', SimpleImputer(strategy='median'), ['age']),\n",
        "    ('binary encoder', binary_encoder_pipeline, ['embark_town'])\n",
        "], remainder='passthrough')"
      ]
    },
    {
      "cell_type": "code",
      "execution_count": null,
      "metadata": {
        "id": "En6qz6fCVr9n"
      },
      "outputs": [],
      "source": [
        "scaler = RobustScaler()"
      ]
    },
    {
      "cell_type": "markdown",
      "metadata": {
        "id": "wznapTyyVr9n"
      },
      "source": [
        "## **Data Transformation**"
      ]
    },
    {
      "cell_type": "code",
      "execution_count": null,
      "metadata": {
        "id": "mxWimLHtVr9o"
      },
      "outputs": [],
      "source": [
        "X_train_prep = transformer.fit_transform(X_train)\n",
        "X_test_prep = transformer.transform(X_test)"
      ]
    },
    {
      "cell_type": "code",
      "execution_count": null,
      "metadata": {
        "id": "ERxy9hDdVr9o"
      },
      "outputs": [],
      "source": [
        "X_train_prep = pd.DataFrame(X_train_prep)\n",
        "X_test_prep = pd.DataFrame(X_test_prep)"
      ]
    },
    {
      "cell_type": "code",
      "execution_count": null,
      "metadata": {
        "id": "GgXAkwevVr9o",
        "outputId": "3c0e2420-3a77-4c9d-ee3d-2f15e224aa6a"
      },
      "outputs": [
        {
          "data": {
            "text/plain": [
              "[('one hot encoder', OneHotEncoder(drop='first'), ['sex', 'alone']),\n",
              " ('ordinal encoding',\n",
              "  OrdinalEncoder(cols=['class'],\n",
              "                 mapping=[{'col': 'class',\n",
              "                           'mapping': {None: 0, 'First': 1, 'Second': 2,\n",
              "                                       'Third': 3}}]),\n",
              "  ['class']),\n",
              " ('simple imputer', SimpleImputer(strategy='median'), ['age']),\n",
              " ('binary encoder',\n",
              "  Pipeline(steps=[('imputer', SimpleImputer(strategy='most_frequent')),\n",
              "                  ('binary encoder', BinaryEncoder())]),\n",
              "  ['embark_town']),\n",
              " ('remainder', 'passthrough', [2, 3])]"
            ]
          },
          "execution_count": 565,
          "metadata": {},
          "output_type": "execute_result"
        }
      ],
      "source": [
        "transformer.transformers_"
      ]
    },
    {
      "cell_type": "code",
      "execution_count": null,
      "metadata": {
        "id": "ZiRURiSkVr9p",
        "outputId": "cdeb01f3-e061-40a4-ea31-4867c6c2b6d8"
      },
      "outputs": [
        {
          "data": {
            "text/plain": [
              "array(['x0_male', 'x1_True'], dtype=object)"
            ]
          },
          "execution_count": 566,
          "metadata": {},
          "output_type": "execute_result"
        }
      ],
      "source": [
        "transformer.transformers_[0][1].get_feature_names()"
      ]
    },
    {
      "cell_type": "code",
      "execution_count": null,
      "metadata": {
        "id": "yboWBoafVr9p",
        "outputId": "997feb09-0a00-45e6-a4c2-8d8f2abd0488"
      },
      "outputs": [
        {
          "data": {
            "text/plain": [
              "['class']"
            ]
          },
          "execution_count": 567,
          "metadata": {},
          "output_type": "execute_result"
        }
      ],
      "source": [
        "transformer.transformers_[1][1].get_feature_names()"
      ]
    },
    {
      "cell_type": "code",
      "execution_count": null,
      "metadata": {
        "id": "V7tsIrYvVr9q",
        "outputId": "d6c5b19d-8be2-40cb-88bf-635128febaf6"
      },
      "outputs": [
        {
          "data": {
            "text/plain": [
              "['0_0', '0_1', '0_2']"
            ]
          },
          "execution_count": 568,
          "metadata": {},
          "output_type": "execute_result"
        }
      ],
      "source": [
        "transformer.transformers_[3][1][1].get_feature_names()"
      ]
    },
    {
      "cell_type": "code",
      "execution_count": null,
      "metadata": {
        "id": "coTbe0MFVr9q",
        "outputId": "9fb7354f-dc85-4667-ffd4-71ca45653e0f"
      },
      "outputs": [
        {
          "data": {
            "text/html": [
              "<div>\n",
              "<style scoped>\n",
              "    .dataframe tbody tr th:only-of-type {\n",
              "        vertical-align: middle;\n",
              "    }\n",
              "\n",
              "    .dataframe tbody tr th {\n",
              "        vertical-align: top;\n",
              "    }\n",
              "\n",
              "    .dataframe thead th {\n",
              "        text-align: right;\n",
              "    }\n",
              "</style>\n",
              "<table border=\"1\" class=\"dataframe\">\n",
              "  <thead>\n",
              "    <tr style=\"text-align: right;\">\n",
              "      <th></th>\n",
              "      <th>x0_male</th>\n",
              "      <th>x1_True</th>\n",
              "      <th>class</th>\n",
              "      <th>age</th>\n",
              "      <th>0_0</th>\n",
              "      <th>0_1</th>\n",
              "      <th>0_2</th>\n",
              "      <th>parch</th>\n",
              "      <th>fare</th>\n",
              "    </tr>\n",
              "  </thead>\n",
              "  <tbody>\n",
              "    <tr>\n",
              "      <th>0</th>\n",
              "      <td>0.0</td>\n",
              "      <td>1.0</td>\n",
              "      <td>3.0</td>\n",
              "      <td>28.0</td>\n",
              "      <td>0.0</td>\n",
              "      <td>0.0</td>\n",
              "      <td>1.0</td>\n",
              "      <td>0.0</td>\n",
              "      <td>7.6292</td>\n",
              "    </tr>\n",
              "    <tr>\n",
              "      <th>1</th>\n",
              "      <td>1.0</td>\n",
              "      <td>1.0</td>\n",
              "      <td>3.0</td>\n",
              "      <td>28.0</td>\n",
              "      <td>0.0</td>\n",
              "      <td>1.0</td>\n",
              "      <td>0.0</td>\n",
              "      <td>0.0</td>\n",
              "      <td>8.0500</td>\n",
              "    </tr>\n",
              "    <tr>\n",
              "      <th>2</th>\n",
              "      <td>0.0</td>\n",
              "      <td>1.0</td>\n",
              "      <td>3.0</td>\n",
              "      <td>28.0</td>\n",
              "      <td>0.0</td>\n",
              "      <td>0.0</td>\n",
              "      <td>1.0</td>\n",
              "      <td>0.0</td>\n",
              "      <td>7.7500</td>\n",
              "    </tr>\n",
              "    <tr>\n",
              "      <th>3</th>\n",
              "      <td>0.0</td>\n",
              "      <td>0.0</td>\n",
              "      <td>1.0</td>\n",
              "      <td>51.0</td>\n",
              "      <td>0.0</td>\n",
              "      <td>1.0</td>\n",
              "      <td>0.0</td>\n",
              "      <td>0.0</td>\n",
              "      <td>77.9583</td>\n",
              "    </tr>\n",
              "    <tr>\n",
              "      <th>4</th>\n",
              "      <td>1.0</td>\n",
              "      <td>1.0</td>\n",
              "      <td>3.0</td>\n",
              "      <td>21.0</td>\n",
              "      <td>0.0</td>\n",
              "      <td>0.0</td>\n",
              "      <td>1.0</td>\n",
              "      <td>0.0</td>\n",
              "      <td>7.7333</td>\n",
              "    </tr>\n",
              "    <tr>\n",
              "      <th>...</th>\n",
              "      <td>...</td>\n",
              "      <td>...</td>\n",
              "      <td>...</td>\n",
              "      <td>...</td>\n",
              "      <td>...</td>\n",
              "      <td>...</td>\n",
              "      <td>...</td>\n",
              "      <td>...</td>\n",
              "      <td>...</td>\n",
              "    </tr>\n",
              "    <tr>\n",
              "      <th>707</th>\n",
              "      <td>1.0</td>\n",
              "      <td>1.0</td>\n",
              "      <td>3.0</td>\n",
              "      <td>20.0</td>\n",
              "      <td>0.0</td>\n",
              "      <td>1.0</td>\n",
              "      <td>0.0</td>\n",
              "      <td>0.0</td>\n",
              "      <td>7.0500</td>\n",
              "    </tr>\n",
              "    <tr>\n",
              "      <th>708</th>\n",
              "      <td>1.0</td>\n",
              "      <td>0.0</td>\n",
              "      <td>3.0</td>\n",
              "      <td>28.0</td>\n",
              "      <td>0.0</td>\n",
              "      <td>1.0</td>\n",
              "      <td>0.0</td>\n",
              "      <td>0.0</td>\n",
              "      <td>19.9667</td>\n",
              "    </tr>\n",
              "    <tr>\n",
              "      <th>709</th>\n",
              "      <td>1.0</td>\n",
              "      <td>1.0</td>\n",
              "      <td>3.0</td>\n",
              "      <td>39.0</td>\n",
              "      <td>0.0</td>\n",
              "      <td>1.0</td>\n",
              "      <td>0.0</td>\n",
              "      <td>0.0</td>\n",
              "      <td>7.9250</td>\n",
              "    </tr>\n",
              "    <tr>\n",
              "      <th>710</th>\n",
              "      <td>1.0</td>\n",
              "      <td>0.0</td>\n",
              "      <td>3.0</td>\n",
              "      <td>28.0</td>\n",
              "      <td>0.0</td>\n",
              "      <td>1.0</td>\n",
              "      <td>1.0</td>\n",
              "      <td>0.0</td>\n",
              "      <td>21.6792</td>\n",
              "    </tr>\n",
              "    <tr>\n",
              "      <th>711</th>\n",
              "      <td>1.0</td>\n",
              "      <td>1.0</td>\n",
              "      <td>3.0</td>\n",
              "      <td>22.0</td>\n",
              "      <td>0.0</td>\n",
              "      <td>1.0</td>\n",
              "      <td>0.0</td>\n",
              "      <td>0.0</td>\n",
              "      <td>9.0000</td>\n",
              "    </tr>\n",
              "  </tbody>\n",
              "</table>\n",
              "<p>712 rows × 9 columns</p>\n",
              "</div>"
            ],
            "text/plain": [
              "     x0_male  x1_True  class   age  0_0  0_1  0_2  parch     fare\n",
              "0        0.0      1.0    3.0  28.0  0.0  0.0  1.0    0.0   7.6292\n",
              "1        1.0      1.0    3.0  28.0  0.0  1.0  0.0    0.0   8.0500\n",
              "2        0.0      1.0    3.0  28.0  0.0  0.0  1.0    0.0   7.7500\n",
              "3        0.0      0.0    1.0  51.0  0.0  1.0  0.0    0.0  77.9583\n",
              "4        1.0      1.0    3.0  21.0  0.0  0.0  1.0    0.0   7.7333\n",
              "..       ...      ...    ...   ...  ...  ...  ...    ...      ...\n",
              "707      1.0      1.0    3.0  20.0  0.0  1.0  0.0    0.0   7.0500\n",
              "708      1.0      0.0    3.0  28.0  0.0  1.0  0.0    0.0  19.9667\n",
              "709      1.0      1.0    3.0  39.0  0.0  1.0  0.0    0.0   7.9250\n",
              "710      1.0      0.0    3.0  28.0  0.0  1.0  1.0    0.0  21.6792\n",
              "711      1.0      1.0    3.0  22.0  0.0  1.0  0.0    0.0   9.0000\n",
              "\n",
              "[712 rows x 9 columns]"
            ]
          },
          "execution_count": 569,
          "metadata": {},
          "output_type": "execute_result"
        }
      ],
      "source": [
        "features = list(transformer. transformers_[0][1].get_feature_names()) + transformer.transformers_[1][1].get_feature_names() + ['age'] + transformer.transformers_[3][1][1].get_feature_names() + ['parch', 'fare']\n",
        "X_train_prep.columns = features\n",
        "X_test_prep.columns = features\n",
        "X_train_prep"
      ]
    },
    {
      "cell_type": "code",
      "execution_count": null,
      "metadata": {
        "id": "Xdc__gTyVr9r",
        "outputId": "4554e992-256a-4432-c921-d41570749113"
      },
      "outputs": [
        {
          "data": {
            "text/html": [
              "<div>\n",
              "<style scoped>\n",
              "    .dataframe tbody tr th:only-of-type {\n",
              "        vertical-align: middle;\n",
              "    }\n",
              "\n",
              "    .dataframe tbody tr th {\n",
              "        vertical-align: top;\n",
              "    }\n",
              "\n",
              "    .dataframe thead th {\n",
              "        text-align: right;\n",
              "    }\n",
              "</style>\n",
              "<table border=\"1\" class=\"dataframe\">\n",
              "  <thead>\n",
              "    <tr style=\"text-align: right;\">\n",
              "      <th></th>\n",
              "      <th>x0_male</th>\n",
              "      <th>x1_True</th>\n",
              "      <th>class</th>\n",
              "      <th>age</th>\n",
              "      <th>0_0</th>\n",
              "      <th>0_1</th>\n",
              "      <th>0_2</th>\n",
              "      <th>parch</th>\n",
              "      <th>fare</th>\n",
              "    </tr>\n",
              "  </thead>\n",
              "  <tbody>\n",
              "    <tr>\n",
              "      <th>0</th>\n",
              "      <td>1.0</td>\n",
              "      <td>0.0</td>\n",
              "      <td>3.0</td>\n",
              "      <td>40.5</td>\n",
              "      <td>0.0</td>\n",
              "      <td>1.0</td>\n",
              "      <td>0.0</td>\n",
              "      <td>2.0</td>\n",
              "      <td>14.5000</td>\n",
              "    </tr>\n",
              "    <tr>\n",
              "      <th>1</th>\n",
              "      <td>1.0</td>\n",
              "      <td>1.0</td>\n",
              "      <td>3.0</td>\n",
              "      <td>33.0</td>\n",
              "      <td>0.0</td>\n",
              "      <td>1.0</td>\n",
              "      <td>0.0</td>\n",
              "      <td>0.0</td>\n",
              "      <td>9.5000</td>\n",
              "    </tr>\n",
              "    <tr>\n",
              "      <th>2</th>\n",
              "      <td>0.0</td>\n",
              "      <td>0.0</td>\n",
              "      <td>3.0</td>\n",
              "      <td>39.0</td>\n",
              "      <td>0.0</td>\n",
              "      <td>1.0</td>\n",
              "      <td>0.0</td>\n",
              "      <td>5.0</td>\n",
              "      <td>31.2750</td>\n",
              "    </tr>\n",
              "    <tr>\n",
              "      <th>3</th>\n",
              "      <td>1.0</td>\n",
              "      <td>1.0</td>\n",
              "      <td>3.0</td>\n",
              "      <td>28.0</td>\n",
              "      <td>0.0</td>\n",
              "      <td>1.0</td>\n",
              "      <td>0.0</td>\n",
              "      <td>0.0</td>\n",
              "      <td>9.5000</td>\n",
              "    </tr>\n",
              "    <tr>\n",
              "      <th>4</th>\n",
              "      <td>0.0</td>\n",
              "      <td>1.0</td>\n",
              "      <td>1.0</td>\n",
              "      <td>24.0</td>\n",
              "      <td>0.0</td>\n",
              "      <td>1.0</td>\n",
              "      <td>1.0</td>\n",
              "      <td>0.0</td>\n",
              "      <td>83.1583</td>\n",
              "    </tr>\n",
              "    <tr>\n",
              "      <th>...</th>\n",
              "      <td>...</td>\n",
              "      <td>...</td>\n",
              "      <td>...</td>\n",
              "      <td>...</td>\n",
              "      <td>...</td>\n",
              "      <td>...</td>\n",
              "      <td>...</td>\n",
              "      <td>...</td>\n",
              "      <td>...</td>\n",
              "    </tr>\n",
              "    <tr>\n",
              "      <th>174</th>\n",
              "      <td>1.0</td>\n",
              "      <td>1.0</td>\n",
              "      <td>1.0</td>\n",
              "      <td>71.0</td>\n",
              "      <td>0.0</td>\n",
              "      <td>1.0</td>\n",
              "      <td>1.0</td>\n",
              "      <td>0.0</td>\n",
              "      <td>34.6542</td>\n",
              "    </tr>\n",
              "    <tr>\n",
              "      <th>175</th>\n",
              "      <td>0.0</td>\n",
              "      <td>0.0</td>\n",
              "      <td>2.0</td>\n",
              "      <td>45.0</td>\n",
              "      <td>0.0</td>\n",
              "      <td>1.0</td>\n",
              "      <td>0.0</td>\n",
              "      <td>1.0</td>\n",
              "      <td>26.2500</td>\n",
              "    </tr>\n",
              "    <tr>\n",
              "      <th>176</th>\n",
              "      <td>1.0</td>\n",
              "      <td>1.0</td>\n",
              "      <td>3.0</td>\n",
              "      <td>25.0</td>\n",
              "      <td>0.0</td>\n",
              "      <td>1.0</td>\n",
              "      <td>0.0</td>\n",
              "      <td>0.0</td>\n",
              "      <td>7.6500</td>\n",
              "    </tr>\n",
              "    <tr>\n",
              "      <th>177</th>\n",
              "      <td>1.0</td>\n",
              "      <td>1.0</td>\n",
              "      <td>3.0</td>\n",
              "      <td>19.0</td>\n",
              "      <td>0.0</td>\n",
              "      <td>1.0</td>\n",
              "      <td>0.0</td>\n",
              "      <td>0.0</td>\n",
              "      <td>14.5000</td>\n",
              "    </tr>\n",
              "    <tr>\n",
              "      <th>178</th>\n",
              "      <td>1.0</td>\n",
              "      <td>1.0</td>\n",
              "      <td>3.0</td>\n",
              "      <td>19.0</td>\n",
              "      <td>0.0</td>\n",
              "      <td>0.0</td>\n",
              "      <td>1.0</td>\n",
              "      <td>0.0</td>\n",
              "      <td>6.7500</td>\n",
              "    </tr>\n",
              "  </tbody>\n",
              "</table>\n",
              "<p>179 rows × 9 columns</p>\n",
              "</div>"
            ],
            "text/plain": [
              "     x0_male  x1_True  class   age  0_0  0_1  0_2  parch     fare\n",
              "0        1.0      0.0    3.0  40.5  0.0  1.0  0.0    2.0  14.5000\n",
              "1        1.0      1.0    3.0  33.0  0.0  1.0  0.0    0.0   9.5000\n",
              "2        0.0      0.0    3.0  39.0  0.0  1.0  0.0    5.0  31.2750\n",
              "3        1.0      1.0    3.0  28.0  0.0  1.0  0.0    0.0   9.5000\n",
              "4        0.0      1.0    1.0  24.0  0.0  1.0  1.0    0.0  83.1583\n",
              "..       ...      ...    ...   ...  ...  ...  ...    ...      ...\n",
              "174      1.0      1.0    1.0  71.0  0.0  1.0  1.0    0.0  34.6542\n",
              "175      0.0      0.0    2.0  45.0  0.0  1.0  0.0    1.0  26.2500\n",
              "176      1.0      1.0    3.0  25.0  0.0  1.0  0.0    0.0   7.6500\n",
              "177      1.0      1.0    3.0  19.0  0.0  1.0  0.0    0.0  14.5000\n",
              "178      1.0      1.0    3.0  19.0  0.0  0.0  1.0    0.0   6.7500\n",
              "\n",
              "[179 rows x 9 columns]"
            ]
          },
          "execution_count": 570,
          "metadata": {},
          "output_type": "execute_result"
        }
      ],
      "source": [
        "X_test_prep"
      ]
    },
    {
      "cell_type": "code",
      "execution_count": null,
      "metadata": {
        "id": "BecIaJWPVr9r",
        "outputId": "7455ecf9-2d0f-4020-c5af-c0b3a417dfac"
      },
      "outputs": [
        {
          "data": {
            "text/plain": [
              "x0_male    0\n",
              "x1_True    0\n",
              "class      0\n",
              "age        0\n",
              "0_0        0\n",
              "0_1        0\n",
              "0_2        0\n",
              "parch      0\n",
              "fare       0\n",
              "dtype: int64"
            ]
          },
          "execution_count": 571,
          "metadata": {},
          "output_type": "execute_result"
        }
      ],
      "source": [
        "# Check missing values\n",
        "X_train_prep.isna().sum()"
      ]
    },
    {
      "cell_type": "code",
      "execution_count": null,
      "metadata": {
        "id": "AcSR8dOBVr9s",
        "outputId": "a5170ab4-e8a6-4539-8f1b-7b8caa7379cc"
      },
      "outputs": [
        {
          "data": {
            "text/plain": [
              "x0_male    0\n",
              "x1_True    0\n",
              "class      0\n",
              "age        0\n",
              "0_0        0\n",
              "0_1        0\n",
              "0_2        0\n",
              "parch      0\n",
              "fare       0\n",
              "dtype: int64"
            ]
          },
          "execution_count": 572,
          "metadata": {},
          "output_type": "execute_result"
        }
      ],
      "source": [
        "X_test_prep.isna().sum()"
      ]
    },
    {
      "cell_type": "markdown",
      "metadata": {
        "id": "kpJ59tBKVr9s"
      },
      "source": [
        "## **Model Performance**"
      ]
    },
    {
      "cell_type": "code",
      "execution_count": null,
      "metadata": {
        "id": "XBOTZB_SVr9s",
        "outputId": "82746327-a47c-425f-dbdf-8c9f8628cf0a"
      },
      "outputs": [
        {
          "name": "stdout",
          "output_type": "stream",
          "text": [
            "[0.69090909 0.7        0.75247525 0.77358491 0.69724771] KNeighborsClassifier()\n",
            "[0.74545455 0.74074074 0.69090909 0.77227723 0.64150943] DecisionTreeClassifier(random_state=0)\n",
            "[0.7047619  0.75925926 0.7962963  0.67924528 0.72727273] LogisticRegression(random_state=0)\n",
            "[0.73786408 0.76635514 0.75630252 0.78350515 0.71428571] RandomForestClassifier(random_state=0)\n"
          ]
        }
      ],
      "source": [
        "# Define models\n",
        "knn = KNeighborsClassifier()\n",
        "tree = DecisionTreeClassifier(random_state=0)\n",
        "logreg = LogisticRegression(random_state=0)\n",
        "rf = RandomForestClassifier(random_state=0)\n",
        "\n",
        "# Define imbalance treatment methods\n",
        "models = [knn, tree, logreg, rf]\n",
        "score = []\n",
        "nilai_mean = []\n",
        "nilai_std = []\n",
        "\n",
        "for i in models:\n",
        "\n",
        "    skfold = StratifiedKFold(n_splits=5, shuffle=True, random_state=0)\n",
        "\n",
        "    estimator = Pipeline([\n",
        "        ('preprocessing', transformer),\n",
        "        ('scaler', scaler),\n",
        "        ('model', i)\n",
        "    ])\n",
        "\n",
        "    model_cv = cross_val_score(\n",
        "        estimator,\n",
        "        X_train,\n",
        "        y_train,\n",
        "        cv=skfold,\n",
        "        scoring='f1',\n",
        "        error_score='raise'\n",
        "        )\n",
        "\n",
        "    print(model_cv, i)\n",
        "\n",
        "\n",
        "    score.append(model_cv)\n",
        "    nilai_mean.append(model_cv.mean())\n",
        "    nilai_std.append(model_cv.std())"
      ]
    },
    {
      "cell_type": "code",
      "execution_count": null,
      "metadata": {
        "id": "HQ-TUwpNVr9t",
        "outputId": "8c526f2d-0e2b-4adf-c10f-fe93f6df6bda"
      },
      "outputs": [
        {
          "data": {
            "text/html": [
              "<div>\n",
              "<style scoped>\n",
              "    .dataframe tbody tr th:only-of-type {\n",
              "        vertical-align: middle;\n",
              "    }\n",
              "\n",
              "    .dataframe tbody tr th {\n",
              "        vertical-align: top;\n",
              "    }\n",
              "\n",
              "    .dataframe thead th {\n",
              "        text-align: right;\n",
              "    }\n",
              "</style>\n",
              "<table border=\"1\" class=\"dataframe\">\n",
              "  <thead>\n",
              "    <tr style=\"text-align: right;\">\n",
              "      <th></th>\n",
              "      <th>model</th>\n",
              "      <th>mean</th>\n",
              "      <th>std</th>\n",
              "    </tr>\n",
              "  </thead>\n",
              "  <tbody>\n",
              "    <tr>\n",
              "      <th>0</th>\n",
              "      <td>knn</td>\n",
              "      <td>0.722843</td>\n",
              "      <td>0.033614</td>\n",
              "    </tr>\n",
              "    <tr>\n",
              "      <th>1</th>\n",
              "      <td>tree</td>\n",
              "      <td>0.718178</td>\n",
              "      <td>0.046479</td>\n",
              "    </tr>\n",
              "    <tr>\n",
              "      <th>2</th>\n",
              "      <td>logreg</td>\n",
              "      <td>0.733367</td>\n",
              "      <td>0.041025</td>\n",
              "    </tr>\n",
              "    <tr>\n",
              "      <th>3</th>\n",
              "      <td>rf</td>\n",
              "      <td>0.751663</td>\n",
              "      <td>0.023828</td>\n",
              "    </tr>\n",
              "  </tbody>\n",
              "</table>\n",
              "</div>"
            ],
            "text/plain": [
              "    model      mean       std\n",
              "0     knn  0.722843  0.033614\n",
              "1    tree  0.718178  0.046479\n",
              "2  logreg  0.733367  0.041025\n",
              "3      rf  0.751663  0.023828"
            ]
          },
          "execution_count": 574,
          "metadata": {},
          "output_type": "execute_result"
        }
      ],
      "source": [
        "pd.DataFrame({\n",
        "    'model':['knn', 'tree', 'logreg', 'rf'],\n",
        "    'mean':nilai_mean,\n",
        "    'std':nilai_std\n",
        "})"
      ]
    },
    {
      "cell_type": "markdown",
      "metadata": {
        "id": "nHc1KP5mVr9t"
      },
      "source": [
        "Dari hasil cross validation di atas, dapat dilihat bahwa model random forest memiliki performa paling baik dan stabil jika dilihat dari nilai rata-rata F1 score-nya dan standar deviasinya. Sedangkan untuk logistic regression dan decisition tree, hasilnya hanya berbeda sedikit, tapi logistic regression sedikit lebih baik."
      ]
    },
    {
      "cell_type": "markdown",
      "metadata": {
        "id": "bzVOSwZZVr9u"
      },
      "source": [
        "## **Model Performance on Test Set**"
      ]
    },
    {
      "cell_type": "code",
      "execution_count": null,
      "metadata": {
        "id": "QQywk1x5Vr9u",
        "outputId": "589acf37-75b5-48de-f6a6-90ffdaf2e090"
      },
      "outputs": [
        {
          "data": {
            "text/html": [
              "<div>\n",
              "<style scoped>\n",
              "    .dataframe tbody tr th:only-of-type {\n",
              "        vertical-align: middle;\n",
              "    }\n",
              "\n",
              "    .dataframe tbody tr th {\n",
              "        vertical-align: top;\n",
              "    }\n",
              "\n",
              "    .dataframe thead th {\n",
              "        text-align: right;\n",
              "    }\n",
              "</style>\n",
              "<table border=\"1\" class=\"dataframe\">\n",
              "  <thead>\n",
              "    <tr style=\"text-align: right;\">\n",
              "      <th></th>\n",
              "      <th>F1 score</th>\n",
              "    </tr>\n",
              "  </thead>\n",
              "  <tbody>\n",
              "    <tr>\n",
              "      <th>Logistic Regression</th>\n",
              "      <td>0.703125</td>\n",
              "    </tr>\n",
              "    <tr>\n",
              "      <th>Random Forest</th>\n",
              "      <td>0.687500</td>\n",
              "    </tr>\n",
              "  </tbody>\n",
              "</table>\n",
              "</div>"
            ],
            "text/plain": [
              "                     F1 score\n",
              "Logistic Regression  0.703125\n",
              "Random Forest        0.687500"
            ]
          },
          "execution_count": 575,
          "metadata": {},
          "output_type": "execute_result"
        }
      ],
      "source": [
        "models = {\n",
        "    'Logistic Regression': LogisticRegression(random_state=0),\n",
        "    'Random Forest': RandomForestClassifier(random_state=0),\n",
        "}\n",
        "\n",
        "score=[]\n",
        "\n",
        "for i in models:\n",
        "\n",
        "    model = Pipeline([\n",
        "        ('preprocessing', transformer),\n",
        "        ('scaler', scaler),\n",
        "        ('model', models[i])\n",
        "    ])\n",
        "\n",
        "    # fitting\n",
        "    model.fit(X_train, y_train)\n",
        "\n",
        "    # predict\n",
        "    y_pred = model.predict(X_test)\n",
        "\n",
        "    # f1 score\n",
        "    score.append([f1_score(y_test, y_pred)])\n",
        "\n",
        "# tapilkan dalam dataframe\n",
        "score_before_tuning = pd.DataFrame(score, columns=['F1 score'], index = models.keys())\n",
        "score_before_tuning\n"
      ]
    },
    {
      "cell_type": "code",
      "execution_count": null,
      "metadata": {
        "id": "JzGhQlTnVr9v"
      },
      "outputs": [],
      "source": [
        "# model.get_params()"
      ]
    },
    {
      "cell_type": "markdown",
      "metadata": {
        "id": "N1bklFScVr9v"
      },
      "source": [
        "## **Hyperparamater Tuning**"
      ]
    },
    {
      "cell_type": "code",
      "execution_count": null,
      "metadata": {
        "id": "Mg02Onq2Vr9w"
      },
      "outputs": [],
      "source": [
        "# Logistic Regression\n",
        "hyperparam_space_logreg = {\n",
        "    'model__C': [1000, 500, 100, 50, 10, 5, 1, 0.5, 0.1, 0.05, 0.01, 0.005, 0.001, 0.0005, 0.0001],\n",
        "    'model__solver': ['liblinear', 'newton-cg', 'lbfgs'],\n",
        "    'model__max_iter': [100, 200, 300, 400, 500, 1000]\n",
        "}"
      ]
    },
    {
      "cell_type": "markdown",
      "metadata": {
        "id": "SyNlGgBzVr9w"
      },
      "source": [
        "**Hyperparameter Tuning untuk Random Forest:**\n",
        "\n",
        "- Tambah n_estimator ---> more averaging ---> decrease overfit\n",
        "- Tambah max_features ---> prone to best decision ---> overfit prone\n",
        "- Tambah max_depth ---> more decision ---> overfit prone\n",
        "- Tambah min_samples_leaf ---> prevent split ---> decrease overfit\n",
        "- Tambah min_samples_split ---> prevent split ---> decrease overfit\n"
      ]
    },
    {
      "cell_type": "code",
      "execution_count": null,
      "metadata": {
        "id": "qdPpS-sAVr9x"
      },
      "outputs": [],
      "source": [
        "# Random forest\n",
        "\n",
        "# Number of trees in random forest\n",
        "n_estimators = list(np.arange(100, 2000, 1))\n",
        "\n",
        "# Number of features to consider at every split\n",
        "max_features = list(np.arange(2, 9, 1))\n",
        "\n",
        "# Maximum number of levels in tree\n",
        "max_depth = list(np.arange(20, 101, 1))\n",
        "\n",
        "# Minimum number of samples required to split a node\n",
        "min_samples_split = list(np.arange(2, 21, 1))\n",
        "\n",
        "# Minimum number of samples required at each leaf node\n",
        "min_samples_leaf = list(np.arange(1, 21, 1))\n",
        "\n",
        "\n",
        "hyperparam_space_rf = {\n",
        "    'model__n_estimators': n_estimators,\n",
        "    'model__max_features': max_features,\n",
        "    'model__max_depth': max_depth,\n",
        "    'model__min_samples_split': min_samples_split,\n",
        "    'model__min_samples_leaf': min_samples_leaf,\n",
        "}\n"
      ]
    },
    {
      "cell_type": "code",
      "execution_count": null,
      "metadata": {
        "id": "hn7AVY4lVr9y",
        "outputId": "994aff18-e86b-41b1-8c27-894c3c2871d3"
      },
      "outputs": [
        {
          "data": {
            "text/plain": [
              "(712, 7)"
            ]
          },
          "execution_count": 578,
          "metadata": {},
          "output_type": "execute_result"
        }
      ],
      "source": [
        "X_train.shape"
      ]
    },
    {
      "cell_type": "code",
      "execution_count": null,
      "metadata": {
        "id": "_9JyqiIhVr9z"
      },
      "outputs": [],
      "source": [
        "# Logistic Regression\n",
        "\n",
        "skfold = StratifiedKFold(n_splits=5, shuffle=True, random_state=0)\n",
        "\n",
        "logreg = LogisticRegression(random_state=0)\n",
        "\n",
        "logreg_pipe = Pipeline([\n",
        "    ('preprocessing', transformer),\n",
        "    ('scaler', scaler),\n",
        "    ('model', logreg)\n",
        "])\n",
        "\n",
        "random_logreg = RandomizedSearchCV(\n",
        "    logreg_pipe,\n",
        "    param_distributions = hyperparam_space_logreg,\n",
        "    cv = skfold,\n",
        "    scoring= 'f1',\n",
        "    n_jobs= -1,\n",
        "    random_state=0\n",
        ")\n",
        "\n"
      ]
    },
    {
      "cell_type": "code",
      "execution_count": null,
      "metadata": {
        "id": "Us9XUjlBVr9z",
        "outputId": "f3aab973-e8c6-4429-8e28-afa6a47172c6"
      },
      "outputs": [
        {
          "data": {
            "text/plain": [
              "RandomizedSearchCV(cv=StratifiedKFold(n_splits=5, random_state=0, shuffle=True),\n",
              "                   estimator=Pipeline(steps=[('preprocessing',\n",
              "                                              ColumnTransformer(remainder='passthrough',\n",
              "                                                                transformers=[('one '\n",
              "                                                                               'hot '\n",
              "                                                                               'encoder',\n",
              "                                                                               OneHotEncoder(drop='first'),\n",
              "                                                                               ['sex',\n",
              "                                                                                'alone']),\n",
              "                                                                              ('ordinal '\n",
              "                                                                               'encoding',\n",
              "                                                                               OrdinalEncoder(cols='class',\n",
              "                                                                                              mapping=[{'col': 'class',\n",
              "                                                                                                        'mapping': {None: 0,\n",
              "                                                                                                                    'First': 1,\n",
              "                                                                                                                    'Secon...\n",
              "                                                                                                'encoder',\n",
              "                                                                                                BinaryEncoder())]),\n",
              "                                                                               ['embark_town'])])),\n",
              "                                             ('scaler', RobustScaler()),\n",
              "                                             ('model',\n",
              "                                              LogisticRegression(random_state=0))]),\n",
              "                   n_jobs=-1,\n",
              "                   param_distributions={'model__C': [1000, 500, 100, 50, 10, 5,\n",
              "                                                     1, 0.5, 0.1, 0.05, 0.01,\n",
              "                                                     0.005, 0.001, 0.0005,\n",
              "                                                     0.0001],\n",
              "                                        'model__max_iter': [100, 200, 300, 400,\n",
              "                                                            500, 1000],\n",
              "                                        'model__solver': ['liblinear',\n",
              "                                                          'newton-cg',\n",
              "                                                          'lbfgs']},\n",
              "                   random_state=0, scoring='f1')"
            ]
          },
          "execution_count": 580,
          "metadata": {},
          "output_type": "execute_result"
        }
      ],
      "source": [
        "random_logreg.fit(X_train, y_train)"
      ]
    },
    {
      "cell_type": "code",
      "execution_count": null,
      "metadata": {
        "id": "fOVS1f8PVr90"
      },
      "outputs": [],
      "source": [
        "# Random Forest\n",
        "\n",
        "rf = RandomForestClassifier(random_state=0)\n",
        "\n",
        "rf_pipe = Pipeline([\n",
        "    ('preprocessing', transformer),\n",
        "    ('scaler', scaler),\n",
        "    ('model', rf)\n",
        "])\n",
        "\n",
        "random_rf = RandomizedSearchCV(\n",
        "    rf_pipe,\n",
        "    param_distributions = hyperparam_space_rf,\n",
        "    cv = skfold,\n",
        "    scoring= 'f1',\n",
        "    n_jobs= -1,\n",
        "    random_state=0,\n",
        "    n_iter=20\n",
        "\n",
        ")"
      ]
    },
    {
      "cell_type": "code",
      "execution_count": null,
      "metadata": {
        "id": "LAps10EKVr90",
        "outputId": "24641920-9f8f-4ff0-9126-1356211a8f32"
      },
      "outputs": [
        {
          "data": {
            "text/plain": [
              "RandomizedSearchCV(cv=StratifiedKFold(n_splits=5, random_state=0, shuffle=True),\n",
              "                   estimator=Pipeline(steps=[('preprocessing',\n",
              "                                              ColumnTransformer(remainder='passthrough',\n",
              "                                                                transformers=[('one '\n",
              "                                                                               'hot '\n",
              "                                                                               'encoder',\n",
              "                                                                               OneHotEncoder(drop='first'),\n",
              "                                                                               ['sex',\n",
              "                                                                                'alone']),\n",
              "                                                                              ('ordinal '\n",
              "                                                                               'encoding',\n",
              "                                                                               OrdinalEncoder(cols='class',\n",
              "                                                                                              mapping=[{'col': 'class',\n",
              "                                                                                                        'mapping': {None: 0,\n",
              "                                                                                                                    'First': 1,\n",
              "                                                                                                                    'Secon...\n",
              "                                        'model__max_features': [2, 3, 4, 5, 6,\n",
              "                                                                7, 8],\n",
              "                                        'model__min_samples_leaf': [1, 2, 3, 4,\n",
              "                                                                    5, 6, 7, 8,\n",
              "                                                                    9, 10, 11,\n",
              "                                                                    12, 13, 14,\n",
              "                                                                    15, 16, 17,\n",
              "                                                                    18, 19,\n",
              "                                                                    20],\n",
              "                                        'model__min_samples_split': [2, 3, 4, 5,\n",
              "                                                                     6, 7, 8, 9,\n",
              "                                                                     10, 11, 12,\n",
              "                                                                     13, 14, 15,\n",
              "                                                                     16, 17, 18,\n",
              "                                                                     19, 20],\n",
              "                                        'model__n_estimators': [100, 101, 102,\n",
              "                                                                103, 104, 105,\n",
              "                                                                106, 107, 108,\n",
              "                                                                109, 110, 111,\n",
              "                                                                112, 113, 114,\n",
              "                                                                115, 116, 117,\n",
              "                                                                118, 119, 120,\n",
              "                                                                121, 122, 123,\n",
              "                                                                124, 125, 126,\n",
              "                                                                127, 128, 129, ...]},\n",
              "                   random_state=0, scoring='f1')"
            ]
          },
          "execution_count": 582,
          "metadata": {},
          "output_type": "execute_result"
        }
      ],
      "source": [
        "random_rf.fit(X_train, y_train)"
      ]
    },
    {
      "cell_type": "code",
      "execution_count": null,
      "metadata": {
        "id": "BOky1sb6Vr91",
        "outputId": "24d936c7-ca47-4099-c8c9-eb0d9a690edc"
      },
      "outputs": [
        {
          "data": {
            "text/html": [
              "<div>\n",
              "<style scoped>\n",
              "    .dataframe tbody tr th:only-of-type {\n",
              "        vertical-align: middle;\n",
              "    }\n",
              "\n",
              "    .dataframe tbody tr th {\n",
              "        vertical-align: top;\n",
              "    }\n",
              "\n",
              "    .dataframe thead th {\n",
              "        text-align: right;\n",
              "    }\n",
              "</style>\n",
              "<table border=\"1\" class=\"dataframe\">\n",
              "  <thead>\n",
              "    <tr style=\"text-align: right;\">\n",
              "      <th></th>\n",
              "      <th>mean_fit_time</th>\n",
              "      <th>std_fit_time</th>\n",
              "      <th>mean_score_time</th>\n",
              "      <th>std_score_time</th>\n",
              "      <th>param_model__solver</th>\n",
              "      <th>param_model__max_iter</th>\n",
              "      <th>param_model__C</th>\n",
              "      <th>params</th>\n",
              "      <th>split0_test_score</th>\n",
              "      <th>split1_test_score</th>\n",
              "      <th>split2_test_score</th>\n",
              "      <th>split3_test_score</th>\n",
              "      <th>split4_test_score</th>\n",
              "      <th>mean_test_score</th>\n",
              "      <th>std_test_score</th>\n",
              "      <th>rank_test_score</th>\n",
              "    </tr>\n",
              "  </thead>\n",
              "  <tbody>\n",
              "    <tr>\n",
              "      <th>0</th>\n",
              "      <td>0.192002</td>\n",
              "      <td>0.008507</td>\n",
              "      <td>0.062800</td>\n",
              "      <td>0.008822</td>\n",
              "      <td>newton-cg</td>\n",
              "      <td>400</td>\n",
              "      <td>50</td>\n",
              "      <td>{'model__solver': 'newton-cg', 'model__max_ite...</td>\n",
              "      <td>0.704762</td>\n",
              "      <td>0.770642</td>\n",
              "      <td>0.796296</td>\n",
              "      <td>0.679245</td>\n",
              "      <td>0.727273</td>\n",
              "      <td>0.735644</td>\n",
              "      <td>0.042681</td>\n",
              "      <td>1</td>\n",
              "    </tr>\n",
              "    <tr>\n",
              "      <th>9</th>\n",
              "      <td>0.153001</td>\n",
              "      <td>0.002535</td>\n",
              "      <td>0.057999</td>\n",
              "      <td>0.003636</td>\n",
              "      <td>liblinear</td>\n",
              "      <td>1000</td>\n",
              "      <td>1000</td>\n",
              "      <td>{'model__solver': 'liblinear', 'model__max_ite...</td>\n",
              "      <td>0.704762</td>\n",
              "      <td>0.770642</td>\n",
              "      <td>0.796296</td>\n",
              "      <td>0.679245</td>\n",
              "      <td>0.727273</td>\n",
              "      <td>0.735644</td>\n",
              "      <td>0.042681</td>\n",
              "      <td>1</td>\n",
              "    </tr>\n",
              "    <tr>\n",
              "      <th>1</th>\n",
              "      <td>0.157597</td>\n",
              "      <td>0.012687</td>\n",
              "      <td>0.053398</td>\n",
              "      <td>0.000799</td>\n",
              "      <td>liblinear</td>\n",
              "      <td>400</td>\n",
              "      <td>0.5</td>\n",
              "      <td>{'model__solver': 'liblinear', 'model__max_ite...</td>\n",
              "      <td>0.704762</td>\n",
              "      <td>0.747664</td>\n",
              "      <td>0.785047</td>\n",
              "      <td>0.672897</td>\n",
              "      <td>0.702703</td>\n",
              "      <td>0.722614</td>\n",
              "      <td>0.039274</td>\n",
              "      <td>3</td>\n",
              "    </tr>\n",
              "    <tr>\n",
              "      <th>2</th>\n",
              "      <td>0.147199</td>\n",
              "      <td>0.008999</td>\n",
              "      <td>0.052804</td>\n",
              "      <td>0.001168</td>\n",
              "      <td>liblinear</td>\n",
              "      <td>400</td>\n",
              "      <td>0.1</td>\n",
              "      <td>{'model__solver': 'liblinear', 'model__max_ite...</td>\n",
              "      <td>0.704762</td>\n",
              "      <td>0.728972</td>\n",
              "      <td>0.780952</td>\n",
              "      <td>0.679245</td>\n",
              "      <td>0.660377</td>\n",
              "      <td>0.710862</td>\n",
              "      <td>0.042015</td>\n",
              "      <td>4</td>\n",
              "    </tr>\n",
              "    <tr>\n",
              "      <th>6</th>\n",
              "      <td>0.156602</td>\n",
              "      <td>0.005817</td>\n",
              "      <td>0.059801</td>\n",
              "      <td>0.006046</td>\n",
              "      <td>liblinear</td>\n",
              "      <td>100</td>\n",
              "      <td>0.1</td>\n",
              "      <td>{'model__solver': 'liblinear', 'model__max_ite...</td>\n",
              "      <td>0.704762</td>\n",
              "      <td>0.728972</td>\n",
              "      <td>0.780952</td>\n",
              "      <td>0.679245</td>\n",
              "      <td>0.660377</td>\n",
              "      <td>0.710862</td>\n",
              "      <td>0.042015</td>\n",
              "      <td>4</td>\n",
              "    </tr>\n",
              "    <tr>\n",
              "      <th>3</th>\n",
              "      <td>0.144003</td>\n",
              "      <td>0.008717</td>\n",
              "      <td>0.055797</td>\n",
              "      <td>0.002713</td>\n",
              "      <td>liblinear</td>\n",
              "      <td>400</td>\n",
              "      <td>0.01</td>\n",
              "      <td>{'model__solver': 'liblinear', 'model__max_ite...</td>\n",
              "      <td>0.604167</td>\n",
              "      <td>0.638298</td>\n",
              "      <td>0.711111</td>\n",
              "      <td>0.600000</td>\n",
              "      <td>0.454545</td>\n",
              "      <td>0.601624</td>\n",
              "      <td>0.083634</td>\n",
              "      <td>6</td>\n",
              "    </tr>\n",
              "    <tr>\n",
              "      <th>7</th>\n",
              "      <td>0.154602</td>\n",
              "      <td>0.009541</td>\n",
              "      <td>0.060599</td>\n",
              "      <td>0.007392</td>\n",
              "      <td>liblinear</td>\n",
              "      <td>100</td>\n",
              "      <td>0.01</td>\n",
              "      <td>{'model__solver': 'liblinear', 'model__max_ite...</td>\n",
              "      <td>0.604167</td>\n",
              "      <td>0.638298</td>\n",
              "      <td>0.711111</td>\n",
              "      <td>0.600000</td>\n",
              "      <td>0.454545</td>\n",
              "      <td>0.601624</td>\n",
              "      <td>0.083634</td>\n",
              "      <td>6</td>\n",
              "    </tr>\n",
              "    <tr>\n",
              "      <th>5</th>\n",
              "      <td>0.151200</td>\n",
              "      <td>0.009579</td>\n",
              "      <td>0.060001</td>\n",
              "      <td>0.006230</td>\n",
              "      <td>liblinear</td>\n",
              "      <td>100</td>\n",
              "      <td>0.005</td>\n",
              "      <td>{'model__solver': 'liblinear', 'model__max_ite...</td>\n",
              "      <td>0.562500</td>\n",
              "      <td>0.625000</td>\n",
              "      <td>0.666667</td>\n",
              "      <td>0.606742</td>\n",
              "      <td>0.436782</td>\n",
              "      <td>0.579538</td>\n",
              "      <td>0.078826</td>\n",
              "      <td>8</td>\n",
              "    </tr>\n",
              "    <tr>\n",
              "      <th>4</th>\n",
              "      <td>0.167404</td>\n",
              "      <td>0.012926</td>\n",
              "      <td>0.056797</td>\n",
              "      <td>0.003248</td>\n",
              "      <td>newton-cg</td>\n",
              "      <td>100</td>\n",
              "      <td>0.0001</td>\n",
              "      <td>{'model__solver': 'newton-cg', 'model__max_ite...</td>\n",
              "      <td>0.000000</td>\n",
              "      <td>0.000000</td>\n",
              "      <td>0.000000</td>\n",
              "      <td>0.000000</td>\n",
              "      <td>0.000000</td>\n",
              "      <td>0.000000</td>\n",
              "      <td>0.000000</td>\n",
              "      <td>9</td>\n",
              "    </tr>\n",
              "    <tr>\n",
              "      <th>8</th>\n",
              "      <td>0.169801</td>\n",
              "      <td>0.006881</td>\n",
              "      <td>0.060798</td>\n",
              "      <td>0.004264</td>\n",
              "      <td>newton-cg</td>\n",
              "      <td>200</td>\n",
              "      <td>0.0001</td>\n",
              "      <td>{'model__solver': 'newton-cg', 'model__max_ite...</td>\n",
              "      <td>0.000000</td>\n",
              "      <td>0.000000</td>\n",
              "      <td>0.000000</td>\n",
              "      <td>0.000000</td>\n",
              "      <td>0.000000</td>\n",
              "      <td>0.000000</td>\n",
              "      <td>0.000000</td>\n",
              "      <td>9</td>\n",
              "    </tr>\n",
              "  </tbody>\n",
              "</table>\n",
              "</div>"
            ],
            "text/plain": [
              "   mean_fit_time  std_fit_time  mean_score_time  std_score_time  \\\n",
              "0       0.192002      0.008507         0.062800        0.008822   \n",
              "9       0.153001      0.002535         0.057999        0.003636   \n",
              "1       0.157597      0.012687         0.053398        0.000799   \n",
              "2       0.147199      0.008999         0.052804        0.001168   \n",
              "6       0.156602      0.005817         0.059801        0.006046   \n",
              "3       0.144003      0.008717         0.055797        0.002713   \n",
              "7       0.154602      0.009541         0.060599        0.007392   \n",
              "5       0.151200      0.009579         0.060001        0.006230   \n",
              "4       0.167404      0.012926         0.056797        0.003248   \n",
              "8       0.169801      0.006881         0.060798        0.004264   \n",
              "\n",
              "  param_model__solver param_model__max_iter param_model__C  \\\n",
              "0           newton-cg                   400             50   \n",
              "9           liblinear                  1000           1000   \n",
              "1           liblinear                   400            0.5   \n",
              "2           liblinear                   400            0.1   \n",
              "6           liblinear                   100            0.1   \n",
              "3           liblinear                   400           0.01   \n",
              "7           liblinear                   100           0.01   \n",
              "5           liblinear                   100          0.005   \n",
              "4           newton-cg                   100         0.0001   \n",
              "8           newton-cg                   200         0.0001   \n",
              "\n",
              "                                              params  split0_test_score  \\\n",
              "0  {'model__solver': 'newton-cg', 'model__max_ite...           0.704762   \n",
              "9  {'model__solver': 'liblinear', 'model__max_ite...           0.704762   \n",
              "1  {'model__solver': 'liblinear', 'model__max_ite...           0.704762   \n",
              "2  {'model__solver': 'liblinear', 'model__max_ite...           0.704762   \n",
              "6  {'model__solver': 'liblinear', 'model__max_ite...           0.704762   \n",
              "3  {'model__solver': 'liblinear', 'model__max_ite...           0.604167   \n",
              "7  {'model__solver': 'liblinear', 'model__max_ite...           0.604167   \n",
              "5  {'model__solver': 'liblinear', 'model__max_ite...           0.562500   \n",
              "4  {'model__solver': 'newton-cg', 'model__max_ite...           0.000000   \n",
              "8  {'model__solver': 'newton-cg', 'model__max_ite...           0.000000   \n",
              "\n",
              "   split1_test_score  split2_test_score  split3_test_score  split4_test_score  \\\n",
              "0           0.770642           0.796296           0.679245           0.727273   \n",
              "9           0.770642           0.796296           0.679245           0.727273   \n",
              "1           0.747664           0.785047           0.672897           0.702703   \n",
              "2           0.728972           0.780952           0.679245           0.660377   \n",
              "6           0.728972           0.780952           0.679245           0.660377   \n",
              "3           0.638298           0.711111           0.600000           0.454545   \n",
              "7           0.638298           0.711111           0.600000           0.454545   \n",
              "5           0.625000           0.666667           0.606742           0.436782   \n",
              "4           0.000000           0.000000           0.000000           0.000000   \n",
              "8           0.000000           0.000000           0.000000           0.000000   \n",
              "\n",
              "   mean_test_score  std_test_score  rank_test_score  \n",
              "0         0.735644        0.042681                1  \n",
              "9         0.735644        0.042681                1  \n",
              "1         0.722614        0.039274                3  \n",
              "2         0.710862        0.042015                4  \n",
              "6         0.710862        0.042015                4  \n",
              "3         0.601624        0.083634                6  \n",
              "7         0.601624        0.083634                6  \n",
              "5         0.579538        0.078826                8  \n",
              "4         0.000000        0.000000                9  \n",
              "8         0.000000        0.000000                9  "
            ]
          },
          "execution_count": 583,
          "metadata": {},
          "output_type": "execute_result"
        }
      ],
      "source": [
        "pd.DataFrame(random_logreg.cv_results_).sort_values(by='rank_test_score')"
      ]
    },
    {
      "cell_type": "code",
      "execution_count": null,
      "metadata": {
        "id": "pMtDYtcVVr91",
        "outputId": "a89af6dc-1020-4ab4-8aa9-a4997e912061"
      },
      "outputs": [
        {
          "data": {
            "text/html": [
              "<div>\n",
              "<style scoped>\n",
              "    .dataframe tbody tr th:only-of-type {\n",
              "        vertical-align: middle;\n",
              "    }\n",
              "\n",
              "    .dataframe tbody tr th {\n",
              "        vertical-align: top;\n",
              "    }\n",
              "\n",
              "    .dataframe thead th {\n",
              "        text-align: right;\n",
              "    }\n",
              "</style>\n",
              "<table border=\"1\" class=\"dataframe\">\n",
              "  <thead>\n",
              "    <tr style=\"text-align: right;\">\n",
              "      <th></th>\n",
              "      <th>mean_fit_time</th>\n",
              "      <th>std_fit_time</th>\n",
              "      <th>mean_score_time</th>\n",
              "      <th>std_score_time</th>\n",
              "      <th>param_model__n_estimators</th>\n",
              "      <th>param_model__min_samples_split</th>\n",
              "      <th>param_model__min_samples_leaf</th>\n",
              "      <th>param_model__max_features</th>\n",
              "      <th>param_model__max_depth</th>\n",
              "      <th>params</th>\n",
              "      <th>split0_test_score</th>\n",
              "      <th>split1_test_score</th>\n",
              "      <th>split2_test_score</th>\n",
              "      <th>split3_test_score</th>\n",
              "      <th>split4_test_score</th>\n",
              "      <th>mean_test_score</th>\n",
              "      <th>std_test_score</th>\n",
              "      <th>rank_test_score</th>\n",
              "    </tr>\n",
              "  </thead>\n",
              "  <tbody>\n",
              "    <tr>\n",
              "      <th>15</th>\n",
              "      <td>13.419829</td>\n",
              "      <td>0.792774</td>\n",
              "      <td>0.982820</td>\n",
              "      <td>0.096103</td>\n",
              "      <td>1654</td>\n",
              "      <td>5</td>\n",
              "      <td>5</td>\n",
              "      <td>5</td>\n",
              "      <td>55</td>\n",
              "      <td>{'model__n_estimators': 1654, 'model__min_samp...</td>\n",
              "      <td>0.720000</td>\n",
              "      <td>0.760000</td>\n",
              "      <td>0.803922</td>\n",
              "      <td>0.729167</td>\n",
              "      <td>0.737864</td>\n",
              "      <td>0.750190</td>\n",
              "      <td>0.029962</td>\n",
              "      <td>1</td>\n",
              "    </tr>\n",
              "    <tr>\n",
              "      <th>14</th>\n",
              "      <td>2.870386</td>\n",
              "      <td>0.315476</td>\n",
              "      <td>0.292582</td>\n",
              "      <td>0.026527</td>\n",
              "      <td>358</td>\n",
              "      <td>8</td>\n",
              "      <td>5</td>\n",
              "      <td>3</td>\n",
              "      <td>27</td>\n",
              "      <td>{'model__n_estimators': 358, 'model__min_sampl...</td>\n",
              "      <td>0.705882</td>\n",
              "      <td>0.755102</td>\n",
              "      <td>0.796117</td>\n",
              "      <td>0.729167</td>\n",
              "      <td>0.750000</td>\n",
              "      <td>0.747254</td>\n",
              "      <td>0.029985</td>\n",
              "      <td>2</td>\n",
              "    </tr>\n",
              "    <tr>\n",
              "      <th>8</th>\n",
              "      <td>14.692799</td>\n",
              "      <td>1.767840</td>\n",
              "      <td>1.238840</td>\n",
              "      <td>0.442868</td>\n",
              "      <td>1920</td>\n",
              "      <td>6</td>\n",
              "      <td>7</td>\n",
              "      <td>3</td>\n",
              "      <td>73</td>\n",
              "      <td>{'model__n_estimators': 1920, 'model__min_samp...</td>\n",
              "      <td>0.747475</td>\n",
              "      <td>0.715789</td>\n",
              "      <td>0.803922</td>\n",
              "      <td>0.702128</td>\n",
              "      <td>0.747475</td>\n",
              "      <td>0.743358</td>\n",
              "      <td>0.035105</td>\n",
              "      <td>3</td>\n",
              "    </tr>\n",
              "    <tr>\n",
              "      <th>1</th>\n",
              "      <td>3.586402</td>\n",
              "      <td>0.408850</td>\n",
              "      <td>0.413601</td>\n",
              "      <td>0.177577</td>\n",
              "      <td>291</td>\n",
              "      <td>4</td>\n",
              "      <td>7</td>\n",
              "      <td>8</td>\n",
              "      <td>98</td>\n",
              "      <td>{'model__n_estimators': 291, 'model__min_sampl...</td>\n",
              "      <td>0.730769</td>\n",
              "      <td>0.745098</td>\n",
              "      <td>0.785047</td>\n",
              "      <td>0.736842</td>\n",
              "      <td>0.701031</td>\n",
              "      <td>0.739757</td>\n",
              "      <td>0.027088</td>\n",
              "      <td>4</td>\n",
              "    </tr>\n",
              "    <tr>\n",
              "      <th>11</th>\n",
              "      <td>4.015912</td>\n",
              "      <td>0.096093</td>\n",
              "      <td>0.339245</td>\n",
              "      <td>0.011780</td>\n",
              "      <td>476</td>\n",
              "      <td>9</td>\n",
              "      <td>8</td>\n",
              "      <td>3</td>\n",
              "      <td>68</td>\n",
              "      <td>{'model__n_estimators': 476, 'model__min_sampl...</td>\n",
              "      <td>0.727273</td>\n",
              "      <td>0.715789</td>\n",
              "      <td>0.780000</td>\n",
              "      <td>0.709677</td>\n",
              "      <td>0.742268</td>\n",
              "      <td>0.735002</td>\n",
              "      <td>0.025091</td>\n",
              "      <td>5</td>\n",
              "    </tr>\n",
              "    <tr>\n",
              "      <th>5</th>\n",
              "      <td>11.775200</td>\n",
              "      <td>1.142515</td>\n",
              "      <td>1.160400</td>\n",
              "      <td>0.184819</td>\n",
              "      <td>1261</td>\n",
              "      <td>14</td>\n",
              "      <td>9</td>\n",
              "      <td>4</td>\n",
              "      <td>61</td>\n",
              "      <td>{'model__n_estimators': 1261, 'model__min_samp...</td>\n",
              "      <td>0.734694</td>\n",
              "      <td>0.702128</td>\n",
              "      <td>0.784314</td>\n",
              "      <td>0.702128</td>\n",
              "      <td>0.659574</td>\n",
              "      <td>0.716567</td>\n",
              "      <td>0.041433</td>\n",
              "      <td>6</td>\n",
              "    </tr>\n",
              "    <tr>\n",
              "      <th>12</th>\n",
              "      <td>14.235716</td>\n",
              "      <td>1.101029</td>\n",
              "      <td>1.024543</td>\n",
              "      <td>0.199880</td>\n",
              "      <td>1972</td>\n",
              "      <td>12</td>\n",
              "      <td>9</td>\n",
              "      <td>4</td>\n",
              "      <td>95</td>\n",
              "      <td>{'model__n_estimators': 1972, 'model__min_samp...</td>\n",
              "      <td>0.734694</td>\n",
              "      <td>0.702128</td>\n",
              "      <td>0.784314</td>\n",
              "      <td>0.702128</td>\n",
              "      <td>0.652632</td>\n",
              "      <td>0.715179</td>\n",
              "      <td>0.043390</td>\n",
              "      <td>7</td>\n",
              "    </tr>\n",
              "    <tr>\n",
              "      <th>6</th>\n",
              "      <td>7.407397</td>\n",
              "      <td>1.064523</td>\n",
              "      <td>0.556203</td>\n",
              "      <td>0.181591</td>\n",
              "      <td>741</td>\n",
              "      <td>18</td>\n",
              "      <td>6</td>\n",
              "      <td>7</td>\n",
              "      <td>37</td>\n",
              "      <td>{'model__n_estimators': 741, 'model__min_sampl...</td>\n",
              "      <td>0.705882</td>\n",
              "      <td>0.693878</td>\n",
              "      <td>0.803922</td>\n",
              "      <td>0.688172</td>\n",
              "      <td>0.680412</td>\n",
              "      <td>0.714453</td>\n",
              "      <td>0.045499</td>\n",
              "      <td>8</td>\n",
              "    </tr>\n",
              "    <tr>\n",
              "      <th>0</th>\n",
              "      <td>7.336998</td>\n",
              "      <td>0.643764</td>\n",
              "      <td>0.590202</td>\n",
              "      <td>0.166008</td>\n",
              "      <td>796</td>\n",
              "      <td>12</td>\n",
              "      <td>8</td>\n",
              "      <td>5</td>\n",
              "      <td>61</td>\n",
              "      <td>{'model__n_estimators': 796, 'model__min_sampl...</td>\n",
              "      <td>0.727273</td>\n",
              "      <td>0.686869</td>\n",
              "      <td>0.792079</td>\n",
              "      <td>0.688172</td>\n",
              "      <td>0.666667</td>\n",
              "      <td>0.712212</td>\n",
              "      <td>0.044498</td>\n",
              "      <td>9</td>\n",
              "    </tr>\n",
              "    <tr>\n",
              "      <th>16</th>\n",
              "      <td>15.074985</td>\n",
              "      <td>0.495616</td>\n",
              "      <td>1.176387</td>\n",
              "      <td>0.060809</td>\n",
              "      <td>1947</td>\n",
              "      <td>10</td>\n",
              "      <td>17</td>\n",
              "      <td>7</td>\n",
              "      <td>72</td>\n",
              "      <td>{'model__n_estimators': 1947, 'model__min_samp...</td>\n",
              "      <td>0.694737</td>\n",
              "      <td>0.694737</td>\n",
              "      <td>0.780000</td>\n",
              "      <td>0.688889</td>\n",
              "      <td>0.702128</td>\n",
              "      <td>0.712098</td>\n",
              "      <td>0.034210</td>\n",
              "      <td>10</td>\n",
              "    </tr>\n",
              "    <tr>\n",
              "      <th>18</th>\n",
              "      <td>6.227323</td>\n",
              "      <td>0.190329</td>\n",
              "      <td>0.538336</td>\n",
              "      <td>0.105429</td>\n",
              "      <td>776</td>\n",
              "      <td>12</td>\n",
              "      <td>16</td>\n",
              "      <td>7</td>\n",
              "      <td>77</td>\n",
              "      <td>{'model__n_estimators': 776, 'model__min_sampl...</td>\n",
              "      <td>0.694737</td>\n",
              "      <td>0.694737</td>\n",
              "      <td>0.780000</td>\n",
              "      <td>0.688889</td>\n",
              "      <td>0.695652</td>\n",
              "      <td>0.710803</td>\n",
              "      <td>0.034682</td>\n",
              "      <td>11</td>\n",
              "    </tr>\n",
              "    <tr>\n",
              "      <th>10</th>\n",
              "      <td>8.333705</td>\n",
              "      <td>0.750356</td>\n",
              "      <td>0.704369</td>\n",
              "      <td>0.136200</td>\n",
              "      <td>1094</td>\n",
              "      <td>12</td>\n",
              "      <td>16</td>\n",
              "      <td>3</td>\n",
              "      <td>34</td>\n",
              "      <td>{'model__n_estimators': 1094, 'model__min_samp...</td>\n",
              "      <td>0.707071</td>\n",
              "      <td>0.701031</td>\n",
              "      <td>0.796117</td>\n",
              "      <td>0.688889</td>\n",
              "      <td>0.659341</td>\n",
              "      <td>0.710490</td>\n",
              "      <td>0.045860</td>\n",
              "      <td>12</td>\n",
              "    </tr>\n",
              "    <tr>\n",
              "      <th>13</th>\n",
              "      <td>9.782504</td>\n",
              "      <td>1.343694</td>\n",
              "      <td>0.841773</td>\n",
              "      <td>0.254795</td>\n",
              "      <td>1544</td>\n",
              "      <td>11</td>\n",
              "      <td>16</td>\n",
              "      <td>3</td>\n",
              "      <td>39</td>\n",
              "      <td>{'model__n_estimators': 1544, 'model__min_samp...</td>\n",
              "      <td>0.714286</td>\n",
              "      <td>0.687500</td>\n",
              "      <td>0.796117</td>\n",
              "      <td>0.688889</td>\n",
              "      <td>0.659341</td>\n",
              "      <td>0.709226</td>\n",
              "      <td>0.046797</td>\n",
              "      <td>13</td>\n",
              "    </tr>\n",
              "    <tr>\n",
              "      <th>9</th>\n",
              "      <td>8.031054</td>\n",
              "      <td>0.706871</td>\n",
              "      <td>0.531316</td>\n",
              "      <td>0.123429</td>\n",
              "      <td>875</td>\n",
              "      <td>9</td>\n",
              "      <td>16</td>\n",
              "      <td>4</td>\n",
              "      <td>60</td>\n",
              "      <td>{'model__n_estimators': 875, 'model__min_sampl...</td>\n",
              "      <td>0.701031</td>\n",
              "      <td>0.687500</td>\n",
              "      <td>0.803922</td>\n",
              "      <td>0.688889</td>\n",
              "      <td>0.659341</td>\n",
              "      <td>0.708136</td>\n",
              "      <td>0.049805</td>\n",
              "      <td>14</td>\n",
              "    </tr>\n",
              "    <tr>\n",
              "      <th>7</th>\n",
              "      <td>6.722599</td>\n",
              "      <td>0.410957</td>\n",
              "      <td>0.615601</td>\n",
              "      <td>0.121590</td>\n",
              "      <td>930</td>\n",
              "      <td>5</td>\n",
              "      <td>17</td>\n",
              "      <td>8</td>\n",
              "      <td>27</td>\n",
              "      <td>{'model__n_estimators': 930, 'model__min_sampl...</td>\n",
              "      <td>0.694737</td>\n",
              "      <td>0.694737</td>\n",
              "      <td>0.780000</td>\n",
              "      <td>0.674157</td>\n",
              "      <td>0.694737</td>\n",
              "      <td>0.707674</td>\n",
              "      <td>0.037031</td>\n",
              "      <td>15</td>\n",
              "    </tr>\n",
              "    <tr>\n",
              "      <th>2</th>\n",
              "      <td>12.088400</td>\n",
              "      <td>0.293811</td>\n",
              "      <td>0.891002</td>\n",
              "      <td>0.086434</td>\n",
              "      <td>1773</td>\n",
              "      <td>5</td>\n",
              "      <td>11</td>\n",
              "      <td>6</td>\n",
              "      <td>96</td>\n",
              "      <td>{'model__n_estimators': 1773, 'model__min_samp...</td>\n",
              "      <td>0.721649</td>\n",
              "      <td>0.673267</td>\n",
              "      <td>0.803922</td>\n",
              "      <td>0.659341</td>\n",
              "      <td>0.673684</td>\n",
              "      <td>0.706373</td>\n",
              "      <td>0.053152</td>\n",
              "      <td>16</td>\n",
              "    </tr>\n",
              "    <tr>\n",
              "      <th>17</th>\n",
              "      <td>4.225061</td>\n",
              "      <td>0.169269</td>\n",
              "      <td>0.344547</td>\n",
              "      <td>0.051540</td>\n",
              "      <td>543</td>\n",
              "      <td>16</td>\n",
              "      <td>18</td>\n",
              "      <td>5</td>\n",
              "      <td>44</td>\n",
              "      <td>{'model__n_estimators': 543, 'model__min_sampl...</td>\n",
              "      <td>0.694737</td>\n",
              "      <td>0.673684</td>\n",
              "      <td>0.780000</td>\n",
              "      <td>0.673913</td>\n",
              "      <td>0.673913</td>\n",
              "      <td>0.699249</td>\n",
              "      <td>0.041179</td>\n",
              "      <td>17</td>\n",
              "    </tr>\n",
              "    <tr>\n",
              "      <th>19</th>\n",
              "      <td>10.861713</td>\n",
              "      <td>0.612465</td>\n",
              "      <td>0.897485</td>\n",
              "      <td>0.232784</td>\n",
              "      <td>1405</td>\n",
              "      <td>19</td>\n",
              "      <td>16</td>\n",
              "      <td>2</td>\n",
              "      <td>35</td>\n",
              "      <td>{'model__n_estimators': 1405, 'model__min_samp...</td>\n",
              "      <td>0.701031</td>\n",
              "      <td>0.680851</td>\n",
              "      <td>0.780000</td>\n",
              "      <td>0.681818</td>\n",
              "      <td>0.568182</td>\n",
              "      <td>0.682376</td>\n",
              "      <td>0.067707</td>\n",
              "      <td>18</td>\n",
              "    </tr>\n",
              "    <tr>\n",
              "      <th>3</th>\n",
              "      <td>7.592002</td>\n",
              "      <td>0.142089</td>\n",
              "      <td>0.633601</td>\n",
              "      <td>0.083387</td>\n",
              "      <td>1188</td>\n",
              "      <td>5</td>\n",
              "      <td>16</td>\n",
              "      <td>2</td>\n",
              "      <td>100</td>\n",
              "      <td>{'model__n_estimators': 1188, 'model__min_samp...</td>\n",
              "      <td>0.686869</td>\n",
              "      <td>0.673684</td>\n",
              "      <td>0.780000</td>\n",
              "      <td>0.681818</td>\n",
              "      <td>0.561798</td>\n",
              "      <td>0.676834</td>\n",
              "      <td>0.069299</td>\n",
              "      <td>19</td>\n",
              "    </tr>\n",
              "    <tr>\n",
              "      <th>4</th>\n",
              "      <td>15.071800</td>\n",
              "      <td>1.462389</td>\n",
              "      <td>1.078203</td>\n",
              "      <td>0.245234</td>\n",
              "      <td>1679</td>\n",
              "      <td>19</td>\n",
              "      <td>20</td>\n",
              "      <td>2</td>\n",
              "      <td>58</td>\n",
              "      <td>{'model__n_estimators': 1679, 'model__min_samp...</td>\n",
              "      <td>0.686869</td>\n",
              "      <td>0.659574</td>\n",
              "      <td>0.767677</td>\n",
              "      <td>0.578313</td>\n",
              "      <td>0.568182</td>\n",
              "      <td>0.652123</td>\n",
              "      <td>0.073633</td>\n",
              "      <td>20</td>\n",
              "    </tr>\n",
              "  </tbody>\n",
              "</table>\n",
              "</div>"
            ],
            "text/plain": [
              "    mean_fit_time  std_fit_time  mean_score_time  std_score_time  \\\n",
              "15      13.419829      0.792774         0.982820        0.096103   \n",
              "14       2.870386      0.315476         0.292582        0.026527   \n",
              "8       14.692799      1.767840         1.238840        0.442868   \n",
              "1        3.586402      0.408850         0.413601        0.177577   \n",
              "11       4.015912      0.096093         0.339245        0.011780   \n",
              "5       11.775200      1.142515         1.160400        0.184819   \n",
              "12      14.235716      1.101029         1.024543        0.199880   \n",
              "6        7.407397      1.064523         0.556203        0.181591   \n",
              "0        7.336998      0.643764         0.590202        0.166008   \n",
              "16      15.074985      0.495616         1.176387        0.060809   \n",
              "18       6.227323      0.190329         0.538336        0.105429   \n",
              "10       8.333705      0.750356         0.704369        0.136200   \n",
              "13       9.782504      1.343694         0.841773        0.254795   \n",
              "9        8.031054      0.706871         0.531316        0.123429   \n",
              "7        6.722599      0.410957         0.615601        0.121590   \n",
              "2       12.088400      0.293811         0.891002        0.086434   \n",
              "17       4.225061      0.169269         0.344547        0.051540   \n",
              "19      10.861713      0.612465         0.897485        0.232784   \n",
              "3        7.592002      0.142089         0.633601        0.083387   \n",
              "4       15.071800      1.462389         1.078203        0.245234   \n",
              "\n",
              "   param_model__n_estimators param_model__min_samples_split  \\\n",
              "15                      1654                              5   \n",
              "14                       358                              8   \n",
              "8                       1920                              6   \n",
              "1                        291                              4   \n",
              "11                       476                              9   \n",
              "5                       1261                             14   \n",
              "12                      1972                             12   \n",
              "6                        741                             18   \n",
              "0                        796                             12   \n",
              "16                      1947                             10   \n",
              "18                       776                             12   \n",
              "10                      1094                             12   \n",
              "13                      1544                             11   \n",
              "9                        875                              9   \n",
              "7                        930                              5   \n",
              "2                       1773                              5   \n",
              "17                       543                             16   \n",
              "19                      1405                             19   \n",
              "3                       1188                              5   \n",
              "4                       1679                             19   \n",
              "\n",
              "   param_model__min_samples_leaf param_model__max_features  \\\n",
              "15                             5                         5   \n",
              "14                             5                         3   \n",
              "8                              7                         3   \n",
              "1                              7                         8   \n",
              "11                             8                         3   \n",
              "5                              9                         4   \n",
              "12                             9                         4   \n",
              "6                              6                         7   \n",
              "0                              8                         5   \n",
              "16                            17                         7   \n",
              "18                            16                         7   \n",
              "10                            16                         3   \n",
              "13                            16                         3   \n",
              "9                             16                         4   \n",
              "7                             17                         8   \n",
              "2                             11                         6   \n",
              "17                            18                         5   \n",
              "19                            16                         2   \n",
              "3                             16                         2   \n",
              "4                             20                         2   \n",
              "\n",
              "   param_model__max_depth                                             params  \\\n",
              "15                     55  {'model__n_estimators': 1654, 'model__min_samp...   \n",
              "14                     27  {'model__n_estimators': 358, 'model__min_sampl...   \n",
              "8                      73  {'model__n_estimators': 1920, 'model__min_samp...   \n",
              "1                      98  {'model__n_estimators': 291, 'model__min_sampl...   \n",
              "11                     68  {'model__n_estimators': 476, 'model__min_sampl...   \n",
              "5                      61  {'model__n_estimators': 1261, 'model__min_samp...   \n",
              "12                     95  {'model__n_estimators': 1972, 'model__min_samp...   \n",
              "6                      37  {'model__n_estimators': 741, 'model__min_sampl...   \n",
              "0                      61  {'model__n_estimators': 796, 'model__min_sampl...   \n",
              "16                     72  {'model__n_estimators': 1947, 'model__min_samp...   \n",
              "18                     77  {'model__n_estimators': 776, 'model__min_sampl...   \n",
              "10                     34  {'model__n_estimators': 1094, 'model__min_samp...   \n",
              "13                     39  {'model__n_estimators': 1544, 'model__min_samp...   \n",
              "9                      60  {'model__n_estimators': 875, 'model__min_sampl...   \n",
              "7                      27  {'model__n_estimators': 930, 'model__min_sampl...   \n",
              "2                      96  {'model__n_estimators': 1773, 'model__min_samp...   \n",
              "17                     44  {'model__n_estimators': 543, 'model__min_sampl...   \n",
              "19                     35  {'model__n_estimators': 1405, 'model__min_samp...   \n",
              "3                     100  {'model__n_estimators': 1188, 'model__min_samp...   \n",
              "4                      58  {'model__n_estimators': 1679, 'model__min_samp...   \n",
              "\n",
              "    split0_test_score  split1_test_score  split2_test_score  \\\n",
              "15           0.720000           0.760000           0.803922   \n",
              "14           0.705882           0.755102           0.796117   \n",
              "8            0.747475           0.715789           0.803922   \n",
              "1            0.730769           0.745098           0.785047   \n",
              "11           0.727273           0.715789           0.780000   \n",
              "5            0.734694           0.702128           0.784314   \n",
              "12           0.734694           0.702128           0.784314   \n",
              "6            0.705882           0.693878           0.803922   \n",
              "0            0.727273           0.686869           0.792079   \n",
              "16           0.694737           0.694737           0.780000   \n",
              "18           0.694737           0.694737           0.780000   \n",
              "10           0.707071           0.701031           0.796117   \n",
              "13           0.714286           0.687500           0.796117   \n",
              "9            0.701031           0.687500           0.803922   \n",
              "7            0.694737           0.694737           0.780000   \n",
              "2            0.721649           0.673267           0.803922   \n",
              "17           0.694737           0.673684           0.780000   \n",
              "19           0.701031           0.680851           0.780000   \n",
              "3            0.686869           0.673684           0.780000   \n",
              "4            0.686869           0.659574           0.767677   \n",
              "\n",
              "    split3_test_score  split4_test_score  mean_test_score  std_test_score  \\\n",
              "15           0.729167           0.737864         0.750190        0.029962   \n",
              "14           0.729167           0.750000         0.747254        0.029985   \n",
              "8            0.702128           0.747475         0.743358        0.035105   \n",
              "1            0.736842           0.701031         0.739757        0.027088   \n",
              "11           0.709677           0.742268         0.735002        0.025091   \n",
              "5            0.702128           0.659574         0.716567        0.041433   \n",
              "12           0.702128           0.652632         0.715179        0.043390   \n",
              "6            0.688172           0.680412         0.714453        0.045499   \n",
              "0            0.688172           0.666667         0.712212        0.044498   \n",
              "16           0.688889           0.702128         0.712098        0.034210   \n",
              "18           0.688889           0.695652         0.710803        0.034682   \n",
              "10           0.688889           0.659341         0.710490        0.045860   \n",
              "13           0.688889           0.659341         0.709226        0.046797   \n",
              "9            0.688889           0.659341         0.708136        0.049805   \n",
              "7            0.674157           0.694737         0.707674        0.037031   \n",
              "2            0.659341           0.673684         0.706373        0.053152   \n",
              "17           0.673913           0.673913         0.699249        0.041179   \n",
              "19           0.681818           0.568182         0.682376        0.067707   \n",
              "3            0.681818           0.561798         0.676834        0.069299   \n",
              "4            0.578313           0.568182         0.652123        0.073633   \n",
              "\n",
              "    rank_test_score  \n",
              "15                1  \n",
              "14                2  \n",
              "8                 3  \n",
              "1                 4  \n",
              "11                5  \n",
              "5                 6  \n",
              "12                7  \n",
              "6                 8  \n",
              "0                 9  \n",
              "16               10  \n",
              "18               11  \n",
              "10               12  \n",
              "13               13  \n",
              "9                14  \n",
              "7                15  \n",
              "2                16  \n",
              "17               17  \n",
              "19               18  \n",
              "3                19  \n",
              "4                20  "
            ]
          },
          "execution_count": 584,
          "metadata": {},
          "output_type": "execute_result"
        }
      ],
      "source": [
        "pd.DataFrame(random_rf.cv_results_).sort_values(by='rank_test_score')"
      ]
    },
    {
      "cell_type": "code",
      "execution_count": null,
      "metadata": {
        "id": "G0nIade3Vr92",
        "outputId": "4167efb5-47df-4004-d19d-6762b6a95db5"
      },
      "outputs": [
        {
          "name": "stdout",
          "output_type": "stream",
          "text": [
            "Best score logreg: 0.7356436826369317\n",
            "Best params logreg: {'model__solver': 'newton-cg', 'model__max_iter': 400, 'model__C': 50}\n",
            "\n",
            "Best score rf: 0.7501904625928042\n",
            "Best params rf: {'model__n_estimators': 1654, 'model__min_samples_split': 5, 'model__min_samples_leaf': 5, 'model__max_features': 5, 'model__max_depth': 55}\n"
          ]
        }
      ],
      "source": [
        "print('Best score logreg:', random_logreg.best_score_)\n",
        "print('Best params logreg:', random_logreg.best_params_)\n",
        "print()\n",
        "\n",
        "print('Best score rf:', random_rf.best_score_)\n",
        "print('Best params rf:', random_rf.best_params_)"
      ]
    },
    {
      "cell_type": "markdown",
      "metadata": {
        "id": "A6yMlLQLVr93"
      },
      "source": [
        "## **Model Performance in Test Set After Tuning**"
      ]
    },
    {
      "cell_type": "code",
      "execution_count": null,
      "metadata": {
        "id": "AR6zBWx3Vr93"
      },
      "outputs": [],
      "source": [
        "# Logistic Regression\n",
        "logreg_tuning = random_logreg.best_estimator_\n",
        "logreg_tuning.fit(X_train, y_train)\n",
        "\n",
        "y_pred_logreg_tuning = logreg_tuning.predict(X_test)\n",
        "f1_logreg_tuning = f1_score(y_test, y_pred_logreg_tuning)\n",
        "\n",
        "\n",
        "# Random Forest\n",
        "rf_tuning = random_rf.best_estimator_\n",
        "rf_tuning.fit(X_train, y_train)\n",
        "\n",
        "y_pred_rf_tuning = rf_tuning.predict(X_test)\n",
        "f1_rf_tuning = f1_score(y_test, y_pred_rf_tuning)"
      ]
    },
    {
      "cell_type": "code",
      "execution_count": null,
      "metadata": {
        "id": "nYh85X3gVr94"
      },
      "outputs": [],
      "source": [
        "score_list = [f1_logreg_tuning, f1_rf_tuning]\n",
        "models = ['Logistic Regression', 'Random Forest']\n",
        "score_after_tuning = pd.DataFrame({\n",
        "    'Model': models,\n",
        "    'F1 score': score_list\n",
        "})"
      ]
    },
    {
      "cell_type": "code",
      "execution_count": null,
      "metadata": {
        "id": "P0qwV1L8Vr94"
      },
      "outputs": [],
      "source": []
    },
    {
      "cell_type": "markdown",
      "metadata": {
        "id": "2ogk9NrFVr95"
      },
      "source": [
        "## **Comparison of f1_score in Test Set**"
      ]
    },
    {
      "cell_type": "code",
      "execution_count": null,
      "metadata": {
        "id": "uX8e2VNhVr95",
        "outputId": "425f7d2d-7447-4a1b-a520-87d06e5160dd"
      },
      "outputs": [
        {
          "data": {
            "text/html": [
              "<div>\n",
              "<style scoped>\n",
              "    .dataframe tbody tr th:only-of-type {\n",
              "        vertical-align: middle;\n",
              "    }\n",
              "\n",
              "    .dataframe tbody tr th {\n",
              "        vertical-align: top;\n",
              "    }\n",
              "\n",
              "    .dataframe thead th {\n",
              "        text-align: right;\n",
              "    }\n",
              "</style>\n",
              "<table border=\"1\" class=\"dataframe\">\n",
              "  <thead>\n",
              "    <tr style=\"text-align: right;\">\n",
              "      <th></th>\n",
              "      <th>F1 score</th>\n",
              "    </tr>\n",
              "  </thead>\n",
              "  <tbody>\n",
              "    <tr>\n",
              "      <th>Logistic Regression</th>\n",
              "      <td>0.703125</td>\n",
              "    </tr>\n",
              "    <tr>\n",
              "      <th>Random Forest</th>\n",
              "      <td>0.687500</td>\n",
              "    </tr>\n",
              "  </tbody>\n",
              "</table>\n",
              "</div>"
            ],
            "text/plain": [
              "                     F1 score\n",
              "Logistic Regression  0.703125\n",
              "Random Forest        0.687500"
            ]
          },
          "execution_count": 588,
          "metadata": {},
          "output_type": "execute_result"
        }
      ],
      "source": [
        "score_before_tuning"
      ]
    },
    {
      "cell_type": "code",
      "execution_count": null,
      "metadata": {
        "id": "7INnzlDUVr96",
        "outputId": "5fd20984-112e-43a8-a435-9638119d5d79"
      },
      "outputs": [
        {
          "data": {
            "text/html": [
              "<div>\n",
              "<style scoped>\n",
              "    .dataframe tbody tr th:only-of-type {\n",
              "        vertical-align: middle;\n",
              "    }\n",
              "\n",
              "    .dataframe tbody tr th {\n",
              "        vertical-align: top;\n",
              "    }\n",
              "\n",
              "    .dataframe thead th {\n",
              "        text-align: right;\n",
              "    }\n",
              "</style>\n",
              "<table border=\"1\" class=\"dataframe\">\n",
              "  <thead>\n",
              "    <tr style=\"text-align: right;\">\n",
              "      <th></th>\n",
              "      <th>Model</th>\n",
              "      <th>F1 score</th>\n",
              "    </tr>\n",
              "  </thead>\n",
              "  <tbody>\n",
              "    <tr>\n",
              "      <th>0</th>\n",
              "      <td>Logistic Regression</td>\n",
              "      <td>0.703125</td>\n",
              "    </tr>\n",
              "    <tr>\n",
              "      <th>1</th>\n",
              "      <td>Random Forest</td>\n",
              "      <td>0.736000</td>\n",
              "    </tr>\n",
              "  </tbody>\n",
              "</table>\n",
              "</div>"
            ],
            "text/plain": [
              "                 Model  F1 score\n",
              "0  Logistic Regression  0.703125\n",
              "1        Random Forest  0.736000"
            ]
          },
          "execution_count": 589,
          "metadata": {},
          "output_type": "execute_result"
        }
      ],
      "source": [
        "score_after_tuning"
      ]
    },
    {
      "cell_type": "markdown",
      "metadata": {
        "id": "M9U2ZJLkVr97"
      },
      "source": [
        "## **Summary**"
      ]
    },
    {
      "cell_type": "markdown",
      "metadata": {
        "id": "xT0CwiXeVr97"
      },
      "source": [
        "1. Model terbaik untuk memprediksi seseorang berhasil survive atau tidak pada titanic dataset berdasarkan f1_scorenya adalah Random Forest dengan hyperparamater tuning.\n",
        "2. Proses hyperparamater tuning membuat f1_score pada model random forest meningkat sekitar 0.03, dari 0.68 menjadi 0.73. Lain halnya dengan model logistic regression yang tidak mengalami perubahan sama sekali pada f1_scorenya."
      ]
    },
    {
      "cell_type": "markdown",
      "source": [
        "## **Latihan Ensemble Model Boosting**<br>\n",
        "### **Gunakan dataset churn**\n",
        "\n",
        "**Buatlah machine learning model yang dapat memprediksi siapa saja customers yang akan meninggalkan bank!**\n",
        "\n",
        "- Tujuannya adalah menentukan apakah seorang customer akan melakukan churn (tidak menggunakan jasa lagi) dari bank ini.\n",
        "\n",
        "**Dataset overview:**\n",
        "- It consists of 10000 observations and 12 variables.\n",
        "- Independent variables contain information about customers.\n",
        "- Dependent variable refers to customer abandonment.\n",
        "\n",
        "**Features:**\n",
        "- Surname: Surname\n",
        "- CreditScore: Credit score\n",
        "- Geography: Country (Germany/ France/ Spain)\n",
        "- Gender: Gender (Female/ Male)\n",
        "- Age: Age\n",
        "- Tenure: How many years of customer\n",
        "- Balance: Balance\n",
        "- NumOfProducts: The number of bank product used\n",
        "- HasCrCard: Credit card status (0 = No, 1 = Yes)\n",
        "- IsActiveMember: Active membership status (0 = No, 1 = Yes)\n",
        "- EstimatedSalary: Estimated salary\n",
        "- Exited: Churn or not? (0 = No, 1 = Yes)\n",
        "\n",
        "**Instructions:**\n",
        "- Lakukan eksplorasi data. Apa saja insight yang kamu dapat?\n",
        "- Lakukan data cleaning dan preprocessing yang kamu anggap dibutuhkan untuk dataset ini.\n",
        "- Tentukan metric yang sesuai dengan case dataset ini. Jelaskan alasan mengapa memilih metric tersebut.\n",
        "- Lakukan modeling dengan menggunakan model decision tree, random forest, adaboost, gradientboost, xgboost.\n",
        "- Pilih model terbaik dan lakukan hyperparameter tuning.\n",
        "- Bandingkan hasil sebelum dan sesudah tuning."
      ],
      "metadata": {
        "id": "5qbu7vYSmwMn"
      }
    },
    {
      "cell_type": "code",
      "execution_count": null,
      "metadata": {
        "id": "BQcqGab9Vr97"
      },
      "outputs": [],
      "source": [
        "\n",
        "from sklearn.ensemble import RandomForestClassifier\n",
        "from sklearn.ensemble import AdaBoostClassifier\n",
        "from sklearn.ensemble import GradientBoostingClassifier\n",
        "from xgboost.sklearn import XGBClassifier\n",
        "from sklearn.tree import DecisionTreeClassifier, plot_tree\n",
        "\n",
        "from imblearn.over_sampling import RandomOverSampler, SMOTE\n",
        "from imblearn.under_sampling import RandomUnderSampler, NearMiss\n",
        "from imblearn.pipeline import Pipeline"
      ]
    }
  ],
  "metadata": {
    "interpreter": {
      "hash": "37eb40c3388cfde35488e2d005b0d69ca91ddeff8a429754d4da636d3f888e5e"
    },
    "kernelspec": {
      "display_name": "Python 3.7.6 64-bit ('base': conda)",
      "name": "python3"
    },
    "language_info": {
      "codemirror_mode": {
        "name": "ipython",
        "version": 3
      },
      "file_extension": ".py",
      "mimetype": "text/x-python",
      "name": "python",
      "nbconvert_exporter": "python",
      "pygments_lexer": "ipython3",
      "version": "3.7.6"
    },
    "orig_nbformat": 2,
    "colab": {
      "provenance": [],
      "toc_visible": true
    }
  },
  "nbformat": 4,
  "nbformat_minor": 0
}