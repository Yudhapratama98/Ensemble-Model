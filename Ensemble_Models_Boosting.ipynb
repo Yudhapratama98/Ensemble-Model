{
  "cells": [
    {
      "cell_type": "markdown",
      "metadata": {
        "id": "Lp7XEFaZJKjZ"
      },
      "source": [
        "## **Latihan Ensemble Model Boosting**"
      ]
    },
    {
      "cell_type": "markdown",
      "metadata": {
        "id": "2WQ3MU2OJKjk"
      },
      "source": [
        "### **Gunakan dataset churn**\n",
        "\n",
        "**Buatlah machine learning model yang dapat memprediksi siapa saja customers yang akan meninggalkan bank!**\n",
        "\n",
        "- Tujuannya adalah menentukan apakah seorang customer akan melakukan churn (tidak menggunakan jasa lagi) dari bank ini.\n",
        "\n",
        "**Dataset overview:**\n",
        "- It consists of 10000 observations and 12 variables.\n",
        "- Independent variables contain information about customers.\n",
        "- Dependent variable refers to customer abandonment.\n",
        "\n",
        "**Features:**\n",
        "- Surname: Surname\n",
        "- CreditScore: Credit score\n",
        "- Geography: Country (Germany/ France/ Spain)\n",
        "- Gender: Gender (Female/ Male)\n",
        "- Age: Age\n",
        "- Tenure: How many years of customer\n",
        "- Balance: Balance\n",
        "- NumOfProducts: The number of bank product used\n",
        "- HasCrCard: Credit card status (0 = No, 1 = Yes)\n",
        "- IsActiveMember: Active membership status (0 = No, 1 = Yes)\n",
        "- EstimatedSalary: Estimated salary\n",
        "- Exited: Churn or not? (0 = No, 1 = Yes)\n",
        "\n",
        "**Instructions:**\n",
        "- Lakukan eksplorasi data. Apa saja insight yang kamu dapat?\n",
        "- Lakukan data cleaning dan preprocessing yang kamu anggap dibutuhkan untuk dataset ini.\n",
        "- Tentukan metric yang sesuai dengan case dataset ini. Jelaskan alasan mengapa memilih metric tersebut.\n",
        "- Lakukan modeling dengan menggunakan model decision tree, random forest, adaboost, gradientboost, xgboost.\n",
        "- Pilih model terbaik dan lakukan hyperparameter tuning.\n",
        "- Bandingkan hasil sebelum dan sesudah tuning."
      ]
    },
    {
      "cell_type": "markdown",
      "metadata": {
        "id": "SK1-SKovJKjw"
      },
      "source": [
        "## **Import libraries**"
      ]
    },
    {
      "cell_type": "code",
      "execution_count": null,
      "metadata": {
        "id": "2FfHPdQyJKjx"
      },
      "outputs": [],
      "source": [
        "import numpy as np\n",
        "import pandas as pd\n",
        "import matplotlib.pyplot as plt\n",
        "import seaborn as sns\n",
        "\n",
        "import category_encoders as ce\n",
        "from sklearn.preprocessing import OneHotEncoder\n",
        "from sklearn.preprocessing import StandardScaler, PolynomialFeatures, MinMaxScaler\n",
        "from sklearn.impute import SimpleImputer\n",
        "from sklearn.compose import ColumnTransformer\n",
        "from sklearn.pipeline import Pipeline\n",
        "\n",
        "from sklearn.model_selection import cross_val_score, GridSearchCV, RandomizedSearchCV, train_test_split, StratifiedKFold\n",
        "from sklearn.metrics import classification_report, f1_score\n",
        "from sklearn.metrics import plot_roc_curve, plot_precision_recall_curve, confusion_matrix, recall_score\n",
        "\n",
        "from sklearn.ensemble import RandomForestClassifier\n",
        "from sklearn.ensemble import AdaBoostClassifier\n",
        "from sklearn.ensemble import GradientBoostingClassifier\n",
        "from xgboost.sklearn import XGBClassifier\n",
        "from sklearn.tree import DecisionTreeClassifier, plot_tree\n",
        "\n",
        "from imblearn.over_sampling import RandomOverSampler, SMOTE\n",
        "from imblearn.under_sampling import RandomUnderSampler, NearMiss\n",
        "from imblearn.pipeline import Pipeline\n",
        "\n",
        "import warnings\n",
        "warnings.filterwarnings('ignore')"
      ]
    },
    {
      "cell_type": "markdown",
      "metadata": {
        "id": "AKRQhcAtJKjz"
      },
      "source": [
        "## **Load & explore dataset**"
      ]
    },
    {
      "cell_type": "code",
      "execution_count": null,
      "metadata": {
        "id": "KUtWsw9oJKj0",
        "outputId": "b8dbd35b-c202-4d73-8e3b-084e6006c578"
      },
      "outputs": [
        {
          "data": {
            "text/html": [
              "<div>\n",
              "<style scoped>\n",
              "    .dataframe tbody tr th:only-of-type {\n",
              "        vertical-align: middle;\n",
              "    }\n",
              "\n",
              "    .dataframe tbody tr th {\n",
              "        vertical-align: top;\n",
              "    }\n",
              "\n",
              "    .dataframe thead th {\n",
              "        text-align: right;\n",
              "    }\n",
              "</style>\n",
              "<table border=\"1\" class=\"dataframe\">\n",
              "  <thead>\n",
              "    <tr style=\"text-align: right;\">\n",
              "      <th></th>\n",
              "      <th>RowNumber</th>\n",
              "      <th>CustomerId</th>\n",
              "      <th>Surname</th>\n",
              "      <th>CreditScore</th>\n",
              "      <th>Geography</th>\n",
              "      <th>Gender</th>\n",
              "      <th>Age</th>\n",
              "      <th>Tenure</th>\n",
              "      <th>Balance</th>\n",
              "      <th>NumOfProducts</th>\n",
              "      <th>HasCrCard</th>\n",
              "      <th>IsActiveMember</th>\n",
              "      <th>EstimatedSalary</th>\n",
              "      <th>Exited</th>\n",
              "    </tr>\n",
              "  </thead>\n",
              "  <tbody>\n",
              "    <tr>\n",
              "      <th>0</th>\n",
              "      <td>1</td>\n",
              "      <td>15634602</td>\n",
              "      <td>Hargrave</td>\n",
              "      <td>619</td>\n",
              "      <td>France</td>\n",
              "      <td>Female</td>\n",
              "      <td>42</td>\n",
              "      <td>2</td>\n",
              "      <td>0.00</td>\n",
              "      <td>1</td>\n",
              "      <td>1</td>\n",
              "      <td>1</td>\n",
              "      <td>101348.88</td>\n",
              "      <td>1</td>\n",
              "    </tr>\n",
              "    <tr>\n",
              "      <th>1</th>\n",
              "      <td>2</td>\n",
              "      <td>15647311</td>\n",
              "      <td>Hill</td>\n",
              "      <td>608</td>\n",
              "      <td>Spain</td>\n",
              "      <td>Female</td>\n",
              "      <td>41</td>\n",
              "      <td>1</td>\n",
              "      <td>83807.86</td>\n",
              "      <td>1</td>\n",
              "      <td>0</td>\n",
              "      <td>1</td>\n",
              "      <td>112542.58</td>\n",
              "      <td>0</td>\n",
              "    </tr>\n",
              "    <tr>\n",
              "      <th>2</th>\n",
              "      <td>3</td>\n",
              "      <td>15619304</td>\n",
              "      <td>Onio</td>\n",
              "      <td>502</td>\n",
              "      <td>France</td>\n",
              "      <td>Female</td>\n",
              "      <td>42</td>\n",
              "      <td>8</td>\n",
              "      <td>159660.80</td>\n",
              "      <td>3</td>\n",
              "      <td>1</td>\n",
              "      <td>0</td>\n",
              "      <td>113931.57</td>\n",
              "      <td>1</td>\n",
              "    </tr>\n",
              "    <tr>\n",
              "      <th>3</th>\n",
              "      <td>4</td>\n",
              "      <td>15701354</td>\n",
              "      <td>Boni</td>\n",
              "      <td>699</td>\n",
              "      <td>France</td>\n",
              "      <td>Female</td>\n",
              "      <td>39</td>\n",
              "      <td>1</td>\n",
              "      <td>0.00</td>\n",
              "      <td>2</td>\n",
              "      <td>0</td>\n",
              "      <td>0</td>\n",
              "      <td>93826.63</td>\n",
              "      <td>0</td>\n",
              "    </tr>\n",
              "    <tr>\n",
              "      <th>4</th>\n",
              "      <td>5</td>\n",
              "      <td>15737888</td>\n",
              "      <td>Mitchell</td>\n",
              "      <td>850</td>\n",
              "      <td>Spain</td>\n",
              "      <td>Female</td>\n",
              "      <td>43</td>\n",
              "      <td>2</td>\n",
              "      <td>125510.82</td>\n",
              "      <td>1</td>\n",
              "      <td>1</td>\n",
              "      <td>1</td>\n",
              "      <td>79084.10</td>\n",
              "      <td>0</td>\n",
              "    </tr>\n",
              "  </tbody>\n",
              "</table>\n",
              "</div>"
            ],
            "text/plain": [
              "   RowNumber  CustomerId   Surname  CreditScore Geography  Gender  Age  \\\n",
              "0          1    15634602  Hargrave          619    France  Female   42   \n",
              "1          2    15647311      Hill          608     Spain  Female   41   \n",
              "2          3    15619304      Onio          502    France  Female   42   \n",
              "3          4    15701354      Boni          699    France  Female   39   \n",
              "4          5    15737888  Mitchell          850     Spain  Female   43   \n",
              "\n",
              "   Tenure    Balance  NumOfProducts  HasCrCard  IsActiveMember  \\\n",
              "0       2       0.00              1          1               1   \n",
              "1       1   83807.86              1          0               1   \n",
              "2       8  159660.80              3          1               0   \n",
              "3       1       0.00              2          0               0   \n",
              "4       2  125510.82              1          1               1   \n",
              "\n",
              "   EstimatedSalary  Exited  \n",
              "0        101348.88       1  \n",
              "1        112542.58       0  \n",
              "2        113931.57       1  \n",
              "3         93826.63       0  \n",
              "4         79084.10       0  "
            ]
          },
          "execution_count": 153,
          "metadata": {},
          "output_type": "execute_result"
        }
      ],
      "source": [
        "df = pd.read_csv('churn.csv')\n",
        "df.head()"
      ]
    },
    {
      "cell_type": "code",
      "execution_count": null,
      "metadata": {
        "id": "Uu-GRCl6JKj1",
        "outputId": "9be93eb8-c681-46b7-dbe8-001f1be0457a"
      },
      "outputs": [
        {
          "name": "stdout",
          "output_type": "stream",
          "text": [
            "<class 'pandas.core.frame.DataFrame'>\n",
            "RangeIndex: 10000 entries, 0 to 9999\n",
            "Data columns (total 14 columns):\n",
            " #   Column           Non-Null Count  Dtype  \n",
            "---  ------           --------------  -----  \n",
            " 0   RowNumber        10000 non-null  int64  \n",
            " 1   CustomerId       10000 non-null  int64  \n",
            " 2   Surname          10000 non-null  object \n",
            " 3   CreditScore      10000 non-null  int64  \n",
            " 4   Geography        10000 non-null  object \n",
            " 5   Gender           10000 non-null  object \n",
            " 6   Age              10000 non-null  int64  \n",
            " 7   Tenure           10000 non-null  int64  \n",
            " 8   Balance          10000 non-null  float64\n",
            " 9   NumOfProducts    10000 non-null  int64  \n",
            " 10  HasCrCard        10000 non-null  int64  \n",
            " 11  IsActiveMember   10000 non-null  int64  \n",
            " 12  EstimatedSalary  10000 non-null  float64\n",
            " 13  Exited           10000 non-null  int64  \n",
            "dtypes: float64(2), int64(9), object(3)\n",
            "memory usage: 1.1+ MB\n"
          ]
        }
      ],
      "source": [
        "df.info()"
      ]
    },
    {
      "cell_type": "code",
      "execution_count": null,
      "metadata": {
        "id": "2TN-ytyZJKj2",
        "outputId": "2965f497-f81f-4d67-9fbe-fc5c49575254"
      },
      "outputs": [
        {
          "name": "stdout",
          "output_type": "stream",
          "text": [
            "0    7963\n",
            "1    2037\n",
            "Name: Exited, dtype: int64\n",
            "\n",
            "0    79.63\n",
            "1    20.37\n",
            "Name: Exited, dtype: float64\n"
          ]
        }
      ],
      "source": [
        "# mild imbalance\n",
        "print(df['Exited'].value_counts())\n",
        "print()\n",
        "print(df['Exited'].value_counts()/len(df['Exited'])*100)"
      ]
    },
    {
      "cell_type": "code",
      "execution_count": null,
      "metadata": {
        "id": "h3_2ajGyJKj3",
        "outputId": "89e3d678-fb7b-4971-f5a9-b7dc04502f58"
      },
      "outputs": [
        {
          "data": {
            "text/plain": [
              "['Surname', 'Geography', 'Gender']"
            ]
          },
          "execution_count": 156,
          "metadata": {},
          "output_type": "execute_result"
        }
      ],
      "source": [
        "cat_features = [feature for feature in df.columns if (df[feature].dtypes == 'O')]\n",
        "cat_features"
      ]
    },
    {
      "cell_type": "code",
      "execution_count": null,
      "metadata": {
        "id": "LVN6hVnIJKj5",
        "outputId": "3eceef13-70cc-45a0-88ca-09eefe7adea4"
      },
      "outputs": [
        {
          "name": "stdout",
          "output_type": "stream",
          "text": [
            "Total unique values in Surname:  2932\n",
            "Unique values:  ['Hargrave' 'Hill' 'Onio' ... 'Kashiwagi' 'Aldridge' 'Burbidge']\n",
            "\n",
            "Total unique values in Geography:  3\n",
            "Unique values:  ['France' 'Spain' 'Germany']\n",
            "\n",
            "Total unique values in Gender:  2\n",
            "Unique values:  ['Female' 'Male']\n",
            "\n"
          ]
        }
      ],
      "source": [
        "for i in cat_features:\n",
        "    print(f'Total unique values in {i}: ', df[i].nunique())\n",
        "    print(f'Unique values: ', df[i].unique())\n",
        "    print()"
      ]
    },
    {
      "cell_type": "code",
      "execution_count": null,
      "metadata": {
        "id": "Sy28HaScJKj6",
        "outputId": "bd745d6b-40ee-49ae-b282-411f31ca5eca"
      },
      "outputs": [
        {
          "data": {
            "text/plain": [
              "['RowNumber',\n",
              " 'CustomerId',\n",
              " 'CreditScore',\n",
              " 'Age',\n",
              " 'Tenure',\n",
              " 'Balance',\n",
              " 'NumOfProducts',\n",
              " 'HasCrCard',\n",
              " 'IsActiveMember',\n",
              " 'EstimatedSalary']"
            ]
          },
          "execution_count": 158,
          "metadata": {},
          "output_type": "execute_result"
        }
      ],
      "source": [
        "num_features = [feature for feature in df.columns if ((df[feature].dtypes != 'O') & (feature not in ['Exited']))]\n",
        "num_features"
      ]
    },
    {
      "cell_type": "code",
      "execution_count": null,
      "metadata": {
        "id": "k1gjUwhEJKj7",
        "outputId": "4e9f9022-e3d9-4c44-bcf3-503ed7ad3410"
      },
      "outputs": [
        {
          "data": {
            "text/plain": [
              "France     5014\n",
              "Germany    2509\n",
              "Spain      2477\n",
              "Name: Geography, dtype: int64"
            ]
          },
          "execution_count": 159,
          "metadata": {},
          "output_type": "execute_result"
        }
      ],
      "source": [
        "df['Geography'].value_counts()"
      ]
    },
    {
      "cell_type": "code",
      "execution_count": null,
      "metadata": {
        "id": "-YwPEf3VJKj8",
        "outputId": "dd6565ed-e1b6-4157-92e9-05f967da1b45"
      },
      "outputs": [
        {
          "data": {
            "text/plain": [
              "Geography\n",
              "France     810\n",
              "Germany    814\n",
              "Spain      413\n",
              "Name: Exited, dtype: int64"
            ]
          },
          "execution_count": 160,
          "metadata": {},
          "output_type": "execute_result"
        }
      ],
      "source": [
        "df.groupby('Geography').sum()['Exited']"
      ]
    },
    {
      "cell_type": "code",
      "execution_count": null,
      "metadata": {
        "id": "hz7WHjytJKj9",
        "outputId": "6ddbb548-dfee-404d-81b6-f5cdabe76897"
      },
      "outputs": [
        {
          "data": {
            "text/plain": [
              "RowNumber          0\n",
              "CustomerId         0\n",
              "Surname            0\n",
              "CreditScore        0\n",
              "Geography          0\n",
              "Gender             0\n",
              "Age                0\n",
              "Tenure             0\n",
              "Balance            0\n",
              "NumOfProducts      0\n",
              "HasCrCard          0\n",
              "IsActiveMember     0\n",
              "EstimatedSalary    0\n",
              "Exited             0\n",
              "dtype: int64"
            ]
          },
          "execution_count": 161,
          "metadata": {},
          "output_type": "execute_result"
        }
      ],
      "source": [
        "df.isna().sum()"
      ]
    },
    {
      "cell_type": "markdown",
      "metadata": {
        "id": "SUSRAoxcJKj-"
      },
      "source": [
        "## **EDA**"
      ]
    },
    {
      "cell_type": "code",
      "execution_count": null,
      "metadata": {
        "id": "aJPklrPAJKkA"
      },
      "outputs": [],
      "source": [
        "sns.set_palette('Set1')"
      ]
    },
    {
      "cell_type": "code",
      "execution_count": null,
      "metadata": {
        "id": "2KSMGanwJKkF",
        "outputId": "6db5b694-7eb0-4c34-d6b4-cd739dfd13f8"
      },
      "outputs": [
        {
          "data": {
            "image/png": "[encoded data removed]",
            "text/plain": [
              "<Figure size 432x288 with 1 Axes>"
            ]
          },
          "metadata": {},
          "output_type": "display_data"
        }
      ],
      "source": [
        "# Negara asal nasabah\n",
        "sns.countplot(x='Geography', data=df);"
      ]
    },
    {
      "cell_type": "markdown",
      "metadata": {
        "id": "oGs8wQ63JKkG"
      },
      "source": [
        "Nasabah paling banyak berasal dari France"
      ]
    },
    {
      "cell_type": "code",
      "execution_count": null,
      "metadata": {
        "id": "KDznVPCpJKkH",
        "outputId": "13e0f2a4-12f7-4f90-e2ac-795977b74b8f"
      },
      "outputs": [
        {
          "data": {
            "image/png": "[encoded data removed]",
            "text/plain": [
              "<Figure size 792x360 with 3 Axes>"
            ]
          },
          "metadata": {},
          "output_type": "display_data"
        }
      ],
      "source": [
        "# Jumlah nasabah untuk tiap categorical variables, dibagi berdasarkan asal negaranya\n",
        "features = ['HasCrCard', 'Exited', 'NumOfProducts']\n",
        "plt.figure(figsize=(11, 5))\n",
        "sns.set(palette='Set1')\n",
        "plotnumber = 1\n",
        "\n",
        "for feature in features:\n",
        "    ax = plt.subplot(1, 3, plotnumber)\n",
        "    sns.countplot(x=feature, hue='Geography', data=df)\n",
        "    plt.xlabel(feature)\n",
        "    plt.title(feature)\n",
        "    plotnumber += 1\n",
        "    plt.tight_layout();"
      ]
    },
    {
      "cell_type": "code",
      "execution_count": null,
      "metadata": {
        "id": "4-55ipoYJKkH",
        "outputId": "b2619ab6-0b4d-43ad-cc18-84db77541062"
      },
      "outputs": [
        {
          "data": {
            "image/png": "[encoded data removed]",
            "text/plain": [
              "<Figure size 432x288 with 1 Axes>"
            ]
          },
          "metadata": {},
          "output_type": "display_data"
        }
      ],
      "source": [
        "# Perbandingan churn customers pada tiap negara\n",
        "geo_churn_no = df[df.Exited==0]['Geography']\n",
        "geo_churn_yes = df[df.Exited==1]['Geography']\n",
        "\n",
        "plt.xlabel('Geography')\n",
        "plt.ylabel('Number Of Customers')\n",
        "plt.title('Customer Churn Prediction Visualization')\n",
        "plt.hist([geo_churn_yes, geo_churn_no], color=['red', 'green'], label=['Churn=Yes', 'Churn=No'])\n",
        "plt.legend();"
      ]
    },
    {
      "cell_type": "code",
      "execution_count": null,
      "metadata": {
        "id": "kUngF4jfJKkI",
        "outputId": "68ae4945-55ef-4e28-ae99-74ffb73d1464"
      },
      "outputs": [
        {
          "data": {
            "image/png": "[encoded data removed]",
            "text/plain": [
              "<Figure size 432x288 with 1 Axes>"
            ]
          },
          "metadata": {},
          "output_type": "display_data"
        }
      ],
      "source": [
        "# Perbandingan churn customers pada tiap gender\n",
        "\n",
        "gender_churn_no = df[df.Exited==0]['Gender']\n",
        "gender_churn_yes = df[df.Exited==1]['Gender']\n",
        "\n",
        "plt.xlabel('Gender')\n",
        "plt.ylabel('Number Of Customers')\n",
        "plt.title('Customer Churn Prediction Visualization')\n",
        "plt.hist([gender_churn_yes, gender_churn_no], color=['red', 'green'], label=['Churn=Yes', 'Churn=No'])\n",
        "plt.legend();"
      ]
    },
    {
      "cell_type": "code",
      "execution_count": null,
      "metadata": {
        "id": "7e-rUAnCJKkJ",
        "outputId": "fabc68b4-7054-4b02-ecf1-e92dab38a27a"
      },
      "outputs": [
        {
          "data": {
            "image/png": "[encoded data removed]",
            "text/plain": [
              "<Figure size 432x288 with 1 Axes>"
            ]
          },
          "metadata": {},
          "output_type": "display_data"
        }
      ],
      "source": [
        "# Perbandingan churn customers untuk tiap lama tahun Tenure/masa cicilan\n",
        "\n",
        "tenure_churn_no = df[df.Exited==0].Tenure\n",
        "tenure_churn_yes = df[df.Exited==1].Tenure\n",
        "\n",
        "plt.xlabel('Tenure')\n",
        "plt.ylabel('Number Of Customers')\n",
        "plt.title('Customer Churn Prediction Visualization')\n",
        "plt.hist([tenure_churn_yes, tenure_churn_no], color=['red', 'green'], label=['Churn=Yes', 'Churn=No'])\n",
        "plt.legend();"
      ]
    },
    {
      "cell_type": "code",
      "execution_count": null,
      "metadata": {
        "id": "-5puQaESJKkJ",
        "outputId": "be56a3ed-172f-4da4-f30b-39c5d5ced8ba"
      },
      "outputs": [
        {
          "data": {
            "image/png": "[encoded data removed]",
            "text/plain": [
              "<Figure size 432x288 with 1 Axes>"
            ]
          },
          "metadata": {},
          "output_type": "display_data"
        }
      ],
      "source": [
        "# sebaran umur pada active member dan non-active member\n",
        "sns.boxplot(x='IsActiveMember', y='Age', data=df);"
      ]
    },
    {
      "cell_type": "code",
      "execution_count": null,
      "metadata": {
        "id": "rMOLmHjiJKkK",
        "outputId": "42191661-d482-463c-e794-11e5f2678959"
      },
      "outputs": [
        {
          "data": {
            "image/png": "[encoded data removed]",
            "text/plain": [
              "<Figure size 432x288 with 1 Axes>"
            ]
          },
          "metadata": {},
          "output_type": "display_data"
        }
      ],
      "source": [
        "# sebaran umur pada churn customer dan non-churn customer\n",
        "sns.boxplot(x='Exited', y='Age', data=df);"
      ]
    },
    {
      "cell_type": "code",
      "execution_count": null,
      "metadata": {
        "id": "oIfNG2xaJKkK",
        "outputId": "d4eb0ac4-26e6-49da-8fcc-19032535b63a"
      },
      "outputs": [
        {
          "data": {
            "image/png": "[encoded data removed]",
            "text/plain": [
              "<Figure size 432x288 with 1 Axes>"
            ]
          },
          "metadata": {},
          "output_type": "display_data"
        }
      ],
      "source": [
        "# sebaran gaji pada tiap jumlah product yang digunakan oleh nasabah\n",
        "\n",
        "sns.boxplot(x='NumOfProducts', y='EstimatedSalary', data=df);"
      ]
    },
    {
      "cell_type": "code",
      "execution_count": null,
      "metadata": {
        "id": "xgbXDL7mJKkM",
        "outputId": "6fd58c3c-9cb5-46af-edf6-1f168047ae70"
      },
      "outputs": [
        {
          "data": {
            "image/png": "[encoded data removed]",
            "text/plain": [
              "<Figure size 432x288 with 1 Axes>"
            ]
          },
          "metadata": {},
          "output_type": "display_data"
        }
      ],
      "source": [
        "# korelasi antara umur dan saldo\n",
        "sns.scatterplot(x='Age', y='Balance', data=df);"
      ]
    },
    {
      "cell_type": "markdown",
      "metadata": {
        "id": "zkjUa9zXJKkM"
      },
      "source": [
        "## **Drop unnecessary features**"
      ]
    },
    {
      "cell_type": "code",
      "execution_count": null,
      "metadata": {
        "id": "0cNjcYsqJKkN",
        "outputId": "f5a7f3bf-c9e0-43f6-f72a-49fc56163db3"
      },
      "outputs": [
        {
          "data": {
            "text/html": [
              "<div>\n",
              "<style scoped>\n",
              "    .dataframe tbody tr th:only-of-type {\n",
              "        vertical-align: middle;\n",
              "    }\n",
              "\n",
              "    .dataframe tbody tr th {\n",
              "        vertical-align: top;\n",
              "    }\n",
              "\n",
              "    .dataframe thead th {\n",
              "        text-align: right;\n",
              "    }\n",
              "</style>\n",
              "<table border=\"1\" class=\"dataframe\">\n",
              "  <thead>\n",
              "    <tr style=\"text-align: right;\">\n",
              "      <th></th>\n",
              "      <th>CreditScore</th>\n",
              "      <th>Geography</th>\n",
              "      <th>Gender</th>\n",
              "      <th>Age</th>\n",
              "      <th>Tenure</th>\n",
              "      <th>Balance</th>\n",
              "      <th>NumOfProducts</th>\n",
              "      <th>HasCrCard</th>\n",
              "      <th>IsActiveMember</th>\n",
              "      <th>EstimatedSalary</th>\n",
              "      <th>Exited</th>\n",
              "    </tr>\n",
              "  </thead>\n",
              "  <tbody>\n",
              "    <tr>\n",
              "      <th>0</th>\n",
              "      <td>619</td>\n",
              "      <td>France</td>\n",
              "      <td>Female</td>\n",
              "      <td>42</td>\n",
              "      <td>2</td>\n",
              "      <td>0.00</td>\n",
              "      <td>1</td>\n",
              "      <td>1</td>\n",
              "      <td>1</td>\n",
              "      <td>101348.88</td>\n",
              "      <td>1</td>\n",
              "    </tr>\n",
              "    <tr>\n",
              "      <th>1</th>\n",
              "      <td>608</td>\n",
              "      <td>Spain</td>\n",
              "      <td>Female</td>\n",
              "      <td>41</td>\n",
              "      <td>1</td>\n",
              "      <td>83807.86</td>\n",
              "      <td>1</td>\n",
              "      <td>0</td>\n",
              "      <td>1</td>\n",
              "      <td>112542.58</td>\n",
              "      <td>0</td>\n",
              "    </tr>\n",
              "    <tr>\n",
              "      <th>2</th>\n",
              "      <td>502</td>\n",
              "      <td>France</td>\n",
              "      <td>Female</td>\n",
              "      <td>42</td>\n",
              "      <td>8</td>\n",
              "      <td>159660.80</td>\n",
              "      <td>3</td>\n",
              "      <td>1</td>\n",
              "      <td>0</td>\n",
              "      <td>113931.57</td>\n",
              "      <td>1</td>\n",
              "    </tr>\n",
              "    <tr>\n",
              "      <th>3</th>\n",
              "      <td>699</td>\n",
              "      <td>France</td>\n",
              "      <td>Female</td>\n",
              "      <td>39</td>\n",
              "      <td>1</td>\n",
              "      <td>0.00</td>\n",
              "      <td>2</td>\n",
              "      <td>0</td>\n",
              "      <td>0</td>\n",
              "      <td>93826.63</td>\n",
              "      <td>0</td>\n",
              "    </tr>\n",
              "    <tr>\n",
              "      <th>4</th>\n",
              "      <td>850</td>\n",
              "      <td>Spain</td>\n",
              "      <td>Female</td>\n",
              "      <td>43</td>\n",
              "      <td>2</td>\n",
              "      <td>125510.82</td>\n",
              "      <td>1</td>\n",
              "      <td>1</td>\n",
              "      <td>1</td>\n",
              "      <td>79084.10</td>\n",
              "      <td>0</td>\n",
              "    </tr>\n",
              "    <tr>\n",
              "      <th>...</th>\n",
              "      <td>...</td>\n",
              "      <td>...</td>\n",
              "      <td>...</td>\n",
              "      <td>...</td>\n",
              "      <td>...</td>\n",
              "      <td>...</td>\n",
              "      <td>...</td>\n",
              "      <td>...</td>\n",
              "      <td>...</td>\n",
              "      <td>...</td>\n",
              "      <td>...</td>\n",
              "    </tr>\n",
              "    <tr>\n",
              "      <th>9995</th>\n",
              "      <td>771</td>\n",
              "      <td>France</td>\n",
              "      <td>Male</td>\n",
              "      <td>39</td>\n",
              "      <td>5</td>\n",
              "      <td>0.00</td>\n",
              "      <td>2</td>\n",
              "      <td>1</td>\n",
              "      <td>0</td>\n",
              "      <td>96270.64</td>\n",
              "      <td>0</td>\n",
              "    </tr>\n",
              "    <tr>\n",
              "      <th>9996</th>\n",
              "      <td>516</td>\n",
              "      <td>France</td>\n",
              "      <td>Male</td>\n",
              "      <td>35</td>\n",
              "      <td>10</td>\n",
              "      <td>57369.61</td>\n",
              "      <td>1</td>\n",
              "      <td>1</td>\n",
              "      <td>1</td>\n",
              "      <td>101699.77</td>\n",
              "      <td>0</td>\n",
              "    </tr>\n",
              "    <tr>\n",
              "      <th>9997</th>\n",
              "      <td>709</td>\n",
              "      <td>France</td>\n",
              "      <td>Female</td>\n",
              "      <td>36</td>\n",
              "      <td>7</td>\n",
              "      <td>0.00</td>\n",
              "      <td>1</td>\n",
              "      <td>0</td>\n",
              "      <td>1</td>\n",
              "      <td>42085.58</td>\n",
              "      <td>1</td>\n",
              "    </tr>\n",
              "    <tr>\n",
              "      <th>9998</th>\n",
              "      <td>772</td>\n",
              "      <td>Germany</td>\n",
              "      <td>Male</td>\n",
              "      <td>42</td>\n",
              "      <td>3</td>\n",
              "      <td>75075.31</td>\n",
              "      <td>2</td>\n",
              "      <td>1</td>\n",
              "      <td>0</td>\n",
              "      <td>92888.52</td>\n",
              "      <td>1</td>\n",
              "    </tr>\n",
              "    <tr>\n",
              "      <th>9999</th>\n",
              "      <td>792</td>\n",
              "      <td>France</td>\n",
              "      <td>Female</td>\n",
              "      <td>28</td>\n",
              "      <td>4</td>\n",
              "      <td>130142.79</td>\n",
              "      <td>1</td>\n",
              "      <td>1</td>\n",
              "      <td>0</td>\n",
              "      <td>38190.78</td>\n",
              "      <td>0</td>\n",
              "    </tr>\n",
              "  </tbody>\n",
              "</table>\n",
              "<p>10000 rows × 11 columns</p>\n",
              "</div>"
            ],
            "text/plain": [
              "      CreditScore Geography  Gender  Age  Tenure    Balance  NumOfProducts  \\\n",
              "0             619    France  Female   42       2       0.00              1   \n",
              "1             608     Spain  Female   41       1   83807.86              1   \n",
              "2             502    France  Female   42       8  159660.80              3   \n",
              "3             699    France  Female   39       1       0.00              2   \n",
              "4             850     Spain  Female   43       2  125510.82              1   \n",
              "...           ...       ...     ...  ...     ...        ...            ...   \n",
              "9995          771    France    Male   39       5       0.00              2   \n",
              "9996          516    France    Male   35      10   57369.61              1   \n",
              "9997          709    France  Female   36       7       0.00              1   \n",
              "9998          772   Germany    Male   42       3   75075.31              2   \n",
              "9999          792    France  Female   28       4  130142.79              1   \n",
              "\n",
              "      HasCrCard  IsActiveMember  EstimatedSalary  Exited  \n",
              "0             1               1        101348.88       1  \n",
              "1             0               1        112542.58       0  \n",
              "2             1               0        113931.57       1  \n",
              "3             0               0         93826.63       0  \n",
              "4             1               1         79084.10       0  \n",
              "...         ...             ...              ...     ...  \n",
              "9995          1               0         96270.64       0  \n",
              "9996          1               1        101699.77       0  \n",
              "9997          0               1         42085.58       1  \n",
              "9998          1               0         92888.52       1  \n",
              "9999          1               0         38190.78       0  \n",
              "\n",
              "[10000 rows x 11 columns]"
            ]
          },
          "execution_count": 172,
          "metadata": {},
          "output_type": "execute_result"
        }
      ],
      "source": [
        "# Drop some columns\n",
        "df = df.drop(['RowNumber', 'CustomerId', 'Surname'], axis=1)\n",
        "df"
      ]
    },
    {
      "cell_type": "markdown",
      "metadata": {
        "id": "vsMm5LgOJKkN"
      },
      "source": [
        "## **Data splitting**"
      ]
    },
    {
      "cell_type": "code",
      "execution_count": null,
      "metadata": {
        "id": "Qi6FpZJuJKkN"
      },
      "outputs": [],
      "source": [
        "X = df.drop(['Exited'], axis=1)\n",
        "y = df['Exited']"
      ]
    },
    {
      "cell_type": "code",
      "execution_count": null,
      "metadata": {
        "id": "2BdBJNV5JKkO"
      },
      "outputs": [],
      "source": [
        "# Split\n",
        "X_train, X_test, y_train, y_test = train_test_split(\n",
        "    X,\n",
        "    y,\n",
        "    stratify=y,\n",
        "    test_size=0.2,\n",
        "    random_state=0\n",
        ")"
      ]
    },
    {
      "cell_type": "markdown",
      "metadata": {
        "id": "Wqf8hkf6JKkO"
      },
      "source": [
        "## **Data preprocessing**"
      ]
    },
    {
      "cell_type": "code",
      "execution_count": null,
      "metadata": {
        "id": "fTVuHnmeJKkQ"
      },
      "outputs": [],
      "source": [
        "# Transformer scheme\n",
        "transformer = ColumnTransformer([\n",
        "    ('onehot', OneHotEncoder(), ['Geography', 'Gender'])\n",
        "], remainder='passthrough')"
      ]
    },
    {
      "cell_type": "code",
      "execution_count": null,
      "metadata": {
        "id": "jJf21sDCJKkW"
      },
      "outputs": [],
      "source": []
    },
    {
      "cell_type": "markdown",
      "metadata": {
        "id": "hWxiXx-YJKkX"
      },
      "source": [
        "## **Model benchmark**"
      ]
    },
    {
      "cell_type": "code",
      "execution_count": null,
      "metadata": {
        "id": "f4hAK2EZJKkX"
      },
      "outputs": [],
      "source": [
        "# DecsionTree\n",
        "tree = DecisionTreeClassifier(random_state=0)\n",
        "\n",
        "# RandomForest\n",
        "rf = RandomForestClassifier(random_state=0)\n",
        "\n",
        "# Adaboost\n",
        "ada = AdaBoostClassifier(tree, random_state=0)\n",
        "\n",
        "# Gradientboost\n",
        "gbc = GradientBoostingClassifier(random_state=0)\n",
        "\n",
        "# ExtremeGradientBosst\n",
        "xgbc = XGBClassifier(random_state=0, verbosity=0)"
      ]
    },
    {
      "cell_type": "code",
      "execution_count": null,
      "metadata": {
        "id": "MP-z3LtfJKkY",
        "outputId": "92fbda36-b33a-4782-9481-40b2f3ee3eb5"
      },
      "outputs": [
        {
          "name": "stdout",
          "output_type": "stream",
          "text": [
            "[0.47546012 0.5        0.5398773  0.55828221 0.47852761] DecisionTreeClassifier(random_state=0)\n",
            "[0.45092025 0.51840491 0.50306748 0.51226994 0.46932515] RandomForestClassifier(random_state=0)\n",
            "[0.48466258 0.50613497 0.52760736 0.56134969 0.50306748] AdaBoostClassifier(base_estimator=DecisionTreeClassifier(random_state=0),\n",
            "                   random_state=0)\n",
            "[0.51226994 0.52453988 0.57055215 0.54601227 0.51226994] GradientBoostingClassifier(random_state=0)\n",
            "[0.49386503 0.51840491 0.52453988 0.53680982 0.5       ] XGBClassifier(base_score=None, booster=None, colsample_bylevel=None,\n",
            "              colsample_bynode=None, colsample_bytree=None, gamma=None,\n",
            "              gpu_id=None, importance_type='gain', interaction_constraints=None,\n",
            "              learning_rate=None, max_delta_step=None, max_depth=None,\n",
            "              min_child_weight=None, missing=nan, monotone_constraints=None,\n",
            "              n_estimators=100, n_jobs=None, num_parallel_tree=None,\n",
            "              random_state=0, reg_alpha=None, reg_lambda=None,\n",
            "              scale_pos_weight=None, subsample=None, tree_method=None,\n",
            "              validate_parameters=None, verbosity=0)\n"
          ]
        }
      ],
      "source": [
        "# Define imbalanced treatment method\n",
        "models = [tree, rf, ada, gbc, xgbc]\n",
        "score = []\n",
        "nilai_mean = []\n",
        "nilai_std = []\n",
        "\n",
        "for i in models:\n",
        "\n",
        "    smote = SMOTE(random_state=0)\n",
        "    skfold = StratifiedKFold(n_splits=5)\n",
        "    estimator = Pipeline([\n",
        "        ('transformer', transformer),\n",
        "        ('balancing', smote),\n",
        "        ('model', i)\n",
        "    ])\n",
        "\n",
        "    model_cv = cross_val_score(\n",
        "        estimator,\n",
        "        X_train,\n",
        "        y_train,\n",
        "        cv=skfold,\n",
        "        scoring='recall',\n",
        "        error_score='raise'\n",
        "        )\n",
        "\n",
        "    print(model_cv, i)\n",
        "\n",
        "    score.append(model_cv)\n",
        "    nilai_mean.append(model_cv.mean())\n",
        "    nilai_std.append(model_cv.std())"
      ]
    },
    {
      "cell_type": "code",
      "execution_count": null,
      "metadata": {
        "id": "iYBBfXzIJKkZ",
        "outputId": "c0a6df84-573f-4e14-bb84-f223ef765196"
      },
      "outputs": [
        {
          "data": {
            "text/html": [
              "<div>\n",
              "<style scoped>\n",
              "    .dataframe tbody tr th:only-of-type {\n",
              "        vertical-align: middle;\n",
              "    }\n",
              "\n",
              "    .dataframe tbody tr th {\n",
              "        vertical-align: top;\n",
              "    }\n",
              "\n",
              "    .dataframe thead th {\n",
              "        text-align: right;\n",
              "    }\n",
              "</style>\n",
              "<table border=\"1\" class=\"dataframe\">\n",
              "  <thead>\n",
              "    <tr style=\"text-align: right;\">\n",
              "      <th></th>\n",
              "      <th>model</th>\n",
              "      <th>mean</th>\n",
              "      <th>std</th>\n",
              "    </tr>\n",
              "  </thead>\n",
              "  <tbody>\n",
              "    <tr>\n",
              "      <th>0</th>\n",
              "      <td>tree</td>\n",
              "      <td>0.510429</td>\n",
              "      <td>0.033186</td>\n",
              "    </tr>\n",
              "    <tr>\n",
              "      <th>1</th>\n",
              "      <td>rf</td>\n",
              "      <td>0.490798</td>\n",
              "      <td>0.026173</td>\n",
              "    </tr>\n",
              "    <tr>\n",
              "      <th>2</th>\n",
              "      <td>ada</td>\n",
              "      <td>0.516564</td>\n",
              "      <td>0.026216</td>\n",
              "    </tr>\n",
              "    <tr>\n",
              "      <th>3</th>\n",
              "      <td>gbc</td>\n",
              "      <td>0.533129</td>\n",
              "      <td>0.022407</td>\n",
              "    </tr>\n",
              "    <tr>\n",
              "      <th>4</th>\n",
              "      <td>xgbc</td>\n",
              "      <td>0.514724</td>\n",
              "      <td>0.015809</td>\n",
              "    </tr>\n",
              "  </tbody>\n",
              "</table>\n",
              "</div>"
            ],
            "text/plain": [
              "  model      mean       std\n",
              "0  tree  0.510429  0.033186\n",
              "1    rf  0.490798  0.026173\n",
              "2   ada  0.516564  0.026216\n",
              "3   gbc  0.533129  0.022407\n",
              "4  xgbc  0.514724  0.015809"
            ]
          },
          "execution_count": 342,
          "metadata": {},
          "output_type": "execute_result"
        }
      ],
      "source": [
        "pd.DataFrame({\n",
        "    'model':['tree', 'rf',' ada', 'gbc', 'xgbc'],\n",
        "    'mean':nilai_mean,\n",
        "    'std':nilai_std\n",
        "})"
      ]
    },
    {
      "cell_type": "markdown",
      "metadata": {
        "id": "zC2ddZMcJKka"
      },
      "source": [
        "Model GradientBoost dan XGBoost dipilih menjadi 2 model paling optimal karena memiliki nilai recall rata-rata paling tinggi.\n",
        "\n",
        "- GradientBoost: 0.53\n"
      ]
    },
    {
      "cell_type": "markdown",
      "metadata": {
        "id": "aqVo1s8qJKkd"
      },
      "source": [
        "## **Model Performance on Test Set**"
      ]
    },
    {
      "cell_type": "code",
      "execution_count": null,
      "metadata": {
        "id": "6WJA25-5JKkd",
        "outputId": "ab089deb-25a1-4259-bc85-3df796df1b4a"
      },
      "outputs": [
        {
          "data": {
            "text/html": [
              "<div>\n",
              "<style scoped>\n",
              "    .dataframe tbody tr th:only-of-type {\n",
              "        vertical-align: middle;\n",
              "    }\n",
              "\n",
              "    .dataframe tbody tr th {\n",
              "        vertical-align: top;\n",
              "    }\n",
              "\n",
              "    .dataframe thead th {\n",
              "        text-align: right;\n",
              "    }\n",
              "</style>\n",
              "<table border=\"1\" class=\"dataframe\">\n",
              "  <thead>\n",
              "    <tr style=\"text-align: right;\">\n",
              "      <th></th>\n",
              "      <th>Recall</th>\n",
              "    </tr>\n",
              "  </thead>\n",
              "  <tbody>\n",
              "    <tr>\n",
              "      <th>GradientBoosting</th>\n",
              "      <td>0.503686</td>\n",
              "    </tr>\n",
              "    <tr>\n",
              "      <th>XGBoost</th>\n",
              "      <td>0.498771</td>\n",
              "    </tr>\n",
              "  </tbody>\n",
              "</table>\n",
              "</div>"
            ],
            "text/plain": [
              "                    Recall\n",
              "GradientBoosting  0.503686\n",
              "XGBoost           0.498771"
            ]
          },
          "execution_count": 343,
          "metadata": {},
          "output_type": "execute_result"
        }
      ],
      "source": [
        "models={\n",
        "    'GradientBoosting': GradientBoostingClassifier(random_state=0),\n",
        "    'XGBoost': XGBClassifier(random_state=0, verbosity=0)\n",
        "}\n",
        "\n",
        "score=[]\n",
        "\n",
        "for i in models:\n",
        "\n",
        "    model = Pipeline([\n",
        "        ('transformer', transformer),\n",
        "        ('balancing', smote),\n",
        "        ('model', models[i])\n",
        "    ])\n",
        "\n",
        "    # fitting\n",
        "    model.fit(X_train, y_train)\n",
        "\n",
        "    # predict\n",
        "    y_pred = model.predict(X_test)\n",
        "\n",
        "    # recall score\n",
        "    score.append([recall_score(y_test, y_pred)])\n",
        "\n",
        "score_before_tuning = pd.DataFrame(score, columns=['Recall'], index = models.keys())\n",
        "score_before_tuning\n"
      ]
    },
    {
      "cell_type": "code",
      "execution_count": null,
      "metadata": {
        "id": "PthvP_7ZJKkf"
      },
      "outputs": [],
      "source": [
        "# model.get_params"
      ]
    },
    {
      "cell_type": "markdown",
      "metadata": {
        "id": "GTFUulthJKkf"
      },
      "source": [
        "## **Hyperparameter Tuning**"
      ]
    },
    {
      "cell_type": "markdown",
      "metadata": {
        "id": "Bo1up1e1JKkj"
      },
      "source": [
        "### Gradient Boost"
      ]
    },
    {
      "cell_type": "code",
      "execution_count": null,
      "metadata": {
        "id": "WBAMkooVJKkm"
      },
      "outputs": [],
      "source": [
        "# kedalaman pohon\n",
        "max_depth = list(np.arange(1,10))\n",
        "\n",
        "# learning rate\n",
        "learning_rate = list(np.arange(1,100)/100)\n",
        "\n",
        "# jumlah pohon\n",
        "n_estimators = list(np.arange(50,500))\n",
        "\n",
        "# jumlah baris train set tiap pohon (% dari total baris train set)\n",
        "subsample = list(np.arange(2,10)/10)\n",
        "\n",
        "# jumlah feature yang digunakan untuk pertimbangan splitting (% dari total kolom train set)\n",
        "max_features = list(np.arange(1,10)/10)\n",
        "\n",
        "# Hyperparameter space GBC\n",
        "hyperparam_space_gbc = {\n",
        "    'balancing':[smote, None],\n",
        "    'model__max_depth':max_depth ,\n",
        "    'model__learning_rate':learning_rate,\n",
        "    'model__n_estimators':n_estimators,\n",
        "    'model__subsample':subsample,\n",
        "    'model__max_features':max_features\n",
        "}"
      ]
    },
    {
      "cell_type": "code",
      "execution_count": null,
      "metadata": {
        "id": "9FN6OgFWJKkn"
      },
      "outputs": [],
      "source": [
        "# Stratified cross validation\n",
        "skf = StratifiedKFold(n_splits = 5)\n",
        "\n",
        "# Balancing\n",
        "smote = SMOTE()\n",
        "\n",
        "# Benchmark model 1\n",
        "gbc = GradientBoostingClassifier(random_state=0)\n",
        "\n",
        "# Create the algorithm chains\n",
        "estimator_gbc = Pipeline([\n",
        "    ('tansformer', transformer),\n",
        "    ('balancing', smote),\n",
        "    ('model', gbc)\n",
        "    ])\n",
        "\n",
        "# Hyperparameter tuning\n",
        "random_gbc = RandomizedSearchCV(\n",
        "    estimator_gbc,\n",
        "    param_distributions = hyperparam_space_gbc,\n",
        "    cv = skf,\n",
        "    scoring = 'recall',\n",
        "    n_jobs = -1,\n",
        "    random_state=0\n",
        ")"
      ]
    },
    {
      "cell_type": "code",
      "execution_count": null,
      "metadata": {
        "id": "BlwLhYevJKko",
        "outputId": "050171f7-0007-4954-bb93-afb6d24d7493"
      },
      "outputs": [
        {
          "data": {
            "text/plain": [
              "RandomizedSearchCV(cv=StratifiedKFold(n_splits=5, random_state=None, shuffle=False),\n",
              "                   estimator=Pipeline(steps=[('tansformer',\n",
              "                                              ColumnTransformer(remainder='passthrough',\n",
              "                                                                transformers=[('onehot',\n",
              "                                                                               OneHotEncoder(),\n",
              "                                                                               ['Geography',\n",
              "                                                                                'Gender'])])),\n",
              "                                             ('balancing', SMOTE()),\n",
              "                                             ('model',\n",
              "                                              GradientBoostingClassifier(random_state=0))]),\n",
              "                   n_jobs=-1,\n",
              "                   param_distributions={'balancing'...\n",
              "                                                                 0.21, 0.22,\n",
              "                                                                 0.23, 0.24,\n",
              "                                                                 0.25, 0.26,\n",
              "                                                                 0.27, 0.28,\n",
              "                                                                 0.29, 0.3, ...],\n",
              "                                        'model__max_depth': [1, 2, 3, 4, 5, 6,\n",
              "                                                             7, 8, 9],\n",
              "                                        'model__max_features': [0.1, 0.2, 0.3,\n",
              "                                                                0.4, 0.5, 0.6,\n",
              "                                                                0.7, 0.8, 0.9],\n",
              "                                        'model__n_estimators': [50, 51, 52, 53,\n",
              "                                                                54, 55, 56, 57,\n",
              "                                                                58, 59, 60, 61,\n",
              "                                                                62, 63, 64, 65,\n",
              "                                                                66, 67, 68, 69,\n",
              "                                                                70, 71, 72, 73,\n",
              "                                                                74, 75, 76, 77,\n",
              "                                                                78, 79, ...],\n",
              "                                        'model__subsample': [0.2, 0.3, 0.4, 0.5,\n",
              "                                                             0.6, 0.7, 0.8,\n",
              "                                                             0.9]},\n",
              "                   random_state=0, scoring='recall')"
            ]
          },
          "execution_count": 346,
          "metadata": {},
          "output_type": "execute_result"
        }
      ],
      "source": [
        "random_gbc.fit(X_train, y_train)"
      ]
    },
    {
      "cell_type": "code",
      "execution_count": null,
      "metadata": {
        "id": "qfq4_BiEJKkp",
        "outputId": "b68bcbd3-30f3-4c76-fab8-bcd95c014f96"
      },
      "outputs": [
        {
          "data": {
            "text/html": [
              "<div>\n",
              "<style scoped>\n",
              "    .dataframe tbody tr th:only-of-type {\n",
              "        vertical-align: middle;\n",
              "    }\n",
              "\n",
              "    .dataframe tbody tr th {\n",
              "        vertical-align: top;\n",
              "    }\n",
              "\n",
              "    .dataframe thead th {\n",
              "        text-align: right;\n",
              "    }\n",
              "</style>\n",
              "<table border=\"1\" class=\"dataframe\">\n",
              "  <thead>\n",
              "    <tr style=\"text-align: right;\">\n",
              "      <th></th>\n",
              "      <th>mean_fit_time</th>\n",
              "      <th>std_fit_time</th>\n",
              "      <th>mean_score_time</th>\n",
              "      <th>std_score_time</th>\n",
              "      <th>param_model__subsample</th>\n",
              "      <th>param_model__n_estimators</th>\n",
              "      <th>param_model__max_features</th>\n",
              "      <th>param_model__max_depth</th>\n",
              "      <th>param_model__learning_rate</th>\n",
              "      <th>param_balancing</th>\n",
              "      <th>params</th>\n",
              "      <th>split0_test_score</th>\n",
              "      <th>split1_test_score</th>\n",
              "      <th>split2_test_score</th>\n",
              "      <th>split3_test_score</th>\n",
              "      <th>split4_test_score</th>\n",
              "      <th>mean_test_score</th>\n",
              "      <th>std_test_score</th>\n",
              "      <th>rank_test_score</th>\n",
              "    </tr>\n",
              "  </thead>\n",
              "  <tbody>\n",
              "    <tr>\n",
              "      <th>8</th>\n",
              "      <td>2.024799</td>\n",
              "      <td>0.027574</td>\n",
              "      <td>0.029199</td>\n",
              "      <td>0.007907</td>\n",
              "      <td>0.6</td>\n",
              "      <td>70</td>\n",
              "      <td>0.6</td>\n",
              "      <td>3</td>\n",
              "      <td>0.02</td>\n",
              "      <td>SMOTE(random_state=0)</td>\n",
              "      <td>{'model__subsample': 0.6, 'model__n_estimators...</td>\n",
              "      <td>0.515337</td>\n",
              "      <td>0.564417</td>\n",
              "      <td>0.592025</td>\n",
              "      <td>0.524540</td>\n",
              "      <td>0.539877</td>\n",
              "      <td>0.547239</td>\n",
              "      <td>0.027885</td>\n",
              "      <td>1</td>\n",
              "    </tr>\n",
              "    <tr>\n",
              "      <th>6</th>\n",
              "      <td>9.765001</td>\n",
              "      <td>0.085078</td>\n",
              "      <td>0.042600</td>\n",
              "      <td>0.000799</td>\n",
              "      <td>0.7</td>\n",
              "      <td>184</td>\n",
              "      <td>0.5</td>\n",
              "      <td>6</td>\n",
              "      <td>0.78</td>\n",
              "      <td>SMOTE(random_state=0)</td>\n",
              "      <td>{'model__subsample': 0.7, 'model__n_estimators...</td>\n",
              "      <td>0.549080</td>\n",
              "      <td>0.524540</td>\n",
              "      <td>0.530675</td>\n",
              "      <td>0.539877</td>\n",
              "      <td>0.512270</td>\n",
              "      <td>0.531288</td>\n",
              "      <td>0.012633</td>\n",
              "      <td>2</td>\n",
              "    </tr>\n",
              "    <tr>\n",
              "      <th>5</th>\n",
              "      <td>3.964601</td>\n",
              "      <td>0.017547</td>\n",
              "      <td>0.031601</td>\n",
              "      <td>0.000490</td>\n",
              "      <td>0.3</td>\n",
              "      <td>221</td>\n",
              "      <td>0.9</td>\n",
              "      <td>2</td>\n",
              "      <td>0.27</td>\n",
              "      <td>SMOTE(random_state=0)</td>\n",
              "      <td>{'model__subsample': 0.3, 'model__n_estimators...</td>\n",
              "      <td>0.475460</td>\n",
              "      <td>0.530675</td>\n",
              "      <td>0.555215</td>\n",
              "      <td>0.570552</td>\n",
              "      <td>0.521472</td>\n",
              "      <td>0.530675</td>\n",
              "      <td>0.032637</td>\n",
              "      <td>3</td>\n",
              "    </tr>\n",
              "    <tr>\n",
              "      <th>2</th>\n",
              "      <td>4.564599</td>\n",
              "      <td>0.046178</td>\n",
              "      <td>0.044201</td>\n",
              "      <td>0.000751</td>\n",
              "      <td>0.2</td>\n",
              "      <td>188</td>\n",
              "      <td>0.4</td>\n",
              "      <td>6</td>\n",
              "      <td>0.08</td>\n",
              "      <td>SMOTE(random_state=0)</td>\n",
              "      <td>{'model__subsample': 0.2, 'model__n_estimators...</td>\n",
              "      <td>0.512270</td>\n",
              "      <td>0.524540</td>\n",
              "      <td>0.576687</td>\n",
              "      <td>0.518405</td>\n",
              "      <td>0.506135</td>\n",
              "      <td>0.527607</td>\n",
              "      <td>0.025295</td>\n",
              "      <td>4</td>\n",
              "    </tr>\n",
              "    <tr>\n",
              "      <th>0</th>\n",
              "      <td>20.596400</td>\n",
              "      <td>0.233265</td>\n",
              "      <td>0.060197</td>\n",
              "      <td>0.001164</td>\n",
              "      <td>0.6</td>\n",
              "      <td>375</td>\n",
              "      <td>0.9</td>\n",
              "      <td>5</td>\n",
              "      <td>0.29</td>\n",
              "      <td>SMOTE(random_state=0)</td>\n",
              "      <td>{'model__subsample': 0.6, 'model__n_estimators...</td>\n",
              "      <td>0.509202</td>\n",
              "      <td>0.533742</td>\n",
              "      <td>0.530675</td>\n",
              "      <td>0.546012</td>\n",
              "      <td>0.503067</td>\n",
              "      <td>0.524540</td>\n",
              "      <td>0.015998</td>\n",
              "      <td>5</td>\n",
              "    </tr>\n",
              "  </tbody>\n",
              "</table>\n",
              "</div>"
            ],
            "text/plain": [
              "   mean_fit_time  std_fit_time  mean_score_time  std_score_time  \\\n",
              "8       2.024799      0.027574         0.029199        0.007907   \n",
              "6       9.765001      0.085078         0.042600        0.000799   \n",
              "5       3.964601      0.017547         0.031601        0.000490   \n",
              "2       4.564599      0.046178         0.044201        0.000751   \n",
              "0      20.596400      0.233265         0.060197        0.001164   \n",
              "\n",
              "  param_model__subsample param_model__n_estimators param_model__max_features  \\\n",
              "8                    0.6                        70                       0.6   \n",
              "6                    0.7                       184                       0.5   \n",
              "5                    0.3                       221                       0.9   \n",
              "2                    0.2                       188                       0.4   \n",
              "0                    0.6                       375                       0.9   \n",
              "\n",
              "  param_model__max_depth param_model__learning_rate        param_balancing  \\\n",
              "8                      3                       0.02  SMOTE(random_state=0)   \n",
              "6                      6                       0.78  SMOTE(random_state=0)   \n",
              "5                      2                       0.27  SMOTE(random_state=0)   \n",
              "2                      6                       0.08  SMOTE(random_state=0)   \n",
              "0                      5                       0.29  SMOTE(random_state=0)   \n",
              "\n",
              "                                              params  split0_test_score  \\\n",
              "8  {'model__subsample': 0.6, 'model__n_estimators...           0.515337   \n",
              "6  {'model__subsample': 0.7, 'model__n_estimators...           0.549080   \n",
              "5  {'model__subsample': 0.3, 'model__n_estimators...           0.475460   \n",
              "2  {'model__subsample': 0.2, 'model__n_estimators...           0.512270   \n",
              "0  {'model__subsample': 0.6, 'model__n_estimators...           0.509202   \n",
              "\n",
              "   split1_test_score  split2_test_score  split3_test_score  split4_test_score  \\\n",
              "8           0.564417           0.592025           0.524540           0.539877   \n",
              "6           0.524540           0.530675           0.539877           0.512270   \n",
              "5           0.530675           0.555215           0.570552           0.521472   \n",
              "2           0.524540           0.576687           0.518405           0.506135   \n",
              "0           0.533742           0.530675           0.546012           0.503067   \n",
              "\n",
              "   mean_test_score  std_test_score  rank_test_score  \n",
              "8         0.547239        0.027885                1  \n",
              "6         0.531288        0.012633                2  \n",
              "5         0.530675        0.032637                3  \n",
              "2         0.527607        0.025295                4  \n",
              "0         0.524540        0.015998                5  "
            ]
          },
          "execution_count": 347,
          "metadata": {},
          "output_type": "execute_result"
        }
      ],
      "source": [
        "pd.DataFrame(random_gbc.cv_results_).sort_values(by='rank_test_score').head()"
      ]
    },
    {
      "cell_type": "code",
      "execution_count": null,
      "metadata": {
        "id": "fyikCBAfJKkq",
        "outputId": "668fdb1f-8c93-4e8a-c9a5-8b52ae583f48"
      },
      "outputs": [
        {
          "name": "stdout",
          "output_type": "stream",
          "text": [
            "GBC\n",
            "Best_score: 0.5472392638036809\n",
            "Best_params: {'model__subsample': 0.6, 'model__n_estimators': 70, 'model__max_features': 0.6, 'model__max_depth': 3, 'model__learning_rate': 0.02, 'balancing': SMOTE(random_state=0)}\n"
          ]
        }
      ],
      "source": [
        "print('GBC')\n",
        "print('Best_score:', random_gbc.best_score_)\n",
        "print('Best_params:', random_gbc.best_params_)\n"
      ]
    },
    {
      "cell_type": "code",
      "execution_count": null,
      "metadata": {
        "id": "LldLHTvOJKkq"
      },
      "outputs": [],
      "source": []
    },
    {
      "cell_type": "markdown",
      "metadata": {
        "id": "c68R8sX6JKkq"
      },
      "source": [
        "### XGBoost"
      ]
    },
    {
      "cell_type": "code",
      "execution_count": null,
      "metadata": {
        "id": "QWmAFqROJKkr"
      },
      "outputs": [],
      "source": [
        "# kedalaman pohon\n",
        "max_depth = list(np.arange(1,11))\n",
        "\n",
        "# learning rate\n",
        "learning_rate = list(np.arange(1,100)/100)\n",
        "\n",
        "# jumlah pohon\n",
        "n_estimators = list(np.arange(100,201))\n",
        "\n",
        "# jumlah baris tiap pohon (% dari total baris train set)\n",
        "subsample = list(np.arange(2,10)/10)\n",
        "\n",
        "# gamma (min_impurity_decrease)\n",
        "gamma = list(np.arange(1,11))\n",
        "\n",
        "# jumlah feature yang digunakan untuk tiap pohon (% dari total kolom train set)\n",
        "colsample_bytree = list(np.arange(1,10)/10)\n",
        "\n",
        "# alpha (regularization)\n",
        "reg_alpha = list(np.logspace(-3,1,10))\n",
        "\n",
        "\n",
        "# Hyperparam space XGboost\n",
        "hyperparam_space_xgbc = {\n",
        "    'balancing':[smote, None],\n",
        "    'model__max_depth':max_depth,\n",
        "    'model__learning_rate':learning_rate,\n",
        "    'model__n_estimators':n_estimators,\n",
        "    'model__subsample':subsample,\n",
        "    'model__gamma':gamma,\n",
        "    'model__colsample_bytree':colsample_bytree,\n",
        "    'model__reg_alpha': reg_alpha\n",
        "}"
      ]
    },
    {
      "cell_type": "code",
      "execution_count": null,
      "metadata": {
        "id": "KL9_KYuYJKks"
      },
      "outputs": [],
      "source": [
        "# Benchmark model 2\n",
        "xgbc = XGBClassifier(random_state=0, verbosity=0)\n",
        "\n",
        "# Create the algorithm chains\n",
        "estimator_xgbc = Pipeline([\n",
        "        ('tansformer', transformer),\n",
        "        ('balancing', smote),\n",
        "        ('model', xgbc)\n",
        "        ])\n",
        "\n",
        "# Hyperparameter tuning\n",
        "random_xgbc = RandomizedSearchCV(\n",
        "    estimator_xgbc,\n",
        "    param_distributions = hyperparam_space_xgbc,\n",
        "    cv = skf,\n",
        "    scoring = 'recall',\n",
        "    n_jobs = -1,\n",
        "    random_state=0\n",
        ")"
      ]
    },
    {
      "cell_type": "code",
      "execution_count": null,
      "metadata": {
        "id": "KcEydWPaJKkt",
        "outputId": "c6bfd498-129c-4aef-f2ec-9eae9a9bf1cb"
      },
      "outputs": [
        {
          "data": {
            "text/plain": [
              "RandomizedSearchCV(cv=StratifiedKFold(n_splits=5, random_state=None, shuffle=False),\n",
              "                   estimator=Pipeline(steps=[('tansformer',\n",
              "                                              ColumnTransformer(remainder='passthrough',\n",
              "                                                                transformers=[('onehot',\n",
              "                                                                               OneHotEncoder(),\n",
              "                                                                               ['Geography',\n",
              "                                                                                'Gender'])])),\n",
              "                                             ('balancing', SMOTE()),\n",
              "                                             ('model',\n",
              "                                              XGBClassifier(base_score=None,\n",
              "                                                            booster=None,\n",
              "                                                            colsample_bylevel=None,\n",
              "                                                            colsample_bynode=None,...\n",
              "                                                                112, 113, 114,\n",
              "                                                                115, 116, 117,\n",
              "                                                                118, 119, 120,\n",
              "                                                                121, 122, 123,\n",
              "                                                                124, 125, 126,\n",
              "                                                                127, 128, 129, ...],\n",
              "                                        'model__reg_alpha': [0.001,\n",
              "                                                             0.0027825594022071257,\n",
              "                                                             0.007742636826811269,\n",
              "                                                             0.021544346900318832,\n",
              "                                                             0.05994842503189409,\n",
              "                                                             0.1668100537200059,\n",
              "                                                             0.46415888336127775,\n",
              "                                                             1.2915496650148828,\n",
              "                                                             3.593813663804626,\n",
              "                                                             10.0],\n",
              "                                        'model__subsample': [0.2, 0.3, 0.4, 0.5,\n",
              "                                                             0.6, 0.7, 0.8,\n",
              "                                                             0.9]},\n",
              "                   random_state=0, scoring='recall')"
            ]
          },
          "execution_count": 354,
          "metadata": {},
          "output_type": "execute_result"
        }
      ],
      "source": [
        "random_xgbc.fit(X_train, y_train)"
      ]
    },
    {
      "cell_type": "code",
      "execution_count": null,
      "metadata": {
        "id": "Efp6yewkJKkt",
        "outputId": "c7c5eb1e-6dd7-42f7-dc5f-fede80bf782d"
      },
      "outputs": [
        {
          "data": {
            "text/html": [
              "<div>\n",
              "<style scoped>\n",
              "    .dataframe tbody tr th:only-of-type {\n",
              "        vertical-align: middle;\n",
              "    }\n",
              "\n",
              "    .dataframe tbody tr th {\n",
              "        vertical-align: top;\n",
              "    }\n",
              "\n",
              "    .dataframe thead th {\n",
              "        text-align: right;\n",
              "    }\n",
              "</style>\n",
              "<table border=\"1\" class=\"dataframe\">\n",
              "  <thead>\n",
              "    <tr style=\"text-align: right;\">\n",
              "      <th></th>\n",
              "      <th>mean_fit_time</th>\n",
              "      <th>std_fit_time</th>\n",
              "      <th>mean_score_time</th>\n",
              "      <th>std_score_time</th>\n",
              "      <th>param_model__subsample</th>\n",
              "      <th>param_model__reg_alpha</th>\n",
              "      <th>param_model__n_estimators</th>\n",
              "      <th>param_model__max_depth</th>\n",
              "      <th>param_model__learning_rate</th>\n",
              "      <th>param_model__gamma</th>\n",
              "      <th>...</th>\n",
              "      <th>param_balancing</th>\n",
              "      <th>params</th>\n",
              "      <th>split0_test_score</th>\n",
              "      <th>split1_test_score</th>\n",
              "      <th>split2_test_score</th>\n",
              "      <th>split3_test_score</th>\n",
              "      <th>split4_test_score</th>\n",
              "      <th>mean_test_score</th>\n",
              "      <th>std_test_score</th>\n",
              "      <th>rank_test_score</th>\n",
              "    </tr>\n",
              "  </thead>\n",
              "  <tbody>\n",
              "    <tr>\n",
              "      <th>6</th>\n",
              "      <td>2.696998</td>\n",
              "      <td>0.096693</td>\n",
              "      <td>0.029597</td>\n",
              "      <td>0.001356</td>\n",
              "      <td>0.7</td>\n",
              "      <td>0.464159</td>\n",
              "      <td>180</td>\n",
              "      <td>1</td>\n",
              "      <td>0.34</td>\n",
              "      <td>9</td>\n",
              "      <td>...</td>\n",
              "      <td>SMOTE()</td>\n",
              "      <td>{'model__subsample': 0.7, 'model__reg_alpha': ...</td>\n",
              "      <td>0.542945</td>\n",
              "      <td>0.552147</td>\n",
              "      <td>0.570552</td>\n",
              "      <td>0.549080</td>\n",
              "      <td>0.539877</td>\n",
              "      <td>0.550920</td>\n",
              "      <td>0.010732</td>\n",
              "      <td>1</td>\n",
              "    </tr>\n",
              "    <tr>\n",
              "      <th>5</th>\n",
              "      <td>2.585598</td>\n",
              "      <td>0.163814</td>\n",
              "      <td>0.029198</td>\n",
              "      <td>0.002484</td>\n",
              "      <td>0.5</td>\n",
              "      <td>0.0599484</td>\n",
              "      <td>195</td>\n",
              "      <td>1</td>\n",
              "      <td>0.35</td>\n",
              "      <td>7</td>\n",
              "      <td>...</td>\n",
              "      <td>SMOTE()</td>\n",
              "      <td>{'model__subsample': 0.5, 'model__reg_alpha': ...</td>\n",
              "      <td>0.536810</td>\n",
              "      <td>0.549080</td>\n",
              "      <td>0.555215</td>\n",
              "      <td>0.533742</td>\n",
              "      <td>0.546012</td>\n",
              "      <td>0.544172</td>\n",
              "      <td>0.007904</td>\n",
              "      <td>2</td>\n",
              "    </tr>\n",
              "    <tr>\n",
              "      <th>3</th>\n",
              "      <td>5.103198</td>\n",
              "      <td>0.323655</td>\n",
              "      <td>0.032600</td>\n",
              "      <td>0.002867</td>\n",
              "      <td>0.5</td>\n",
              "      <td>0.0599484</td>\n",
              "      <td>142</td>\n",
              "      <td>5</td>\n",
              "      <td>0.18</td>\n",
              "      <td>6</td>\n",
              "      <td>...</td>\n",
              "      <td>SMOTE()</td>\n",
              "      <td>{'model__subsample': 0.5, 'model__reg_alpha': ...</td>\n",
              "      <td>0.500000</td>\n",
              "      <td>0.533742</td>\n",
              "      <td>0.549080</td>\n",
              "      <td>0.546012</td>\n",
              "      <td>0.521472</td>\n",
              "      <td>0.530061</td>\n",
              "      <td>0.017928</td>\n",
              "      <td>3</td>\n",
              "    </tr>\n",
              "    <tr>\n",
              "      <th>1</th>\n",
              "      <td>2.356596</td>\n",
              "      <td>0.137912</td>\n",
              "      <td>0.033409</td>\n",
              "      <td>0.001963</td>\n",
              "      <td>0.9</td>\n",
              "      <td>0.0215443</td>\n",
              "      <td>105</td>\n",
              "      <td>3</td>\n",
              "      <td>0.85</td>\n",
              "      <td>10</td>\n",
              "      <td>...</td>\n",
              "      <td>SMOTE()</td>\n",
              "      <td>{'model__subsample': 0.9, 'model__reg_alpha': ...</td>\n",
              "      <td>0.515337</td>\n",
              "      <td>0.518405</td>\n",
              "      <td>0.533742</td>\n",
              "      <td>0.536810</td>\n",
              "      <td>0.506135</td>\n",
              "      <td>0.522086</td>\n",
              "      <td>0.011543</td>\n",
              "      <td>4</td>\n",
              "    </tr>\n",
              "    <tr>\n",
              "      <th>7</th>\n",
              "      <td>3.981598</td>\n",
              "      <td>0.099883</td>\n",
              "      <td>0.029601</td>\n",
              "      <td>0.002060</td>\n",
              "      <td>0.9</td>\n",
              "      <td>0.0599484</td>\n",
              "      <td>111</td>\n",
              "      <td>7</td>\n",
              "      <td>0.75</td>\n",
              "      <td>10</td>\n",
              "      <td>...</td>\n",
              "      <td>None</td>\n",
              "      <td>{'model__subsample': 0.9, 'model__reg_alpha': ...</td>\n",
              "      <td>0.487730</td>\n",
              "      <td>0.524540</td>\n",
              "      <td>0.533742</td>\n",
              "      <td>0.533742</td>\n",
              "      <td>0.487730</td>\n",
              "      <td>0.513497</td>\n",
              "      <td>0.021305</td>\n",
              "      <td>5</td>\n",
              "    </tr>\n",
              "  </tbody>\n",
              "</table>\n",
              "<p>5 rows × 21 columns</p>\n",
              "</div>"
            ],
            "text/plain": [
              "   mean_fit_time  std_fit_time  mean_score_time  std_score_time  \\\n",
              "6       2.696998      0.096693         0.029597        0.001356   \n",
              "5       2.585598      0.163814         0.029198        0.002484   \n",
              "3       5.103198      0.323655         0.032600        0.002867   \n",
              "1       2.356596      0.137912         0.033409        0.001963   \n",
              "7       3.981598      0.099883         0.029601        0.002060   \n",
              "\n",
              "  param_model__subsample param_model__reg_alpha param_model__n_estimators  \\\n",
              "6                    0.7               0.464159                       180   \n",
              "5                    0.5              0.0599484                       195   \n",
              "3                    0.5              0.0599484                       142   \n",
              "1                    0.9              0.0215443                       105   \n",
              "7                    0.9              0.0599484                       111   \n",
              "\n",
              "  param_model__max_depth param_model__learning_rate param_model__gamma  ...  \\\n",
              "6                      1                       0.34                  9  ...   \n",
              "5                      1                       0.35                  7  ...   \n",
              "3                      5                       0.18                  6  ...   \n",
              "1                      3                       0.85                 10  ...   \n",
              "7                      7                       0.75                 10  ...   \n",
              "\n",
              "  param_balancing                                             params  \\\n",
              "6         SMOTE()  {'model__subsample': 0.7, 'model__reg_alpha': ...   \n",
              "5         SMOTE()  {'model__subsample': 0.5, 'model__reg_alpha': ...   \n",
              "3         SMOTE()  {'model__subsample': 0.5, 'model__reg_alpha': ...   \n",
              "1         SMOTE()  {'model__subsample': 0.9, 'model__reg_alpha': ...   \n",
              "7            None  {'model__subsample': 0.9, 'model__reg_alpha': ...   \n",
              "\n",
              "  split0_test_score  split1_test_score  split2_test_score  split3_test_score  \\\n",
              "6          0.542945           0.552147           0.570552           0.549080   \n",
              "5          0.536810           0.549080           0.555215           0.533742   \n",
              "3          0.500000           0.533742           0.549080           0.546012   \n",
              "1          0.515337           0.518405           0.533742           0.536810   \n",
              "7          0.487730           0.524540           0.533742           0.533742   \n",
              "\n",
              "   split4_test_score  mean_test_score  std_test_score  rank_test_score  \n",
              "6           0.539877         0.550920        0.010732                1  \n",
              "5           0.546012         0.544172        0.007904                2  \n",
              "3           0.521472         0.530061        0.017928                3  \n",
              "1           0.506135         0.522086        0.011543                4  \n",
              "7           0.487730         0.513497        0.021305                5  \n",
              "\n",
              "[5 rows x 21 columns]"
            ]
          },
          "execution_count": 355,
          "metadata": {},
          "output_type": "execute_result"
        }
      ],
      "source": [
        "pd.DataFrame(random_xgbc.cv_results_).sort_values(by='rank_test_score').head()"
      ]
    },
    {
      "cell_type": "code",
      "execution_count": null,
      "metadata": {
        "id": "730RbqFYJKkt",
        "outputId": "d19e3f22-404f-4b24-b1ab-652bfc1eb640"
      },
      "outputs": [
        {
          "name": "stdout",
          "output_type": "stream",
          "text": [
            "XGBoost\n",
            "Best_score: 0.550920245398773\n",
            "Best_params: {'model__subsample': 0.7, 'model__reg_alpha': 0.46415888336127775, 'model__n_estimators': 180, 'model__max_depth': 1, 'model__learning_rate': 0.34, 'model__gamma': 9, 'model__colsample_bytree': 0.8, 'balancing': SMOTE()}\n"
          ]
        }
      ],
      "source": [
        "print('XGBoost')\n",
        "print('Best_score:', random_xgbc.best_score_)\n",
        "print('Best_params:', random_xgbc.best_params_)"
      ]
    },
    {
      "cell_type": "code",
      "execution_count": null,
      "metadata": {
        "id": "gtVUrbc3JKku"
      },
      "outputs": [],
      "source": []
    },
    {
      "cell_type": "markdown",
      "metadata": {
        "id": "pKE4OS6tJKku"
      },
      "source": [
        "## **Use the best estimator to predict test set**"
      ]
    },
    {
      "cell_type": "code",
      "execution_count": null,
      "metadata": {
        "id": "D7X6Nw8VJKkv",
        "outputId": "c506563b-58a4-48b1-fbf6-cd75ec9971c1"
      },
      "outputs": [
        {
          "data": {
            "text/plain": [
              "0.5331695331695332"
            ]
          },
          "execution_count": 357,
          "metadata": {},
          "output_type": "execute_result"
        }
      ],
      "source": [
        "# best model\n",
        "gbc_tuning = random_gbc.best_estimator_\n",
        "\n",
        "# fitting\n",
        "gbc_tuning.fit(X_train, y_train)\n",
        "\n",
        "# predict\n",
        "y_pred_gbc_tuning = gbc_tuning.predict(X_test)\n",
        "\n",
        "# recall score\n",
        "recall_gbc_tuning = recall_score(y_test, y_pred_gbc_tuning)\n",
        "recall_gbc_tuning"
      ]
    },
    {
      "cell_type": "code",
      "execution_count": null,
      "metadata": {
        "id": "no1RJehkJKkw",
        "outputId": "db4b1b14-0a0d-4eba-ee2b-944c18f21a7b"
      },
      "outputs": [
        {
          "data": {
            "text/plain": [
              "0.5036855036855037"
            ]
          },
          "execution_count": 362,
          "metadata": {},
          "output_type": "execute_result"
        }
      ],
      "source": [
        "# best model\n",
        "xgbc_tuning = random_xgbc.best_estimator_\n",
        "\n",
        "# fitting\n",
        "xgbc_tuning.fit(X_train, y_train)\n",
        "\n",
        "# predict\n",
        "y_pred_xgbc_tuning = xgbc_tuning.predict(X_test)\n",
        "\n",
        "# recall score\n",
        "recall_xgbc_tuning = recall_score(y_test, y_pred_xgbc_tuning)\n",
        "recall_xgbc_tuning"
      ]
    },
    {
      "cell_type": "code",
      "execution_count": null,
      "metadata": {
        "id": "ySljfDytJKk3",
        "outputId": "79b67a9b-47a5-454f-fa83-7a1e711b6901"
      },
      "outputs": [
        {
          "data": {
            "text/html": [
              "<div>\n",
              "<style scoped>\n",
              "    .dataframe tbody tr th:only-of-type {\n",
              "        vertical-align: middle;\n",
              "    }\n",
              "\n",
              "    .dataframe tbody tr th {\n",
              "        vertical-align: top;\n",
              "    }\n",
              "\n",
              "    .dataframe thead th {\n",
              "        text-align: right;\n",
              "    }\n",
              "</style>\n",
              "<table border=\"1\" class=\"dataframe\">\n",
              "  <thead>\n",
              "    <tr style=\"text-align: right;\">\n",
              "      <th></th>\n",
              "      <th>Model</th>\n",
              "      <th>Recall</th>\n",
              "    </tr>\n",
              "  </thead>\n",
              "  <tbody>\n",
              "    <tr>\n",
              "      <th>0</th>\n",
              "      <td>GradientBoosting</td>\n",
              "      <td>0.533170</td>\n",
              "    </tr>\n",
              "    <tr>\n",
              "      <th>1</th>\n",
              "      <td>XGBoost</td>\n",
              "      <td>0.503686</td>\n",
              "    </tr>\n",
              "  </tbody>\n",
              "</table>\n",
              "</div>"
            ],
            "text/plain": [
              "              Model    Recall\n",
              "0  GradientBoosting  0.533170\n",
              "1           XGBoost  0.503686"
            ]
          },
          "execution_count": 364,
          "metadata": {},
          "output_type": "execute_result"
        }
      ],
      "source": [
        "score_list = [recall_gbc_tuning, recall_xgbc_tuning]\n",
        "\n",
        "models = ['GradientBoosting', 'XGBoost']\n",
        "\n",
        "score_after_tuning = pd.DataFrame({\n",
        "    'Model': models,\n",
        "    'Recall': score_list\n",
        "})\n",
        "\n",
        "score_after_tuning"
      ]
    },
    {
      "cell_type": "code",
      "execution_count": null,
      "metadata": {
        "id": "bmQ6EogGJKk5"
      },
      "outputs": [],
      "source": []
    },
    {
      "cell_type": "markdown",
      "metadata": {
        "id": "X2PvL_ZlJKk5"
      },
      "source": [
        "## **Recall score in Test Set**"
      ]
    },
    {
      "cell_type": "code",
      "execution_count": null,
      "metadata": {
        "id": "U-EUN_hGJKk6",
        "outputId": "6c983f58-c185-4b63-c08d-44b3fa533372"
      },
      "outputs": [
        {
          "data": {
            "text/html": [
              "<div>\n",
              "<style scoped>\n",
              "    .dataframe tbody tr th:only-of-type {\n",
              "        vertical-align: middle;\n",
              "    }\n",
              "\n",
              "    .dataframe tbody tr th {\n",
              "        vertical-align: top;\n",
              "    }\n",
              "\n",
              "    .dataframe thead th {\n",
              "        text-align: right;\n",
              "    }\n",
              "</style>\n",
              "<table border=\"1\" class=\"dataframe\">\n",
              "  <thead>\n",
              "    <tr style=\"text-align: right;\">\n",
              "      <th></th>\n",
              "      <th>Recall</th>\n",
              "    </tr>\n",
              "  </thead>\n",
              "  <tbody>\n",
              "    <tr>\n",
              "      <th>GradientBoosting</th>\n",
              "      <td>0.503686</td>\n",
              "    </tr>\n",
              "    <tr>\n",
              "      <th>XGBoost</th>\n",
              "      <td>0.498771</td>\n",
              "    </tr>\n",
              "  </tbody>\n",
              "</table>\n",
              "</div>"
            ],
            "text/plain": [
              "                    Recall\n",
              "GradientBoosting  0.503686\n",
              "XGBoost           0.498771"
            ]
          },
          "execution_count": 365,
          "metadata": {},
          "output_type": "execute_result"
        }
      ],
      "source": [
        "score_before_tuning"
      ]
    },
    {
      "cell_type": "code",
      "execution_count": null,
      "metadata": {
        "id": "X7GjpXMiJKk6",
        "outputId": "7d8f6026-5498-4708-a2f7-ac94b3434079"
      },
      "outputs": [
        {
          "data": {
            "text/html": [
              "<div>\n",
              "<style scoped>\n",
              "    .dataframe tbody tr th:only-of-type {\n",
              "        vertical-align: middle;\n",
              "    }\n",
              "\n",
              "    .dataframe tbody tr th {\n",
              "        vertical-align: top;\n",
              "    }\n",
              "\n",
              "    .dataframe thead th {\n",
              "        text-align: right;\n",
              "    }\n",
              "</style>\n",
              "<table border=\"1\" class=\"dataframe\">\n",
              "  <thead>\n",
              "    <tr style=\"text-align: right;\">\n",
              "      <th></th>\n",
              "      <th>Model</th>\n",
              "      <th>Recall</th>\n",
              "    </tr>\n",
              "  </thead>\n",
              "  <tbody>\n",
              "    <tr>\n",
              "      <th>0</th>\n",
              "      <td>GradientBoosting</td>\n",
              "      <td>0.533170</td>\n",
              "    </tr>\n",
              "    <tr>\n",
              "      <th>1</th>\n",
              "      <td>XGBoost</td>\n",
              "      <td>0.503686</td>\n",
              "    </tr>\n",
              "  </tbody>\n",
              "</table>\n",
              "</div>"
            ],
            "text/plain": [
              "              Model    Recall\n",
              "0  GradientBoosting  0.533170\n",
              "1           XGBoost  0.503686"
            ]
          },
          "execution_count": 366,
          "metadata": {},
          "output_type": "execute_result"
        }
      ],
      "source": [
        "score_after_tuning"
      ]
    },
    {
      "cell_type": "code",
      "execution_count": null,
      "metadata": {
        "id": "hjqv779oJKk7",
        "outputId": "1331d87f-f415-4f4f-8509-b4569ef2a492"
      },
      "outputs": [
        {
          "name": "stdout",
          "output_type": "stream",
          "text": [
            "GradientBoostingClassifier\n",
            "              precision    recall  f1-score   support\n",
            "\n",
            "           0       0.88      0.91      0.90      1593\n",
            "           1       0.61      0.53      0.57       407\n",
            "\n",
            "    accuracy                           0.84      2000\n",
            "   macro avg       0.75      0.72      0.73      2000\n",
            "weighted avg       0.83      0.84      0.83      2000\n",
            "\n"
          ]
        }
      ],
      "source": [
        "print('GradientBoostingClassifier')\n",
        "print(classification_report(y_test, y_pred_gbc_tuning))"
      ]
    },
    {
      "cell_type": "code",
      "execution_count": null,
      "metadata": {
        "id": "M1Blv6pQJKk9",
        "outputId": "7317230b-c631-4b95-b716-6765220fb67d"
      },
      "outputs": [
        {
          "name": "stdout",
          "output_type": "stream",
          "text": [
            "XGBoost\n",
            "              precision    recall  f1-score   support\n",
            "\n",
            "           0       0.88      0.93      0.90      1593\n",
            "           1       0.64      0.50      0.56       407\n",
            "\n",
            "    accuracy                           0.84      2000\n",
            "   macro avg       0.76      0.72      0.73      2000\n",
            "weighted avg       0.83      0.84      0.83      2000\n",
            "\n"
          ]
        }
      ],
      "source": [
        "print('XGBoost')\n",
        "print(classification_report(y_test, y_pred_xgbc_tuning))"
      ]
    },
    {
      "cell_type": "code",
      "execution_count": null,
      "metadata": {
        "id": "nU5NkYRdJKk-",
        "outputId": "0cd60d90-a0a8-4b2a-cf4c-5d8ed0a615c0"
      },
      "outputs": [
        {
          "data": {
            "image/png": "[encoded data removed]",
            "text/plain": [
              "<Figure size 576x360 with 2 Axes>"
            ]
          },
          "metadata": {},
          "output_type": "display_data"
        }
      ],
      "source": [
        "# GradientBoost after tuning\n",
        "f, ax = plt.subplots(figsize=(8, 5))\n",
        "sns.heatmap(confusion_matrix(y_test, y_pred_gbc_tuning), annot=True, fmt='.0f', ax=ax)\n",
        "plt.xlabel('y Prediksi')\n",
        "plt.ylabel('y Aktual')\n",
        "plt.title('GradientBoosting after tuning');"
      ]
    },
    {
      "cell_type": "code",
      "execution_count": null,
      "metadata": {
        "id": "On_m68VXJKk-",
        "outputId": "651729ff-b851-4a9d-e44c-5a393a445a07"
      },
      "outputs": [
        {
          "data": {
            "image/png": "[encoded data removed]",
            "text/plain": [
              "<Figure size 576x360 with 2 Axes>"
            ]
          },
          "metadata": {},
          "output_type": "display_data"
        }
      ],
      "source": [
        "# Model XGBoost after tuning\n",
        "\n",
        "f, ax = plt.subplots(figsize=(8, 5))\n",
        "sns.heatmap(confusion_matrix(y_test, y_pred_xgbc_tuning), annot=True, fmt='.0f', ax=ax)\n",
        "plt.xlabel('y Prediksi')\n",
        "plt.ylabel('y Aktual')\n",
        "plt.title('XGBoost after tuning');"
      ]
    },
    {
      "cell_type": "markdown",
      "metadata": {
        "id": "OWkJUp0OJKk-"
      },
      "source": [
        "## **Summary**\n",
        "\n",
        "Benchmark Model terbaik untuk dataset ini adalah Gradient Boost\n",
        "- Recall val set  : 0.53\n",
        "- Recall test set : 0.50\n",
        "\n",
        "Dilakukan hyperparameter tuning\n",
        "- Recall val set  : 0.54\n",
        "- Recall test set : 0.53\n",
        "\n",
        "Hyperparameter tuning berhasil menaikkan Recall dari model dengan Gradient Boost hanya sebesar 0.03.\n",
        "Performa model sebesar 0.53 bisa dikatakan buruk karena jumlah False Negative hampir sama dengan jumlah True Positive.\n",
        "\n",
        "Metric recall digunakan karena cost function dari False Negative dianggap lebih besar dari False Positif, sehingga jumlah False Negative yang dihasilkan oleh model harus diminimalkan.\n",
        "Namun, karena jumlah kelas 1 hanya sekitar 20% dari jumlah data, menggunakan teknik resampling saja belum cukup untuk bisa menghasilkan model dengan performa optimal,\n",
        "harus dicoba dengan melakukan pendekatan lain, misalnya dikombinasikan dengan feature engineering.\n"
      ]
    },
    {
      "cell_type": "markdown",
      "source": [
        "## **Latihan PCA & K-Means**\n",
        "\n",
        "\n",
        "**Gunakan dataset Creditcard**\n",
        "\n",
        "- Lakukan EDA untuk memahami dataset yang sedang dikerjakan.\n",
        "- Lakukan data cleaning yang diperlukan dan lakukan scaling dengan Standardscaler.\n",
        "\n",
        "- Lakukan PCA, lalu coba analisis antara jumlah komponen dan % informasi yang diekstraksi (variance explained).\n",
        "\n",
        "- Untuk tujuan latihan kali ini, lakukan clustering dengan menggunakan 2 principal components, lalu cari jumlah cluster terbaik dengan elbow method dan silhouette score.\n",
        "- Interpretasikan hasil clustering-nya."
      ],
      "metadata": {
        "id": "DtGp2QZRbPOk"
      }
    }
  ],
  "metadata": {
    "interpreter": {
      "hash": "37eb40c3388cfde35488e2d005b0d69ca91ddeff8a429754d4da636d3f888e5e"
    },
    "kernelspec": {
      "display_name": "Python 3.7.6 64-bit ('base': conda)",
      "name": "python3"
    },
    "language_info": {
      "codemirror_mode": {
        "name": "ipython",
        "version": 3
      },
      "file_extension": ".py",
      "mimetype": "text/x-python",
      "name": "python",
      "nbconvert_exporter": "python",
      "pygments_lexer": "ipython3",
      "version": "3.7.6"
    },
    "orig_nbformat": 4,
    "colab": {
      "provenance": []
    }
  },
  "nbformat": 4,
  "nbformat_minor": 0
}